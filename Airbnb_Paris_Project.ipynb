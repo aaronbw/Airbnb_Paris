{
 "cells": [
  {
   "cell_type": "markdown",
   "metadata": {
    "collapsed": true
   },
   "source": [
    "<a name=\"top\"></a>\n",
    "# Analysis of Airbnb Listings in Paris\n",
    "Data provided by [Inside Airbnb](http://insideairbnb.com/get-the-data.html) under a Creative Commons CC0 1.0 Universal (CC0 1.0) \"Public Domain Dedication\" license.\n",
    "\n",
    "Data Scraped: 02/14/21\n",
    "\n",
    "Click the link below to jump to the CRISP-DM steps taken for this project:  \n",
    "- **[Business Understanding](#business_understanding)**\n",
    "- **[Data Understanding](#data_understanding)**\n",
    "    - [Columns with no NaN values](#no_nan)\n",
    "    - [Outliers in the Price Column](#price_outliers)\n",
    "    - [Columns with NaN values](#nan)\n",
    "    - [Coorelations in Quantitative Data](#correlations)\n",
    "    - [Final Review of Categorical Features](#final_review)\n",
    "    - [Listings Data Final Results](#final_results)\n",
    "    - [Exploring calendar.csv](#calendar)\n",
    "    - [Visualize the AVG Price](#visualize)\n",
    "    - [Exploring reviews.csv](#reviews)\n",
    "- **[Data Preparation](#data_prep)**\n",
    "- **[Modeling](#modeling)**\n",
    "    - [Lasso Model - Price](#lasso_price)\n",
    "    - [Lasso Model - Reviews](#lasso_reviews)\n",
    "    - [Other Explored Models](#other_models)\n",
    "- **[Evaluation](#evaluation)**\n",
    "    - [Price](#eval_price)\n",
    "    - [Reviews](#eval_reviews)\n",
    "- **[Deployment](#deployment)**  \n",
    "- **[Data Export for Tableau](#export)**"
   ]
  },
  {
   "cell_type": "markdown",
   "metadata": {},
   "source": [
    "***\n",
    "<a name=\"business_understanding\"></a>\n",
    "## Business Understanding\n",
    "### Business Objective  \n",
    "Given that Paris has been selected as the host of the 2024 Olympic games, the objective of this analysis is to determine the variables in Airbnb listings for the \"Entire home/apt\" room type in Paris that impact listing price the most. With this information we can be better informed when selecting a potential or existing property to host on Airbnb in Paris.\n",
    "\n",
    "### Business Questions  \n",
    "\n",
    "1. Can we create a model that accurately predicts the price or review score based on features in this dataset?\n",
    "2. Which listing features have the strongest correlations to 'price'?\n",
    "3. Which listing features have the strongest correlations to 'review_scores_rating'?\n",
    "4. Which Paris neighborhoods have the highest average listing price?\n",
    "5. Which Paris neighborhoods have the most/least amount of listings? Do the neighborhoods with fewer listings have higher average listing prices?  \n",
    "6. Are there times of the year that listing prices increase or decrease?\n",
    "    \n",
    "[Back to Top](#top)"
   ]
  },
  {
   "cell_type": "markdown",
   "metadata": {},
   "source": [
    "***\n",
    "<a name=\"data_understanding\"></a>\n",
    "## Data Understanding\n",
    "Datasets for Airbnb listings in Paris are maintained and provided by [Inside Airbnb](http://insideairbnb.com/get-the-data.html). This data will be used in order to gain better insight into the business questions above.\n",
    "\n",
    "The three Airbnb datasets for Paris provided by Inside Airbnb that will be explored in this analysis are:\n",
    "\n",
    "- [listings.csv](#listings) - General data pulled for each listing ID currently on Airbnb in Paris.  \n",
    "- [calendar.csv](#calendar) - Calendars of availability for each listing in Paris over a set period of time.  \n",
    "- [reviews.csv](#reviews) - All reviews left for all listing IDs currently on Airbnb in Paris.  \n",
    "\n",
    "[Back to Top](#top)"
   ]
  },
  {
   "cell_type": "code",
   "execution_count": 1,
   "metadata": {},
   "outputs": [],
   "source": [
    "import os\n",
    "import numpy as np\n",
    "import pandas as pd\n",
    "import matplotlib.pyplot as plt\n",
    "\n",
    "# Used for predictive modeling\n",
    "from sklearn.linear_model import LinearRegression\n",
    "from sklearn.model_selection import train_test_split\n",
    "from sklearn.metrics import r2_score, mean_squared_error\n",
    "\n",
    "# Used for plotting\n",
    "%matplotlib inline\n",
    "import matplotlib as mpl\n",
    "import matplotlib.pyplot as plt\n",
    "# mpl.rc('axes', labelsize=14)\n",
    "# mpl.rc('xtick', labelsize=12)\n",
    "# mpl.rc('ytick', labelsize=12)\n",
    "\n",
    "import seaborn as sns\n",
    "\n",
    "# Filter to ignore math related warnings\n",
    "import warnings\n",
    "warnings.filterwarnings(action=\"ignore\", message=\"^internal gelsd\")"
   ]
  },
  {
   "cell_type": "markdown",
   "metadata": {},
   "source": [
    "***\n",
    "<a name=\"listings\"></a>\n",
    "### Exploring listings.csv\n",
    "Initial load of the listings.csv file for Pairs Airbnb listings, created by [Inside Airbnb](http://insideairbnb.com/get-the-data.html), in order to get to know the data.\n",
    "\n",
    "[Back to Top](#top)"
   ]
  },
  {
   "cell_type": "code",
   "execution_count": 2,
   "metadata": {},
   "outputs": [],
   "source": [
    "listings = pd.read_csv('./listings.csv')"
   ]
  },
  {
   "cell_type": "code",
   "execution_count": 3,
   "metadata": {
    "scrolled": true
   },
   "outputs": [
    {
     "name": "stdout",
     "output_type": "stream",
     "text": [
      "<class 'pandas.core.frame.DataFrame'>\n",
      "RangeIndex: 64690 entries, 0 to 64689\n",
      "Data columns (total 74 columns):\n",
      " #   Column                                        Non-Null Count  Dtype  \n",
      "---  ------                                        --------------  -----  \n",
      " 0   id                                            64690 non-null  int64  \n",
      " 1   listing_url                                   64690 non-null  object \n",
      " 2   scrape_id                                     64690 non-null  int64  \n",
      " 3   last_scraped                                  64690 non-null  object \n",
      " 4   name                                          64627 non-null  object \n",
      " 5   description                                   63204 non-null  object \n",
      " 6   neighborhood_overview                         38740 non-null  object \n",
      " 7   picture_url                                   64689 non-null  object \n",
      " 8   host_id                                       64690 non-null  int64  \n",
      " 9   host_url                                      64690 non-null  object \n",
      " 10  host_name                                     64657 non-null  object \n",
      " 11  host_since                                    64657 non-null  object \n",
      " 12  host_location                                 64522 non-null  object \n",
      " 13  host_about                                    32733 non-null  object \n",
      " 14  host_response_time                            23346 non-null  object \n",
      " 15  host_response_rate                            23346 non-null  object \n",
      " 16  host_acceptance_rate                          31919 non-null  object \n",
      " 17  host_is_superhost                             64657 non-null  object \n",
      " 18  host_thumbnail_url                            64657 non-null  object \n",
      " 19  host_picture_url                              64657 non-null  object \n",
      " 20  host_neighbourhood                            49965 non-null  object \n",
      " 21  host_listings_count                           64657 non-null  float64\n",
      " 22  host_total_listings_count                     64657 non-null  float64\n",
      " 23  host_verifications                            64690 non-null  object \n",
      " 24  host_has_profile_pic                          64657 non-null  object \n",
      " 25  host_identity_verified                        64657 non-null  object \n",
      " 26  neighbourhood                                 38740 non-null  object \n",
      " 27  neighbourhood_cleansed                        64690 non-null  object \n",
      " 28  neighbourhood_group_cleansed                  0 non-null      float64\n",
      " 29  latitude                                      64690 non-null  float64\n",
      " 30  longitude                                     64690 non-null  float64\n",
      " 31  property_type                                 64690 non-null  object \n",
      " 32  room_type                                     64690 non-null  object \n",
      " 33  accommodates                                  64690 non-null  int64  \n",
      " 34  bathrooms                                     0 non-null      float64\n",
      " 35  bathrooms_text                                64564 non-null  object \n",
      " 36  bedrooms                                      51286 non-null  float64\n",
      " 37  beds                                          64075 non-null  float64\n",
      " 38  amenities                                     64690 non-null  object \n",
      " 39  price                                         64690 non-null  object \n",
      " 40  minimum_nights                                64690 non-null  int64  \n",
      " 41  maximum_nights                                64690 non-null  int64  \n",
      " 42  minimum_minimum_nights                        64677 non-null  float64\n",
      " 43  maximum_minimum_nights                        64677 non-null  float64\n",
      " 44  minimum_maximum_nights                        64677 non-null  float64\n",
      " 45  maximum_maximum_nights                        64677 non-null  float64\n",
      " 46  minimum_nights_avg_ntm                        64677 non-null  float64\n",
      " 47  maximum_nights_avg_ntm                        64677 non-null  float64\n",
      " 48  calendar_updated                              0 non-null      float64\n",
      " 49  has_availability                              64690 non-null  object \n",
      " 50  availability_30                               64690 non-null  int64  \n",
      " 51  availability_60                               64690 non-null  int64  \n",
      " 52  availability_90                               64690 non-null  int64  \n",
      " 53  availability_365                              64690 non-null  int64  \n",
      " 54  calendar_last_scraped                         64690 non-null  object \n",
      " 55  number_of_reviews                             64690 non-null  int64  \n",
      " 56  number_of_reviews_ltm                         64690 non-null  int64  \n",
      " 57  number_of_reviews_l30d                        64690 non-null  int64  \n",
      " 58  first_review                                  49228 non-null  object \n",
      " 59  last_review                                   49228 non-null  object \n",
      " 60  review_scores_rating                          48036 non-null  float64\n",
      " 61  review_scores_accuracy                        47989 non-null  float64\n",
      " 62  review_scores_cleanliness                     47998 non-null  float64\n",
      " 63  review_scores_checkin                         47972 non-null  float64\n",
      " 64  review_scores_communication                   47991 non-null  float64\n",
      " 65  review_scores_location                        47971 non-null  float64\n",
      " 66  review_scores_value                           47972 non-null  float64\n",
      " 67  license                                       20447 non-null  object \n",
      " 68  instant_bookable                              64690 non-null  object \n",
      " 69  calculated_host_listings_count                64690 non-null  int64  \n",
      " 70  calculated_host_listings_count_entire_homes   64690 non-null  int64  \n",
      " 71  calculated_host_listings_count_private_rooms  64690 non-null  int64  \n",
      " 72  calculated_host_listings_count_shared_rooms   64690 non-null  int64  \n",
      " 73  reviews_per_month                             49228 non-null  float64\n",
      "dtypes: float64(23), int64(17), object(34)\n",
      "memory usage: 36.5+ MB\n"
     ]
    }
   ],
   "source": [
    "listings.info()"
   ]
  },
  {
   "cell_type": "markdown",
   "metadata": {},
   "source": [
    "Our data source (listings.csv) is comprised of 64690 Airbnb listings in Paris with 74 columns of data for each listing."
   ]
  },
  {
   "cell_type": "code",
   "execution_count": 4,
   "metadata": {
    "scrolled": false
   },
   "outputs": [
    {
     "data": {
      "text/html": [
       "<div>\n",
       "<style scoped>\n",
       "    .dataframe tbody tr th:only-of-type {\n",
       "        vertical-align: middle;\n",
       "    }\n",
       "\n",
       "    .dataframe tbody tr th {\n",
       "        vertical-align: top;\n",
       "    }\n",
       "\n",
       "    .dataframe thead th {\n",
       "        text-align: right;\n",
       "    }\n",
       "</style>\n",
       "<table border=\"1\" class=\"dataframe\">\n",
       "  <thead>\n",
       "    <tr style=\"text-align: right;\">\n",
       "      <th></th>\n",
       "      <th>id</th>\n",
       "      <th>listing_url</th>\n",
       "      <th>scrape_id</th>\n",
       "      <th>last_scraped</th>\n",
       "      <th>name</th>\n",
       "      <th>description</th>\n",
       "      <th>neighborhood_overview</th>\n",
       "      <th>picture_url</th>\n",
       "      <th>host_id</th>\n",
       "      <th>host_url</th>\n",
       "      <th>...</th>\n",
       "      <th>review_scores_communication</th>\n",
       "      <th>review_scores_location</th>\n",
       "      <th>review_scores_value</th>\n",
       "      <th>license</th>\n",
       "      <th>instant_bookable</th>\n",
       "      <th>calculated_host_listings_count</th>\n",
       "      <th>calculated_host_listings_count_entire_homes</th>\n",
       "      <th>calculated_host_listings_count_private_rooms</th>\n",
       "      <th>calculated_host_listings_count_shared_rooms</th>\n",
       "      <th>reviews_per_month</th>\n",
       "    </tr>\n",
       "  </thead>\n",
       "  <tbody>\n",
       "    <tr>\n",
       "      <th>0</th>\n",
       "      <td>2577</td>\n",
       "      <td>https://www.airbnb.com/rooms/2577</td>\n",
       "      <td>20210208234805</td>\n",
       "      <td>2021-02-14</td>\n",
       "      <td>Loft for 4 by Canal Saint Martin</td>\n",
       "      <td>100 m2 loft (1100 sq feet) with high ceiling, ...</td>\n",
       "      <td>NaN</td>\n",
       "      <td>https://a0.muscache.com/pictures/09da057c-0120...</td>\n",
       "      <td>2827</td>\n",
       "      <td>https://www.airbnb.com/users/show/2827</td>\n",
       "      <td>...</td>\n",
       "      <td>10.0</td>\n",
       "      <td>10.0</td>\n",
       "      <td>10.0</td>\n",
       "      <td>NaN</td>\n",
       "      <td>t</td>\n",
       "      <td>1</td>\n",
       "      <td>1</td>\n",
       "      <td>0</td>\n",
       "      <td>0</td>\n",
       "      <td>0.04</td>\n",
       "    </tr>\n",
       "    <tr>\n",
       "      <th>1</th>\n",
       "      <td>3109</td>\n",
       "      <td>https://www.airbnb.com/rooms/3109</td>\n",
       "      <td>20210208234805</td>\n",
       "      <td>2021-02-13</td>\n",
       "      <td>zen and calm</td>\n",
       "      <td>&lt;b&gt;The space&lt;/b&gt;&lt;br /&gt;I bedroom appartment in ...</td>\n",
       "      <td>Good restaurants&lt;br /&gt;very close the Montparna...</td>\n",
       "      <td>https://a0.muscache.com/pictures/baeae9e2-cd53...</td>\n",
       "      <td>3631</td>\n",
       "      <td>https://www.airbnb.com/users/show/3631</td>\n",
       "      <td>...</td>\n",
       "      <td>10.0</td>\n",
       "      <td>10.0</td>\n",
       "      <td>10.0</td>\n",
       "      <td>NaN</td>\n",
       "      <td>f</td>\n",
       "      <td>1</td>\n",
       "      <td>1</td>\n",
       "      <td>0</td>\n",
       "      <td>0</td>\n",
       "      <td>0.18</td>\n",
       "    </tr>\n",
       "    <tr>\n",
       "      <th>2</th>\n",
       "      <td>5396</td>\n",
       "      <td>https://www.airbnb.com/rooms/5396</td>\n",
       "      <td>20210208234805</td>\n",
       "      <td>2021-02-12</td>\n",
       "      <td>Explore the heart of old Paris</td>\n",
       "      <td>Cozy, well-appointed and graciously designed s...</td>\n",
       "      <td>You are within walking distance to the Louvre,...</td>\n",
       "      <td>https://a0.muscache.com/pictures/52413/f9bf76f...</td>\n",
       "      <td>7903</td>\n",
       "      <td>https://www.airbnb.com/users/show/7903</td>\n",
       "      <td>...</td>\n",
       "      <td>10.0</td>\n",
       "      <td>10.0</td>\n",
       "      <td>8.0</td>\n",
       "      <td>7510402838018</td>\n",
       "      <td>t</td>\n",
       "      <td>1</td>\n",
       "      <td>1</td>\n",
       "      <td>0</td>\n",
       "      <td>0</td>\n",
       "      <td>1.64</td>\n",
       "    </tr>\n",
       "    <tr>\n",
       "      <th>3</th>\n",
       "      <td>7397</td>\n",
       "      <td>https://www.airbnb.com/rooms/7397</td>\n",
       "      <td>20210208234805</td>\n",
       "      <td>2021-02-14</td>\n",
       "      <td>MARAIS - 2ROOMS APT - 2/4 PEOPLE</td>\n",
       "      <td>VERY CONVENIENT, WITH THE BEST LOCATION !&lt;br /...</td>\n",
       "      <td>NaN</td>\n",
       "      <td>https://a0.muscache.com/pictures/67928287/330b...</td>\n",
       "      <td>2626</td>\n",
       "      <td>https://www.airbnb.com/users/show/2626</td>\n",
       "      <td>...</td>\n",
       "      <td>10.0</td>\n",
       "      <td>10.0</td>\n",
       "      <td>10.0</td>\n",
       "      <td>7510400829623</td>\n",
       "      <td>f</td>\n",
       "      <td>2</td>\n",
       "      <td>2</td>\n",
       "      <td>0</td>\n",
       "      <td>0</td>\n",
       "      <td>2.26</td>\n",
       "    </tr>\n",
       "    <tr>\n",
       "      <th>4</th>\n",
       "      <td>7964</td>\n",
       "      <td>https://www.airbnb.com/rooms/7964</td>\n",
       "      <td>20210208234805</td>\n",
       "      <td>2021-02-13</td>\n",
       "      <td>Large &amp; sunny flat with balcony !</td>\n",
       "      <td>Very large &amp; nice apartment all for you! &lt;br /...</td>\n",
       "      <td>NaN</td>\n",
       "      <td>https://a0.muscache.com/pictures/4471349/6fb3d...</td>\n",
       "      <td>22155</td>\n",
       "      <td>https://www.airbnb.com/users/show/22155</td>\n",
       "      <td>...</td>\n",
       "      <td>10.0</td>\n",
       "      <td>10.0</td>\n",
       "      <td>10.0</td>\n",
       "      <td>7510903576564</td>\n",
       "      <td>f</td>\n",
       "      <td>1</td>\n",
       "      <td>1</td>\n",
       "      <td>0</td>\n",
       "      <td>0</td>\n",
       "      <td>0.05</td>\n",
       "    </tr>\n",
       "  </tbody>\n",
       "</table>\n",
       "<p>5 rows × 74 columns</p>\n",
       "</div>"
      ],
      "text/plain": [
       "     id                        listing_url       scrape_id last_scraped  \\\n",
       "0  2577  https://www.airbnb.com/rooms/2577  20210208234805   2021-02-14   \n",
       "1  3109  https://www.airbnb.com/rooms/3109  20210208234805   2021-02-13   \n",
       "2  5396  https://www.airbnb.com/rooms/5396  20210208234805   2021-02-12   \n",
       "3  7397  https://www.airbnb.com/rooms/7397  20210208234805   2021-02-14   \n",
       "4  7964  https://www.airbnb.com/rooms/7964  20210208234805   2021-02-13   \n",
       "\n",
       "                                name  \\\n",
       "0   Loft for 4 by Canal Saint Martin   \n",
       "1                       zen and calm   \n",
       "2     Explore the heart of old Paris   \n",
       "3   MARAIS - 2ROOMS APT - 2/4 PEOPLE   \n",
       "4  Large & sunny flat with balcony !   \n",
       "\n",
       "                                         description  \\\n",
       "0  100 m2 loft (1100 sq feet) with high ceiling, ...   \n",
       "1  <b>The space</b><br />I bedroom appartment in ...   \n",
       "2  Cozy, well-appointed and graciously designed s...   \n",
       "3  VERY CONVENIENT, WITH THE BEST LOCATION !<br /...   \n",
       "4  Very large & nice apartment all for you! <br /...   \n",
       "\n",
       "                               neighborhood_overview  \\\n",
       "0                                                NaN   \n",
       "1  Good restaurants<br />very close the Montparna...   \n",
       "2  You are within walking distance to the Louvre,...   \n",
       "3                                                NaN   \n",
       "4                                                NaN   \n",
       "\n",
       "                                         picture_url  host_id  \\\n",
       "0  https://a0.muscache.com/pictures/09da057c-0120...     2827   \n",
       "1  https://a0.muscache.com/pictures/baeae9e2-cd53...     3631   \n",
       "2  https://a0.muscache.com/pictures/52413/f9bf76f...     7903   \n",
       "3  https://a0.muscache.com/pictures/67928287/330b...     2626   \n",
       "4  https://a0.muscache.com/pictures/4471349/6fb3d...    22155   \n",
       "\n",
       "                                  host_url  ... review_scores_communication  \\\n",
       "0   https://www.airbnb.com/users/show/2827  ...                        10.0   \n",
       "1   https://www.airbnb.com/users/show/3631  ...                        10.0   \n",
       "2   https://www.airbnb.com/users/show/7903  ...                        10.0   \n",
       "3   https://www.airbnb.com/users/show/2626  ...                        10.0   \n",
       "4  https://www.airbnb.com/users/show/22155  ...                        10.0   \n",
       "\n",
       "  review_scores_location review_scores_value        license instant_bookable  \\\n",
       "0                   10.0                10.0            NaN                t   \n",
       "1                   10.0                10.0            NaN                f   \n",
       "2                   10.0                 8.0  7510402838018                t   \n",
       "3                   10.0                10.0  7510400829623                f   \n",
       "4                   10.0                10.0  7510903576564                f   \n",
       "\n",
       "  calculated_host_listings_count calculated_host_listings_count_entire_homes  \\\n",
       "0                              1                                           1   \n",
       "1                              1                                           1   \n",
       "2                              1                                           1   \n",
       "3                              2                                           2   \n",
       "4                              1                                           1   \n",
       "\n",
       "  calculated_host_listings_count_private_rooms  \\\n",
       "0                                            0   \n",
       "1                                            0   \n",
       "2                                            0   \n",
       "3                                            0   \n",
       "4                                            0   \n",
       "\n",
       "  calculated_host_listings_count_shared_rooms reviews_per_month  \n",
       "0                                           0              0.04  \n",
       "1                                           0              0.18  \n",
       "2                                           0              1.64  \n",
       "3                                           0              2.26  \n",
       "4                                           0              0.05  \n",
       "\n",
       "[5 rows x 74 columns]"
      ]
     },
     "execution_count": 4,
     "metadata": {},
     "output_type": "execute_result"
    }
   ],
   "source": [
    "listings.head()"
   ]
  },
  {
   "cell_type": "code",
   "execution_count": 5,
   "metadata": {
    "scrolled": true
   },
   "outputs": [
    {
     "data": {
      "text/plain": [
       "Entire home/apt    55378\n",
       "Private room        7492\n",
       "Hotel room          1396\n",
       "Shared room          424\n",
       "Name: room_type, dtype: int64"
      ]
     },
     "execution_count": 5,
     "metadata": {},
     "output_type": "execute_result"
    }
   ],
   "source": [
    "# Checking the breakdown of the room_type data in order to narrow down the data to fit the scope of our bussiness objective.\n",
    "listings['room_type'].value_counts()"
   ]
  },
  {
   "cell_type": "code",
   "execution_count": 6,
   "metadata": {
    "scrolled": true
   },
   "outputs": [
    {
     "name": "stdout",
     "output_type": "stream",
     "text": [
      "<class 'pandas.core.frame.DataFrame'>\n",
      "Int64Index: 55378 entries, 0 to 64689\n",
      "Data columns (total 74 columns):\n",
      " #   Column                                        Non-Null Count  Dtype  \n",
      "---  ------                                        --------------  -----  \n",
      " 0   id                                            55378 non-null  int64  \n",
      " 1   listing_url                                   55378 non-null  object \n",
      " 2   scrape_id                                     55378 non-null  int64  \n",
      " 3   last_scraped                                  55378 non-null  object \n",
      " 4   name                                          55324 non-null  object \n",
      " 5   description                                   54177 non-null  object \n",
      " 6   neighborhood_overview                         33630 non-null  object \n",
      " 7   picture_url                                   55377 non-null  object \n",
      " 8   host_id                                       55378 non-null  int64  \n",
      " 9   host_url                                      55378 non-null  object \n",
      " 10  host_name                                     55346 non-null  object \n",
      " 11  host_since                                    55346 non-null  object \n",
      " 12  host_location                                 55232 non-null  object \n",
      " 13  host_about                                    28031 non-null  object \n",
      " 14  host_response_time                            19885 non-null  object \n",
      " 15  host_response_rate                            19885 non-null  object \n",
      " 16  host_acceptance_rate                          26964 non-null  object \n",
      " 17  host_is_superhost                             55346 non-null  object \n",
      " 18  host_thumbnail_url                            55346 non-null  object \n",
      " 19  host_picture_url                              55346 non-null  object \n",
      " 20  host_neighbourhood                            43287 non-null  object \n",
      " 21  host_listings_count                           55346 non-null  float64\n",
      " 22  host_total_listings_count                     55346 non-null  float64\n",
      " 23  host_verifications                            55378 non-null  object \n",
      " 24  host_has_profile_pic                          55346 non-null  object \n",
      " 25  host_identity_verified                        55346 non-null  object \n",
      " 26  neighbourhood                                 33630 non-null  object \n",
      " 27  neighbourhood_cleansed                        55378 non-null  object \n",
      " 28  neighbourhood_group_cleansed                  0 non-null      float64\n",
      " 29  latitude                                      55378 non-null  float64\n",
      " 30  longitude                                     55378 non-null  float64\n",
      " 31  property_type                                 55378 non-null  object \n",
      " 32  room_type                                     55378 non-null  object \n",
      " 33  accommodates                                  55378 non-null  int64  \n",
      " 34  bathrooms                                     0 non-null      float64\n",
      " 35  bathrooms_text                                55331 non-null  object \n",
      " 36  bedrooms                                      42346 non-null  float64\n",
      " 37  beds                                          55213 non-null  float64\n",
      " 38  amenities                                     55378 non-null  object \n",
      " 39  price                                         55378 non-null  object \n",
      " 40  minimum_nights                                55378 non-null  int64  \n",
      " 41  maximum_nights                                55378 non-null  int64  \n",
      " 42  minimum_minimum_nights                        55378 non-null  float64\n",
      " 43  maximum_minimum_nights                        55378 non-null  float64\n",
      " 44  minimum_maximum_nights                        55378 non-null  float64\n",
      " 45  maximum_maximum_nights                        55378 non-null  float64\n",
      " 46  minimum_nights_avg_ntm                        55378 non-null  float64\n",
      " 47  maximum_nights_avg_ntm                        55378 non-null  float64\n",
      " 48  calendar_updated                              0 non-null      float64\n",
      " 49  has_availability                              55378 non-null  object \n",
      " 50  availability_30                               55378 non-null  int64  \n",
      " 51  availability_60                               55378 non-null  int64  \n",
      " 52  availability_90                               55378 non-null  int64  \n",
      " 53  availability_365                              55378 non-null  int64  \n",
      " 54  calendar_last_scraped                         55378 non-null  object \n",
      " 55  number_of_reviews                             55378 non-null  int64  \n",
      " 56  number_of_reviews_ltm                         55378 non-null  int64  \n",
      " 57  number_of_reviews_l30d                        55378 non-null  int64  \n",
      " 58  first_review                                  42787 non-null  object \n",
      " 59  last_review                                   42787 non-null  object \n",
      " 60  review_scores_rating                          41739 non-null  float64\n",
      " 61  review_scores_accuracy                        41699 non-null  float64\n",
      " 62  review_scores_cleanliness                     41707 non-null  float64\n",
      " 63  review_scores_checkin                         41686 non-null  float64\n",
      " 64  review_scores_communication                   41702 non-null  float64\n",
      " 65  review_scores_location                        41686 non-null  float64\n",
      " 66  review_scores_value                           41686 non-null  float64\n",
      " 67  license                                       19245 non-null  object \n",
      " 68  instant_bookable                              55378 non-null  object \n",
      " 69  calculated_host_listings_count                55378 non-null  int64  \n",
      " 70  calculated_host_listings_count_entire_homes   55378 non-null  int64  \n",
      " 71  calculated_host_listings_count_private_rooms  55378 non-null  int64  \n",
      " 72  calculated_host_listings_count_shared_rooms   55378 non-null  int64  \n",
      " 73  reviews_per_month                             42787 non-null  float64\n",
      "dtypes: float64(23), int64(17), object(34)\n",
      "memory usage: 31.7+ MB\n"
     ]
    }
   ],
   "source": [
    "# Only the listings with the 'room_type' of 'Entire home/apt' fit our business problem.\n",
    "# Dropping all other room types in order to narrow the data accordingly.\n",
    "\n",
    "#USE\n",
    "listings = listings[listings.room_type == 'Entire home/apt']\n",
    "listings.info()"
   ]
  },
  {
   "cell_type": "markdown",
   "metadata": {},
   "source": [
    "There were 55378 properties listed as 'Entire home/apt' in the listings.csv file when the data was collected by Inside Airbnb on 02/14/21"
   ]
  },
  {
   "cell_type": "markdown",
   "metadata": {
    "collapsed": true
   },
   "source": [
    "**Looking at the data so far, it is apparent that there are a lot of columns that are not useful for the evaluations needed for the business objective:**\n",
    "\n",
    "'listing_url'  \n",
    "'scrape_id'  \n",
    "'picture_url'  \n",
    "'host_url'  \n",
    "'host_thumbnail_url'  \n",
    "'host_picture_url'  \n",
    "'calendar_last_scraped'  \n",
    "'latitude'  \n",
    "'longitude'  \n",
    "\n",
    "**Additional columns to investigate for relevance/useability include:**\n",
    "\n",
    "'name'  \n",
    "'description'  \n",
    "'neighborhood_overview'  \n",
    "'host_name'  \n",
    "'host_since'  \n",
    "'host_location'  \n",
    "'host_about'  \n",
    "'host_neighbourhood'  \n",
    "'host_listings_count'  \n",
    "'host_total_listings_count'  \n",
    "'minimum_minimum_nights'  \n",
    "'maximum_minimum_nights'  \n",
    "'minimum_maximum_nights'  \n",
    "'maximum_maximum_nights'  \n",
    "'minimum_nights_avg_ntm'  \n",
    "'maximum_nights_avg_ntm'  \n",
    "'license'  \n",
    "'calculated_host_listings_count'  \n",
    "'calculated_host_listings_count_entire_homes'  \n",
    "'calculated_host_listings_count_private_rooms'  \n",
    "'calculated_host_listings_count_shared_rooms'  \n",
    "***"
   ]
  },
  {
   "cell_type": "code",
   "execution_count": 7,
   "metadata": {},
   "outputs": [
    {
     "name": "stdout",
     "output_type": "stream",
     "text": [
      "<class 'pandas.core.frame.DataFrame'>\n",
      "Int64Index: 55378 entries, 0 to 64689\n",
      "Data columns (total 65 columns):\n",
      " #   Column                                        Non-Null Count  Dtype  \n",
      "---  ------                                        --------------  -----  \n",
      " 0   id                                            55378 non-null  int64  \n",
      " 1   last_scraped                                  55378 non-null  object \n",
      " 2   name                                          55324 non-null  object \n",
      " 3   description                                   54177 non-null  object \n",
      " 4   neighborhood_overview                         33630 non-null  object \n",
      " 5   host_id                                       55378 non-null  int64  \n",
      " 6   host_name                                     55346 non-null  object \n",
      " 7   host_since                                    55346 non-null  object \n",
      " 8   host_location                                 55232 non-null  object \n",
      " 9   host_about                                    28031 non-null  object \n",
      " 10  host_response_time                            19885 non-null  object \n",
      " 11  host_response_rate                            19885 non-null  object \n",
      " 12  host_acceptance_rate                          26964 non-null  object \n",
      " 13  host_is_superhost                             55346 non-null  object \n",
      " 14  host_neighbourhood                            43287 non-null  object \n",
      " 15  host_listings_count                           55346 non-null  float64\n",
      " 16  host_total_listings_count                     55346 non-null  float64\n",
      " 17  host_verifications                            55378 non-null  object \n",
      " 18  host_has_profile_pic                          55346 non-null  object \n",
      " 19  host_identity_verified                        55346 non-null  object \n",
      " 20  neighbourhood                                 33630 non-null  object \n",
      " 21  neighbourhood_cleansed                        55378 non-null  object \n",
      " 22  neighbourhood_group_cleansed                  0 non-null      float64\n",
      " 23  property_type                                 55378 non-null  object \n",
      " 24  room_type                                     55378 non-null  object \n",
      " 25  accommodates                                  55378 non-null  int64  \n",
      " 26  bathrooms                                     0 non-null      float64\n",
      " 27  bathrooms_text                                55331 non-null  object \n",
      " 28  bedrooms                                      42346 non-null  float64\n",
      " 29  beds                                          55213 non-null  float64\n",
      " 30  amenities                                     55378 non-null  object \n",
      " 31  price                                         55378 non-null  object \n",
      " 32  minimum_nights                                55378 non-null  int64  \n",
      " 33  maximum_nights                                55378 non-null  int64  \n",
      " 34  minimum_minimum_nights                        55378 non-null  float64\n",
      " 35  maximum_minimum_nights                        55378 non-null  float64\n",
      " 36  minimum_maximum_nights                        55378 non-null  float64\n",
      " 37  maximum_maximum_nights                        55378 non-null  float64\n",
      " 38  minimum_nights_avg_ntm                        55378 non-null  float64\n",
      " 39  maximum_nights_avg_ntm                        55378 non-null  float64\n",
      " 40  calendar_updated                              0 non-null      float64\n",
      " 41  has_availability                              55378 non-null  object \n",
      " 42  availability_30                               55378 non-null  int64  \n",
      " 43  availability_60                               55378 non-null  int64  \n",
      " 44  availability_90                               55378 non-null  int64  \n",
      " 45  availability_365                              55378 non-null  int64  \n",
      " 46  number_of_reviews                             55378 non-null  int64  \n",
      " 47  number_of_reviews_ltm                         55378 non-null  int64  \n",
      " 48  number_of_reviews_l30d                        55378 non-null  int64  \n",
      " 49  first_review                                  42787 non-null  object \n",
      " 50  last_review                                   42787 non-null  object \n",
      " 51  review_scores_rating                          41739 non-null  float64\n",
      " 52  review_scores_accuracy                        41699 non-null  float64\n",
      " 53  review_scores_cleanliness                     41707 non-null  float64\n",
      " 54  review_scores_checkin                         41686 non-null  float64\n",
      " 55  review_scores_communication                   41702 non-null  float64\n",
      " 56  review_scores_location                        41686 non-null  float64\n",
      " 57  review_scores_value                           41686 non-null  float64\n",
      " 58  license                                       19245 non-null  object \n",
      " 59  instant_bookable                              55378 non-null  object \n",
      " 60  calculated_host_listings_count                55378 non-null  int64  \n",
      " 61  calculated_host_listings_count_entire_homes   55378 non-null  int64  \n",
      " 62  calculated_host_listings_count_private_rooms  55378 non-null  int64  \n",
      " 63  calculated_host_listings_count_shared_rooms   55378 non-null  int64  \n",
      " 64  reviews_per_month                             42787 non-null  float64\n",
      "dtypes: float64(21), int64(16), object(28)\n",
      "memory usage: 27.9+ MB\n"
     ]
    }
   ],
   "source": [
    "# Dropping columns we know are not needed in order to make further investigation easier\n",
    "col_drop = ['listing_url', 'scrape_id', 'picture_url', 'host_url', 'host_thumbnail_url', \n",
    "            'host_picture_url', 'calendar_last_scraped', 'latitude', 'longitude']\n",
    "\n",
    "listings.drop(col_drop, axis=1, inplace=True)\n",
    "listings.info()"
   ]
  },
  {
   "cell_type": "code",
   "execution_count": 8,
   "metadata": {},
   "outputs": [
    {
     "data": {
      "text/html": [
       "<div>\n",
       "<style scoped>\n",
       "    .dataframe tbody tr th:only-of-type {\n",
       "        vertical-align: middle;\n",
       "    }\n",
       "\n",
       "    .dataframe tbody tr th {\n",
       "        vertical-align: top;\n",
       "    }\n",
       "\n",
       "    .dataframe thead th {\n",
       "        text-align: right;\n",
       "    }\n",
       "</style>\n",
       "<table border=\"1\" class=\"dataframe\">\n",
       "  <thead>\n",
       "    <tr style=\"text-align: right;\">\n",
       "      <th></th>\n",
       "      <th>id</th>\n",
       "      <th>last_scraped</th>\n",
       "      <th>name</th>\n",
       "      <th>description</th>\n",
       "      <th>neighborhood_overview</th>\n",
       "      <th>host_id</th>\n",
       "      <th>host_name</th>\n",
       "      <th>host_since</th>\n",
       "      <th>host_location</th>\n",
       "      <th>host_about</th>\n",
       "      <th>...</th>\n",
       "      <th>review_scores_communication</th>\n",
       "      <th>review_scores_location</th>\n",
       "      <th>review_scores_value</th>\n",
       "      <th>license</th>\n",
       "      <th>instant_bookable</th>\n",
       "      <th>calculated_host_listings_count</th>\n",
       "      <th>calculated_host_listings_count_entire_homes</th>\n",
       "      <th>calculated_host_listings_count_private_rooms</th>\n",
       "      <th>calculated_host_listings_count_shared_rooms</th>\n",
       "      <th>reviews_per_month</th>\n",
       "    </tr>\n",
       "  </thead>\n",
       "  <tbody>\n",
       "    <tr>\n",
       "      <th>0</th>\n",
       "      <td>2577</td>\n",
       "      <td>2021-02-14</td>\n",
       "      <td>Loft for 4 by Canal Saint Martin</td>\n",
       "      <td>100 m2 loft (1100 sq feet) with high ceiling, ...</td>\n",
       "      <td>NaN</td>\n",
       "      <td>2827</td>\n",
       "      <td>Karine</td>\n",
       "      <td>2008-09-09</td>\n",
       "      <td>Casablanca, Grand Casablanca, Morocco</td>\n",
       "      <td>Arrivée à Casablanca il y a 4 ans, je suis amo...</td>\n",
       "      <td>...</td>\n",
       "      <td>10.0</td>\n",
       "      <td>10.0</td>\n",
       "      <td>10.0</td>\n",
       "      <td>NaN</td>\n",
       "      <td>t</td>\n",
       "      <td>1</td>\n",
       "      <td>1</td>\n",
       "      <td>0</td>\n",
       "      <td>0</td>\n",
       "      <td>0.04</td>\n",
       "    </tr>\n",
       "    <tr>\n",
       "      <th>1</th>\n",
       "      <td>3109</td>\n",
       "      <td>2021-02-13</td>\n",
       "      <td>zen and calm</td>\n",
       "      <td>&lt;b&gt;The space&lt;/b&gt;&lt;br /&gt;I bedroom appartment in ...</td>\n",
       "      <td>Good restaurants&lt;br /&gt;very close the Montparna...</td>\n",
       "      <td>3631</td>\n",
       "      <td>Anne</td>\n",
       "      <td>2008-10-14</td>\n",
       "      <td>Paris, Île-de-France, France</td>\n",
       "      <td>NaN</td>\n",
       "      <td>...</td>\n",
       "      <td>10.0</td>\n",
       "      <td>10.0</td>\n",
       "      <td>10.0</td>\n",
       "      <td>NaN</td>\n",
       "      <td>f</td>\n",
       "      <td>1</td>\n",
       "      <td>1</td>\n",
       "      <td>0</td>\n",
       "      <td>0</td>\n",
       "      <td>0.18</td>\n",
       "    </tr>\n",
       "    <tr>\n",
       "      <th>2</th>\n",
       "      <td>5396</td>\n",
       "      <td>2021-02-12</td>\n",
       "      <td>Explore the heart of old Paris</td>\n",
       "      <td>Cozy, well-appointed and graciously designed s...</td>\n",
       "      <td>You are within walking distance to the Louvre,...</td>\n",
       "      <td>7903</td>\n",
       "      <td>Borzou</td>\n",
       "      <td>2009-02-14</td>\n",
       "      <td>Istanbul, İstanbul, Turkey</td>\n",
       "      <td>We are both journalists based in the Middle Ea...</td>\n",
       "      <td>...</td>\n",
       "      <td>10.0</td>\n",
       "      <td>10.0</td>\n",
       "      <td>8.0</td>\n",
       "      <td>7510402838018</td>\n",
       "      <td>t</td>\n",
       "      <td>1</td>\n",
       "      <td>1</td>\n",
       "      <td>0</td>\n",
       "      <td>0</td>\n",
       "      <td>1.64</td>\n",
       "    </tr>\n",
       "    <tr>\n",
       "      <th>3</th>\n",
       "      <td>7397</td>\n",
       "      <td>2021-02-14</td>\n",
       "      <td>MARAIS - 2ROOMS APT - 2/4 PEOPLE</td>\n",
       "      <td>VERY CONVENIENT, WITH THE BEST LOCATION !&lt;br /...</td>\n",
       "      <td>NaN</td>\n",
       "      <td>2626</td>\n",
       "      <td>Franck</td>\n",
       "      <td>2008-08-30</td>\n",
       "      <td>Paris, Île-de-France, France</td>\n",
       "      <td>I am a writer,51, author of novels, books of l...</td>\n",
       "      <td>...</td>\n",
       "      <td>10.0</td>\n",
       "      <td>10.0</td>\n",
       "      <td>10.0</td>\n",
       "      <td>7510400829623</td>\n",
       "      <td>f</td>\n",
       "      <td>2</td>\n",
       "      <td>2</td>\n",
       "      <td>0</td>\n",
       "      <td>0</td>\n",
       "      <td>2.26</td>\n",
       "    </tr>\n",
       "    <tr>\n",
       "      <th>4</th>\n",
       "      <td>7964</td>\n",
       "      <td>2021-02-13</td>\n",
       "      <td>Large &amp; sunny flat with balcony !</td>\n",
       "      <td>Very large &amp; nice apartment all for you! &lt;br /...</td>\n",
       "      <td>NaN</td>\n",
       "      <td>22155</td>\n",
       "      <td>Anaïs</td>\n",
       "      <td>2009-06-18</td>\n",
       "      <td>Paris, Île-de-France, France</td>\n",
       "      <td>Hello ! \\r\\nOur apartment is great and I am su...</td>\n",
       "      <td>...</td>\n",
       "      <td>10.0</td>\n",
       "      <td>10.0</td>\n",
       "      <td>10.0</td>\n",
       "      <td>7510903576564</td>\n",
       "      <td>f</td>\n",
       "      <td>1</td>\n",
       "      <td>1</td>\n",
       "      <td>0</td>\n",
       "      <td>0</td>\n",
       "      <td>0.05</td>\n",
       "    </tr>\n",
       "  </tbody>\n",
       "</table>\n",
       "<p>5 rows × 65 columns</p>\n",
       "</div>"
      ],
      "text/plain": [
       "     id last_scraped                               name  \\\n",
       "0  2577   2021-02-14   Loft for 4 by Canal Saint Martin   \n",
       "1  3109   2021-02-13                       zen and calm   \n",
       "2  5396   2021-02-12     Explore the heart of old Paris   \n",
       "3  7397   2021-02-14   MARAIS - 2ROOMS APT - 2/4 PEOPLE   \n",
       "4  7964   2021-02-13  Large & sunny flat with balcony !   \n",
       "\n",
       "                                         description  \\\n",
       "0  100 m2 loft (1100 sq feet) with high ceiling, ...   \n",
       "1  <b>The space</b><br />I bedroom appartment in ...   \n",
       "2  Cozy, well-appointed and graciously designed s...   \n",
       "3  VERY CONVENIENT, WITH THE BEST LOCATION !<br /...   \n",
       "4  Very large & nice apartment all for you! <br /...   \n",
       "\n",
       "                               neighborhood_overview  host_id host_name  \\\n",
       "0                                                NaN     2827    Karine   \n",
       "1  Good restaurants<br />very close the Montparna...     3631      Anne   \n",
       "2  You are within walking distance to the Louvre,...     7903    Borzou   \n",
       "3                                                NaN     2626    Franck   \n",
       "4                                                NaN    22155     Anaïs   \n",
       "\n",
       "   host_since                          host_location  \\\n",
       "0  2008-09-09  Casablanca, Grand Casablanca, Morocco   \n",
       "1  2008-10-14           Paris, Île-de-France, France   \n",
       "2  2009-02-14             Istanbul, İstanbul, Turkey   \n",
       "3  2008-08-30           Paris, Île-de-France, France   \n",
       "4  2009-06-18           Paris, Île-de-France, France   \n",
       "\n",
       "                                          host_about  ...  \\\n",
       "0  Arrivée à Casablanca il y a 4 ans, je suis amo...  ...   \n",
       "1                                                NaN  ...   \n",
       "2  We are both journalists based in the Middle Ea...  ...   \n",
       "3  I am a writer,51, author of novels, books of l...  ...   \n",
       "4  Hello ! \\r\\nOur apartment is great and I am su...  ...   \n",
       "\n",
       "  review_scores_communication review_scores_location review_scores_value  \\\n",
       "0                        10.0                   10.0                10.0   \n",
       "1                        10.0                   10.0                10.0   \n",
       "2                        10.0                   10.0                 8.0   \n",
       "3                        10.0                   10.0                10.0   \n",
       "4                        10.0                   10.0                10.0   \n",
       "\n",
       "         license instant_bookable  calculated_host_listings_count  \\\n",
       "0            NaN                t                               1   \n",
       "1            NaN                f                               1   \n",
       "2  7510402838018                t                               1   \n",
       "3  7510400829623                f                               2   \n",
       "4  7510903576564                f                               1   \n",
       "\n",
       "   calculated_host_listings_count_entire_homes  \\\n",
       "0                                            1   \n",
       "1                                            1   \n",
       "2                                            1   \n",
       "3                                            2   \n",
       "4                                            1   \n",
       "\n",
       "  calculated_host_listings_count_private_rooms  \\\n",
       "0                                            0   \n",
       "1                                            0   \n",
       "2                                            0   \n",
       "3                                            0   \n",
       "4                                            0   \n",
       "\n",
       "  calculated_host_listings_count_shared_rooms reviews_per_month  \n",
       "0                                           0              0.04  \n",
       "1                                           0              0.18  \n",
       "2                                           0              1.64  \n",
       "3                                           0              2.26  \n",
       "4                                           0              0.05  \n",
       "\n",
       "[5 rows x 65 columns]"
      ]
     },
     "execution_count": 8,
     "metadata": {},
     "output_type": "execute_result"
    }
   ],
   "source": [
    "listings.head()"
   ]
  },
  {
   "cell_type": "markdown",
   "metadata": {
    "collapsed": true
   },
   "source": [
    "It is apparent from further investigation of the head and info data above that the following fields are not relevant to our objective:  \n",
    "\n",
    "'name'  \n",
    "'description'  \n",
    "'neighborhood_overview'  \n",
    "'host_name'  \n",
    "'host_location'  \n",
    "'host_about'  \n",
    "'host_neighbourhood'  \n",
    "'host_verifications'  \n",
    "'neighbourhood'  \n",
    "'amenities'  \n",
    "'bathrooms'  \n",
    "'calendar_updated'  \n",
    "'minimum_minimum_nights'  \n",
    "'maximum_minimum_nights'  \n",
    "'minimum_maximum_nights'  \n",
    "'maximum_maximum_nights'  \n",
    "'minimum_nights_avg_ntm'  \n",
    "'maximum_nights_avg_ntm'  \n",
    "'host_acceptance_rate'  \n",
    "'neighbourhood_group_cleansed'  "
   ]
  },
  {
   "cell_type": "code",
   "execution_count": 9,
   "metadata": {},
   "outputs": [
    {
     "name": "stdout",
     "output_type": "stream",
     "text": [
      "<class 'pandas.core.frame.DataFrame'>\n",
      "Int64Index: 55378 entries, 0 to 64689\n",
      "Data columns (total 45 columns):\n",
      " #   Column                                        Non-Null Count  Dtype  \n",
      "---  ------                                        --------------  -----  \n",
      " 0   id                                            55378 non-null  int64  \n",
      " 1   last_scraped                                  55378 non-null  object \n",
      " 2   host_id                                       55378 non-null  int64  \n",
      " 3   host_since                                    55346 non-null  object \n",
      " 4   host_response_time                            19885 non-null  object \n",
      " 5   host_response_rate                            19885 non-null  object \n",
      " 6   host_is_superhost                             55346 non-null  object \n",
      " 7   host_listings_count                           55346 non-null  float64\n",
      " 8   host_total_listings_count                     55346 non-null  float64\n",
      " 9   host_has_profile_pic                          55346 non-null  object \n",
      " 10  host_identity_verified                        55346 non-null  object \n",
      " 11  neighbourhood_cleansed                        55378 non-null  object \n",
      " 12  property_type                                 55378 non-null  object \n",
      " 13  room_type                                     55378 non-null  object \n",
      " 14  accommodates                                  55378 non-null  int64  \n",
      " 15  bathrooms_text                                55331 non-null  object \n",
      " 16  bedrooms                                      42346 non-null  float64\n",
      " 17  beds                                          55213 non-null  float64\n",
      " 18  price                                         55378 non-null  object \n",
      " 19  minimum_nights                                55378 non-null  int64  \n",
      " 20  maximum_nights                                55378 non-null  int64  \n",
      " 21  has_availability                              55378 non-null  object \n",
      " 22  availability_30                               55378 non-null  int64  \n",
      " 23  availability_60                               55378 non-null  int64  \n",
      " 24  availability_90                               55378 non-null  int64  \n",
      " 25  availability_365                              55378 non-null  int64  \n",
      " 26  number_of_reviews                             55378 non-null  int64  \n",
      " 27  number_of_reviews_ltm                         55378 non-null  int64  \n",
      " 28  number_of_reviews_l30d                        55378 non-null  int64  \n",
      " 29  first_review                                  42787 non-null  object \n",
      " 30  last_review                                   42787 non-null  object \n",
      " 31  review_scores_rating                          41739 non-null  float64\n",
      " 32  review_scores_accuracy                        41699 non-null  float64\n",
      " 33  review_scores_cleanliness                     41707 non-null  float64\n",
      " 34  review_scores_checkin                         41686 non-null  float64\n",
      " 35  review_scores_communication                   41702 non-null  float64\n",
      " 36  review_scores_location                        41686 non-null  float64\n",
      " 37  review_scores_value                           41686 non-null  float64\n",
      " 38  license                                       19245 non-null  object \n",
      " 39  instant_bookable                              55378 non-null  object \n",
      " 40  calculated_host_listings_count                55378 non-null  int64  \n",
      " 41  calculated_host_listings_count_entire_homes   55378 non-null  int64  \n",
      " 42  calculated_host_listings_count_private_rooms  55378 non-null  int64  \n",
      " 43  calculated_host_listings_count_shared_rooms   55378 non-null  int64  \n",
      " 44  reviews_per_month                             42787 non-null  float64\n",
      "dtypes: float64(12), int64(16), object(17)\n",
      "memory usage: 19.4+ MB\n"
     ]
    }
   ],
   "source": [
    "# Dropping columns identified above to again make further investigation easier\n",
    "col_drop = ['name', 'description', 'neighborhood_overview', 'host_name', 'host_location', 'host_about', 'host_neighbourhood',\n",
    "            'host_verifications', 'neighbourhood', 'amenities', 'bathrooms', 'calendar_updated', 'minimum_minimum_nights',\n",
    "            'maximum_minimum_nights', 'minimum_maximum_nights', 'maximum_maximum_nights', 'minimum_nights_avg_ntm',\n",
    "            'maximum_nights_avg_ntm', 'host_acceptance_rate', 'neighbourhood_group_cleansed']\n",
    "listings.drop(col_drop, axis=1, inplace=True)\n",
    "listings.info()"
   ]
  },
  {
   "cell_type": "markdown",
   "metadata": {},
   "source": [
    "There are 32 NaN values across almost all \"host\" columns. We need to investigate whether those are the same 32 listings or randomly spread across the columns."
   ]
  },
  {
   "cell_type": "code",
   "execution_count": 10,
   "metadata": {},
   "outputs": [
    {
     "name": "stdout",
     "output_type": "stream",
     "text": [
      "             id last_scraped    host_id host_since host_response_time  \\\n",
      "1048     674148   2021-02-12    3422570        NaN                NaN   \n",
      "1365     819381   2021-02-12    4303444        NaN                NaN   \n",
      "4495    3261736   2021-02-13   16494364        NaN                NaN   \n",
      "6587    4742022   2021-02-13   24478218        NaN                NaN   \n",
      "7765    5741764   2021-02-14   29780312        NaN                NaN   \n",
      "7948    5872399   2021-02-12    1721954        NaN                NaN   \n",
      "8086    5987708   2021-02-12   31087586        NaN                NaN   \n",
      "8590    6300239   2021-02-12    1721954        NaN                NaN   \n",
      "9762    6875069   2021-02-12   20618245        NaN                NaN   \n",
      "10307   7070896   2021-02-12   37073350        NaN                NaN   \n",
      "11339   7447839   2021-02-11   31392706        NaN                NaN   \n",
      "11543   7526817   2021-02-12   33200781        NaN                NaN   \n",
      "12123   7883024   2021-02-11   33594473        NaN                NaN   \n",
      "12399   8177671   2021-02-11   43154991        NaN                NaN   \n",
      "12424   8201252   2021-02-11   27406879        NaN                NaN   \n",
      "12598   8346543   2021-02-11   14092925        NaN                NaN   \n",
      "17982  13109115   2021-02-11   62501341        NaN                NaN   \n",
      "18846  13481599   2021-02-12    7769173        NaN                NaN   \n",
      "25303  18882652   2021-02-11  106125827        NaN                NaN   \n",
      "25865  19262755   2021-02-11  134875730        NaN                NaN   \n",
      "28855  21147893   2021-02-10   10960151        NaN                NaN   \n",
      "33702  25067921   2021-02-10  120145284        NaN                NaN   \n",
      "34394  25792149   2021-02-10   38928780        NaN                NaN   \n",
      "35686  26676186   2021-02-10   21867845        NaN                NaN   \n",
      "39538  30364756   2021-02-13   10007582        NaN                NaN   \n",
      "39544  30368213   2021-02-12  106974487        NaN                NaN   \n",
      "44010  34485260   2021-02-09   72286753        NaN                NaN   \n",
      "44279  34696268   2021-02-09    5785255        NaN                NaN   \n",
      "45873  35709284   2021-02-09     429480        NaN                NaN   \n",
      "45908  35737714   2021-02-09   16457694        NaN                NaN   \n",
      "47988  36897257   2021-02-09  275735145        NaN                NaN   \n",
      "55113  41878499   2021-02-09   30841029        NaN                NaN   \n",
      "\n",
      "      host_response_rate host_is_superhost  host_listings_count  \\\n",
      "1048                 NaN               NaN                  NaN   \n",
      "1365                 NaN               NaN                  NaN   \n",
      "4495                 NaN               NaN                  NaN   \n",
      "6587                 NaN               NaN                  NaN   \n",
      "7765                 NaN               NaN                  NaN   \n",
      "7948                 NaN               NaN                  NaN   \n",
      "8086                 NaN               NaN                  NaN   \n",
      "8590                 NaN               NaN                  NaN   \n",
      "9762                 NaN               NaN                  NaN   \n",
      "10307                NaN               NaN                  NaN   \n",
      "11339                NaN               NaN                  NaN   \n",
      "11543                NaN               NaN                  NaN   \n",
      "12123                NaN               NaN                  NaN   \n",
      "12399                NaN               NaN                  NaN   \n",
      "12424                NaN               NaN                  NaN   \n",
      "12598                NaN               NaN                  NaN   \n",
      "17982                NaN               NaN                  NaN   \n",
      "18846                NaN               NaN                  NaN   \n",
      "25303                NaN               NaN                  NaN   \n",
      "25865                NaN               NaN                  NaN   \n",
      "28855                NaN               NaN                  NaN   \n",
      "33702                NaN               NaN                  NaN   \n",
      "34394                NaN               NaN                  NaN   \n",
      "35686                NaN               NaN                  NaN   \n",
      "39538                NaN               NaN                  NaN   \n",
      "39544                NaN               NaN                  NaN   \n",
      "44010                NaN               NaN                  NaN   \n",
      "44279                NaN               NaN                  NaN   \n",
      "45873                NaN               NaN                  NaN   \n",
      "45908                NaN               NaN                  NaN   \n",
      "47988                NaN               NaN                  NaN   \n",
      "55113                NaN               NaN                  NaN   \n",
      "\n",
      "       host_total_listings_count host_has_profile_pic  ...  \\\n",
      "1048                         NaN                  NaN  ...   \n",
      "1365                         NaN                  NaN  ...   \n",
      "4495                         NaN                  NaN  ...   \n",
      "6587                         NaN                  NaN  ...   \n",
      "7765                         NaN                  NaN  ...   \n",
      "7948                         NaN                  NaN  ...   \n",
      "8086                         NaN                  NaN  ...   \n",
      "8590                         NaN                  NaN  ...   \n",
      "9762                         NaN                  NaN  ...   \n",
      "10307                        NaN                  NaN  ...   \n",
      "11339                        NaN                  NaN  ...   \n",
      "11543                        NaN                  NaN  ...   \n",
      "12123                        NaN                  NaN  ...   \n",
      "12399                        NaN                  NaN  ...   \n",
      "12424                        NaN                  NaN  ...   \n",
      "12598                        NaN                  NaN  ...   \n",
      "17982                        NaN                  NaN  ...   \n",
      "18846                        NaN                  NaN  ...   \n",
      "25303                        NaN                  NaN  ...   \n",
      "25865                        NaN                  NaN  ...   \n",
      "28855                        NaN                  NaN  ...   \n",
      "33702                        NaN                  NaN  ...   \n",
      "34394                        NaN                  NaN  ...   \n",
      "35686                        NaN                  NaN  ...   \n",
      "39538                        NaN                  NaN  ...   \n",
      "39544                        NaN                  NaN  ...   \n",
      "44010                        NaN                  NaN  ...   \n",
      "44279                        NaN                  NaN  ...   \n",
      "45873                        NaN                  NaN  ...   \n",
      "45908                        NaN                  NaN  ...   \n",
      "47988                        NaN                  NaN  ...   \n",
      "55113                        NaN                  NaN  ...   \n",
      "\n",
      "      review_scores_communication review_scores_location review_scores_value  \\\n",
      "1048                          6.0                    6.0                 6.0   \n",
      "1365                         10.0                   10.0                 9.0   \n",
      "4495                         10.0                   10.0                10.0   \n",
      "6587                         10.0                   10.0                10.0   \n",
      "7765                         10.0                   10.0                10.0   \n",
      "7948                          NaN                    NaN                 NaN   \n",
      "8086                          NaN                    NaN                 NaN   \n",
      "8590                          NaN                    NaN                 NaN   \n",
      "9762                          NaN                    NaN                 NaN   \n",
      "10307                        10.0                    9.0                10.0   \n",
      "11339                         NaN                    NaN                 NaN   \n",
      "11543                         NaN                    NaN                 NaN   \n",
      "12123                        10.0                   10.0                 9.0   \n",
      "12399                        10.0                    7.0                 7.0   \n",
      "12424                         NaN                    NaN                 NaN   \n",
      "12598                         9.0                    9.0                 9.0   \n",
      "17982                        10.0                   10.0                 9.0   \n",
      "18846                        10.0                    9.0                 9.0   \n",
      "25303                        10.0                    9.0                 7.0   \n",
      "25865                         NaN                    NaN                 NaN   \n",
      "28855                        10.0                    9.0                10.0   \n",
      "33702                        10.0                    9.0                10.0   \n",
      "34394                        10.0                   10.0                10.0   \n",
      "35686                         NaN                    NaN                 NaN   \n",
      "39538                        10.0                   10.0                 9.0   \n",
      "39544                        10.0                   10.0                 9.0   \n",
      "44010                         NaN                    NaN                 NaN   \n",
      "44279                        10.0                   10.0                10.0   \n",
      "45873                        10.0                   10.0                10.0   \n",
      "45908                        10.0                   10.0                 9.0   \n",
      "47988                        10.0                   10.0                 9.0   \n",
      "55113                        10.0                   10.0                10.0   \n",
      "\n",
      "             license  instant_bookable calculated_host_listings_count  \\\n",
      "1048             NaN                 f                              1   \n",
      "1365             NaN                 f                              1   \n",
      "4495             NaN                 f                              1   \n",
      "6587   7511102214748                 f                              1   \n",
      "7765             NaN                 f                              1   \n",
      "7948             NaN                 f                              2   \n",
      "8086             NaN                 f                              1   \n",
      "8590             NaN                 f                              2   \n",
      "9762             NaN                 f                              1   \n",
      "10307  7511800177654                 t                              1   \n",
      "11339            NaN                 f                              1   \n",
      "11543            NaN                 f                              1   \n",
      "12123  7510500662122                 f                              1   \n",
      "12399            NaN                 t                              1   \n",
      "12424            NaN                 f                              1   \n",
      "12598            NaN                 f                              1   \n",
      "17982            NaN                 t                              1   \n",
      "18846  7511000618928                 f                              1   \n",
      "25303            NaN                 f                              1   \n",
      "25865            NaN                 f                              1   \n",
      "28855            NaN                 t                              1   \n",
      "33702            NaN                 t                              1   \n",
      "34394  7511002867150                 t                              1   \n",
      "35686            NaN                 f                              1   \n",
      "39538            NaN                 t                              1   \n",
      "39544  7511802759636                 f                              1   \n",
      "44010            NaN                 f                              1   \n",
      "44279  7511603765522                 f                              1   \n",
      "45873            NaN                 f                              1   \n",
      "45908  7510703600473                 t                              1   \n",
      "47988            NaN                 f                              1   \n",
      "55113            NaN                 f                              1   \n",
      "\n",
      "       calculated_host_listings_count_entire_homes  \\\n",
      "1048                                             1   \n",
      "1365                                             1   \n",
      "4495                                             1   \n",
      "6587                                             1   \n",
      "7765                                             1   \n",
      "7948                                             2   \n",
      "8086                                             1   \n",
      "8590                                             2   \n",
      "9762                                             1   \n",
      "10307                                            1   \n",
      "11339                                            1   \n",
      "11543                                            1   \n",
      "12123                                            1   \n",
      "12399                                            1   \n",
      "12424                                            1   \n",
      "12598                                            1   \n",
      "17982                                            1   \n",
      "18846                                            1   \n",
      "25303                                            1   \n",
      "25865                                            1   \n",
      "28855                                            1   \n",
      "33702                                            1   \n",
      "34394                                            1   \n",
      "35686                                            1   \n",
      "39538                                            1   \n",
      "39544                                            1   \n",
      "44010                                            1   \n",
      "44279                                            1   \n",
      "45873                                            1   \n",
      "45908                                            1   \n",
      "47988                                            1   \n",
      "55113                                            1   \n",
      "\n",
      "       calculated_host_listings_count_private_rooms  \\\n",
      "1048                                              0   \n",
      "1365                                              0   \n",
      "4495                                              0   \n",
      "6587                                              0   \n",
      "7765                                              0   \n",
      "7948                                              0   \n",
      "8086                                              0   \n",
      "8590                                              0   \n",
      "9762                                              0   \n",
      "10307                                             0   \n",
      "11339                                             0   \n",
      "11543                                             0   \n",
      "12123                                             0   \n",
      "12399                                             0   \n",
      "12424                                             0   \n",
      "12598                                             0   \n",
      "17982                                             0   \n",
      "18846                                             0   \n",
      "25303                                             0   \n",
      "25865                                             0   \n",
      "28855                                             0   \n",
      "33702                                             0   \n",
      "34394                                             0   \n",
      "35686                                             0   \n",
      "39538                                             0   \n",
      "39544                                             0   \n",
      "44010                                             0   \n",
      "44279                                             0   \n",
      "45873                                             0   \n",
      "45908                                             0   \n",
      "47988                                             0   \n",
      "55113                                             0   \n",
      "\n",
      "      calculated_host_listings_count_shared_rooms  reviews_per_month  \n",
      "1048                                            0               0.04  \n",
      "1365                                            0               0.15  \n",
      "4495                                            0               2.92  \n",
      "6587                                            0               1.81  \n",
      "7765                                            0               0.25  \n",
      "7948                                            0                NaN  \n",
      "8086                                            0                NaN  \n",
      "8590                                            0                NaN  \n",
      "9762                                            0                NaN  \n",
      "10307                                           0               0.95  \n",
      "11339                                           0                NaN  \n",
      "11543                                           0                NaN  \n",
      "12123                                           0               0.69  \n",
      "12399                                           0               0.03  \n",
      "12424                                           0                NaN  \n",
      "12598                                           0               0.55  \n",
      "17982                                           0               0.46  \n",
      "18846                                           0               1.59  \n",
      "25303                                           0               0.07  \n",
      "25865                                           0                NaN  \n",
      "28855                                           0               0.05  \n",
      "33702                                           0               0.19  \n",
      "34394                                           0               0.10  \n",
      "35686                                           0                NaN  \n",
      "39538                                           0               1.04  \n",
      "39544                                           0               1.28  \n",
      "44010                                           0                NaN  \n",
      "44279                                           0               0.16  \n",
      "45873                                           0               0.30  \n",
      "45908                                           0               1.03  \n",
      "47988                                           0               1.55  \n",
      "55113                                           0               0.08  \n",
      "\n",
      "[32 rows x 45 columns]\n"
     ]
    }
   ],
   "source": [
    "# Exploring the 32 NaN entries in the host columns to verify if they are the same columns\n",
    "print(listings.loc[(listings['host_is_superhost'] != 't') & (listings['host_is_superhost'] != 'f')])"
   ]
  },
  {
   "cell_type": "markdown",
   "metadata": {},
   "source": [
    "These are the same 32 listings with NaN values across the \"host\" columns which is very odd. These rows will be dropped so that the NaN values do not throw off the model. These rows are only .058% of the current dataset."
   ]
  },
  {
   "cell_type": "code",
   "execution_count": 11,
   "metadata": {},
   "outputs": [
    {
     "data": {
      "text/plain": [
       "(55346, 45)"
      ]
     },
     "execution_count": 11,
     "metadata": {},
     "output_type": "execute_result"
    }
   ],
   "source": [
    "# Remove rows with NaN values in host columns\n",
    "listings = listings.dropna(subset=['host_is_superhost'])\n",
    "listings.shape"
   ]
  },
  {
   "cell_type": "markdown",
   "metadata": {},
   "source": [
    "We are now working with 55346 listings with 45 columns of data for each."
   ]
  },
  {
   "cell_type": "code",
   "execution_count": 12,
   "metadata": {},
   "outputs": [
    {
     "name": "stdout",
     "output_type": "stream",
     "text": [
      "<class 'pandas.core.frame.DataFrame'>\n",
      "Int64Index: 55346 entries, 0 to 64689\n",
      "Data columns (total 45 columns):\n",
      " #   Column                                        Non-Null Count  Dtype  \n",
      "---  ------                                        --------------  -----  \n",
      " 0   id                                            55346 non-null  int64  \n",
      " 1   last_scraped                                  55346 non-null  object \n",
      " 2   host_id                                       55346 non-null  int64  \n",
      " 3   host_since                                    55346 non-null  object \n",
      " 4   host_response_time                            19885 non-null  object \n",
      " 5   host_response_rate                            19885 non-null  object \n",
      " 6   host_is_superhost                             55346 non-null  object \n",
      " 7   host_listings_count                           55346 non-null  float64\n",
      " 8   host_total_listings_count                     55346 non-null  float64\n",
      " 9   host_has_profile_pic                          55346 non-null  object \n",
      " 10  host_identity_verified                        55346 non-null  object \n",
      " 11  neighbourhood_cleansed                        55346 non-null  object \n",
      " 12  property_type                                 55346 non-null  object \n",
      " 13  room_type                                     55346 non-null  object \n",
      " 14  accommodates                                  55346 non-null  int64  \n",
      " 15  bathrooms_text                                55299 non-null  object \n",
      " 16  bedrooms                                      42323 non-null  float64\n",
      " 17  beds                                          55181 non-null  float64\n",
      " 18  price                                         55346 non-null  object \n",
      " 19  minimum_nights                                55346 non-null  int64  \n",
      " 20  maximum_nights                                55346 non-null  int64  \n",
      " 21  has_availability                              55346 non-null  object \n",
      " 22  availability_30                               55346 non-null  int64  \n",
      " 23  availability_60                               55346 non-null  int64  \n",
      " 24  availability_90                               55346 non-null  int64  \n",
      " 25  availability_365                              55346 non-null  int64  \n",
      " 26  number_of_reviews                             55346 non-null  int64  \n",
      " 27  number_of_reviews_ltm                         55346 non-null  int64  \n",
      " 28  number_of_reviews_l30d                        55346 non-null  int64  \n",
      " 29  first_review                                  42765 non-null  object \n",
      " 30  last_review                                   42765 non-null  object \n",
      " 31  review_scores_rating                          41717 non-null  float64\n",
      " 32  review_scores_accuracy                        41677 non-null  float64\n",
      " 33  review_scores_cleanliness                     41685 non-null  float64\n",
      " 34  review_scores_checkin                         41664 non-null  float64\n",
      " 35  review_scores_communication                   41680 non-null  float64\n",
      " 36  review_scores_location                        41664 non-null  float64\n",
      " 37  review_scores_value                           41664 non-null  float64\n",
      " 38  license                                       19237 non-null  object \n",
      " 39  instant_bookable                              55346 non-null  object \n",
      " 40  calculated_host_listings_count                55346 non-null  int64  \n",
      " 41  calculated_host_listings_count_entire_homes   55346 non-null  int64  \n",
      " 42  calculated_host_listings_count_private_rooms  55346 non-null  int64  \n",
      " 43  calculated_host_listings_count_shared_rooms   55346 non-null  int64  \n",
      " 44  reviews_per_month                             42765 non-null  float64\n",
      "dtypes: float64(12), int64(16), object(17)\n",
      "memory usage: 19.4+ MB\n"
     ]
    }
   ],
   "source": [
    "listings.info()"
   ]
  },
  {
   "cell_type": "markdown",
   "metadata": {},
   "source": [
    "***\n",
    "<a name=\"no_nan\"></a>\n",
    "**Columns With No NaN Values**  \n",
    "\n",
    "Exploring the data contained in the columns with no NaN values first. Columns with NaN values will be evaluated later in order to group together the actions taken to handle the NaN values for each respective column.\n",
    "\n",
    "Columns to be reviewed:\n",
    "\n",
    "'id'  \n",
    "'last_scraped'  \n",
    "'host_id'  \n",
    "'host_since'  \n",
    "'host_is_superhost'  \n",
    "'host_listings_count'  \n",
    "'host_total_listings_count'  \n",
    "'host_has_profile_pic'  \n",
    "'host_identity_verified'  \n",
    "'neighbourhood_cleansed'  \n",
    "'property_type'  \n",
    "'room_type'  \n",
    "'accommodates'  \n",
    "'price'  \n",
    "'minimum_nights'  \n",
    "'maximum_nights'  \n",
    "'has_availability'  \n",
    "'availability_30'  \n",
    "'availability_60'  \n",
    "'availability_90'  \n",
    "'availability_365'  \n",
    "'number_of_reviews'  \n",
    "'number_of_reviews_ltm'  \n",
    "'number_of_reviews_l30d'  \n",
    "'instant_bookable'  \n",
    "'calculated_host_listings_count'  \n",
    "'calculated_host_listings_count_entire_homes'  \n",
    "'calculated_host_listings_count_private_rooms'  \n",
    "'calculated_host_listings_count_shared_rooms'  \n",
    "\n",
    "[Back to Top](#top)"
   ]
  },
  {
   "cell_type": "code",
   "execution_count": 13,
   "metadata": {},
   "outputs": [
    {
     "data": {
      "text/plain": [
       "55346"
      ]
     },
     "execution_count": 13,
     "metadata": {},
     "output_type": "execute_result"
    }
   ],
   "source": [
    "# Are there any duplicates in the id field?\n",
    "listings.id.nunique()"
   ]
  },
  {
   "cell_type": "markdown",
   "metadata": {},
   "source": [
    "No. All values are unique"
   ]
  },
  {
   "cell_type": "code",
   "execution_count": 14,
   "metadata": {},
   "outputs": [
    {
     "data": {
      "text/plain": [
       "0    2021-02-14\n",
       "1    2021-02-13\n",
       "2    2021-02-12\n",
       "3    2021-02-14\n",
       "4    2021-02-13\n",
       "Name: last_scraped, dtype: object"
      ]
     },
     "execution_count": 14,
     "metadata": {},
     "output_type": "execute_result"
    }
   ],
   "source": [
    "# Exploring the last_scraped column\n",
    "listings['last_scraped'].head()"
   ]
  },
  {
   "cell_type": "markdown",
   "metadata": {},
   "source": [
    "This is a date field but the dtype is object. This needs to be converted into a usable date format.\n",
    "\n",
    "There are 3 other date fields (host_since, first_review, and last_review) that will be converted to date format at this time as well."
   ]
  },
  {
   "cell_type": "code",
   "execution_count": 15,
   "metadata": {},
   "outputs": [
    {
     "name": "stdout",
     "output_type": "stream",
     "text": [
      "<class 'pandas.core.frame.DataFrame'>\n",
      "Int64Index: 55346 entries, 0 to 64689\n",
      "Data columns (total 4 columns):\n",
      " #   Column        Non-Null Count  Dtype         \n",
      "---  ------        --------------  -----         \n",
      " 0   last_scraped  55346 non-null  datetime64[ns]\n",
      " 1   host_since    55346 non-null  datetime64[ns]\n",
      " 2   first_review  42765 non-null  datetime64[ns]\n",
      " 3   last_review   42765 non-null  datetime64[ns]\n",
      "dtypes: datetime64[ns](4)\n",
      "memory usage: 2.1 MB\n"
     ]
    }
   ],
   "source": [
    "# Converting the 'last_scraped', 'host_since', 'first_review', and 'last_review' columns to datetime dtype\n",
    "\n",
    "listings[['last_scraped', 'host_since', 'first_review', 'last_review']] = \\\n",
    "listings[['last_scraped', 'host_since', 'first_review', 'last_review']].apply(pd.to_datetime)\n",
    "\n",
    "listings[['last_scraped', 'host_since', 'first_review', 'last_review']].info()"
   ]
  },
  {
   "cell_type": "code",
   "execution_count": 16,
   "metadata": {},
   "outputs": [
    {
     "data": {
      "text/html": [
       "<div>\n",
       "<style scoped>\n",
       "    .dataframe tbody tr th:only-of-type {\n",
       "        vertical-align: middle;\n",
       "    }\n",
       "\n",
       "    .dataframe tbody tr th {\n",
       "        vertical-align: top;\n",
       "    }\n",
       "\n",
       "    .dataframe thead th {\n",
       "        text-align: right;\n",
       "    }\n",
       "</style>\n",
       "<table border=\"1\" class=\"dataframe\">\n",
       "  <thead>\n",
       "    <tr style=\"text-align: right;\">\n",
       "      <th></th>\n",
       "      <th>last_scraped</th>\n",
       "      <th>host_since</th>\n",
       "      <th>first_review</th>\n",
       "      <th>last_review</th>\n",
       "    </tr>\n",
       "  </thead>\n",
       "  <tbody>\n",
       "    <tr>\n",
       "      <th>0</th>\n",
       "      <td>2021-02-14</td>\n",
       "      <td>2008-09-09</td>\n",
       "      <td>2019-01-02</td>\n",
       "      <td>2019-01-02</td>\n",
       "    </tr>\n",
       "    <tr>\n",
       "      <th>1</th>\n",
       "      <td>2021-02-13</td>\n",
       "      <td>2008-10-14</td>\n",
       "      <td>2016-12-27</td>\n",
       "      <td>2019-10-24</td>\n",
       "    </tr>\n",
       "    <tr>\n",
       "      <th>2</th>\n",
       "      <td>2021-02-12</td>\n",
       "      <td>2009-02-14</td>\n",
       "      <td>2009-06-30</td>\n",
       "      <td>2021-01-02</td>\n",
       "    </tr>\n",
       "    <tr>\n",
       "      <th>3</th>\n",
       "      <td>2021-02-14</td>\n",
       "      <td>2008-08-30</td>\n",
       "      <td>2011-04-08</td>\n",
       "      <td>2021-01-13</td>\n",
       "    </tr>\n",
       "    <tr>\n",
       "      <th>4</th>\n",
       "      <td>2021-02-13</td>\n",
       "      <td>2009-06-18</td>\n",
       "      <td>2010-05-10</td>\n",
       "      <td>2015-09-14</td>\n",
       "    </tr>\n",
       "  </tbody>\n",
       "</table>\n",
       "</div>"
      ],
      "text/plain": [
       "  last_scraped host_since first_review last_review\n",
       "0   2021-02-14 2008-09-09   2019-01-02  2019-01-02\n",
       "1   2021-02-13 2008-10-14   2016-12-27  2019-10-24\n",
       "2   2021-02-12 2009-02-14   2009-06-30  2021-01-02\n",
       "3   2021-02-14 2008-08-30   2011-04-08  2021-01-13\n",
       "4   2021-02-13 2009-06-18   2010-05-10  2015-09-14"
      ]
     },
     "execution_count": 16,
     "metadata": {},
     "output_type": "execute_result"
    }
   ],
   "source": [
    "listings[['last_scraped', 'host_since', 'first_review', 'last_review']].head()"
   ]
  },
  {
   "cell_type": "markdown",
   "metadata": {},
   "source": [
    "The dates are now good.\n",
    "- Creating new columns with calculations using the datetime data in order to get the maximum value out of some of these columns. NaN and abnormal values will then be managed in the [Handling NaN](#handle_nan) section below.\n",
    "\n",
    "Columns to be created:\n",
    "\n",
    "days_host - Number of days between the host_since and the last_scraped columns  \n",
    "\n",
    "days_reviews - Number of days between the first_review and last_review columns  \n",
    "\n",
    "The original columns will then be dropped."
   ]
  },
  {
   "cell_type": "code",
   "execution_count": 17,
   "metadata": {},
   "outputs": [
    {
     "data": {
      "text/plain": [
       "0    4541.0\n",
       "1    4505.0\n",
       "2    4381.0\n",
       "3    4551.0\n",
       "4    4258.0\n",
       "Name: days_host, dtype: float64"
      ]
     },
     "execution_count": 17,
     "metadata": {},
     "output_type": "execute_result"
    }
   ],
   "source": [
    "# Creating the days_host column\n",
    "#CREDIT: https://stackoverflow.com/questions/33605514/how-to-extract-days-as-integers-from-a-timedelta64ns-object-in-python\n",
    "\n",
    "listings['days_host'] = (listings['last_scraped'] - listings['host_since']).astype('timedelta64[D]')\n",
    "\n",
    "listings['days_host'].head()"
   ]
  },
  {
   "cell_type": "code",
   "execution_count": 18,
   "metadata": {},
   "outputs": [
    {
     "data": {
      "text/plain": [
       "0       0.0\n",
       "1    1031.0\n",
       "2    4204.0\n",
       "3    3568.0\n",
       "4    1953.0\n",
       "Name: days_reviews, dtype: float64"
      ]
     },
     "execution_count": 18,
     "metadata": {},
     "output_type": "execute_result"
    }
   ],
   "source": [
    "# Creating the days_reviews column\n",
    "\n",
    "listings['days_reviews'] = (listings['last_review'] - listings['first_review']).astype('timedelta64[D]')\n",
    "\n",
    "listings['days_reviews'].head()"
   ]
  },
  {
   "cell_type": "code",
   "execution_count": 19,
   "metadata": {},
   "outputs": [
    {
     "name": "stdout",
     "output_type": "stream",
     "text": [
      "<class 'pandas.core.frame.DataFrame'>\n",
      "Int64Index: 55346 entries, 0 to 64689\n",
      "Data columns (total 47 columns):\n",
      " #   Column                                        Non-Null Count  Dtype         \n",
      "---  ------                                        --------------  -----         \n",
      " 0   id                                            55346 non-null  int64         \n",
      " 1   last_scraped                                  55346 non-null  datetime64[ns]\n",
      " 2   host_id                                       55346 non-null  int64         \n",
      " 3   host_since                                    55346 non-null  datetime64[ns]\n",
      " 4   host_response_time                            19885 non-null  object        \n",
      " 5   host_response_rate                            19885 non-null  object        \n",
      " 6   host_is_superhost                             55346 non-null  object        \n",
      " 7   host_listings_count                           55346 non-null  float64       \n",
      " 8   host_total_listings_count                     55346 non-null  float64       \n",
      " 9   host_has_profile_pic                          55346 non-null  object        \n",
      " 10  host_identity_verified                        55346 non-null  object        \n",
      " 11  neighbourhood_cleansed                        55346 non-null  object        \n",
      " 12  property_type                                 55346 non-null  object        \n",
      " 13  room_type                                     55346 non-null  object        \n",
      " 14  accommodates                                  55346 non-null  int64         \n",
      " 15  bathrooms_text                                55299 non-null  object        \n",
      " 16  bedrooms                                      42323 non-null  float64       \n",
      " 17  beds                                          55181 non-null  float64       \n",
      " 18  price                                         55346 non-null  object        \n",
      " 19  minimum_nights                                55346 non-null  int64         \n",
      " 20  maximum_nights                                55346 non-null  int64         \n",
      " 21  has_availability                              55346 non-null  object        \n",
      " 22  availability_30                               55346 non-null  int64         \n",
      " 23  availability_60                               55346 non-null  int64         \n",
      " 24  availability_90                               55346 non-null  int64         \n",
      " 25  availability_365                              55346 non-null  int64         \n",
      " 26  number_of_reviews                             55346 non-null  int64         \n",
      " 27  number_of_reviews_ltm                         55346 non-null  int64         \n",
      " 28  number_of_reviews_l30d                        55346 non-null  int64         \n",
      " 29  first_review                                  42765 non-null  datetime64[ns]\n",
      " 30  last_review                                   42765 non-null  datetime64[ns]\n",
      " 31  review_scores_rating                          41717 non-null  float64       \n",
      " 32  review_scores_accuracy                        41677 non-null  float64       \n",
      " 33  review_scores_cleanliness                     41685 non-null  float64       \n",
      " 34  review_scores_checkin                         41664 non-null  float64       \n",
      " 35  review_scores_communication                   41680 non-null  float64       \n",
      " 36  review_scores_location                        41664 non-null  float64       \n",
      " 37  review_scores_value                           41664 non-null  float64       \n",
      " 38  license                                       19237 non-null  object        \n",
      " 39  instant_bookable                              55346 non-null  object        \n",
      " 40  calculated_host_listings_count                55346 non-null  int64         \n",
      " 41  calculated_host_listings_count_entire_homes   55346 non-null  int64         \n",
      " 42  calculated_host_listings_count_private_rooms  55346 non-null  int64         \n",
      " 43  calculated_host_listings_count_shared_rooms   55346 non-null  int64         \n",
      " 44  reviews_per_month                             42765 non-null  float64       \n",
      " 45  days_host                                     55346 non-null  float64       \n",
      " 46  days_reviews                                  42765 non-null  float64       \n",
      "dtypes: datetime64[ns](4), float64(14), int64(16), object(13)\n",
      "memory usage: 20.3+ MB\n"
     ]
    }
   ],
   "source": [
    "listings.info()"
   ]
  },
  {
   "cell_type": "markdown",
   "metadata": {},
   "source": [
    "The 2 new columns look good. Days_reviews has NaN values which will be evaluated later.\n",
    "\n",
    "- Dropping the last_scraped and host_since date columns as they are no longer needed."
   ]
  },
  {
   "cell_type": "code",
   "execution_count": 20,
   "metadata": {},
   "outputs": [
    {
     "data": {
      "text/plain": [
       "(55346, 45)"
      ]
     },
     "execution_count": 20,
     "metadata": {},
     "output_type": "execute_result"
    }
   ],
   "source": [
    "# Dropping the last_scraped and host_since date columns\n",
    "col_drop = ['last_scraped', 'host_since']\n",
    "listings.drop(col_drop, axis=1, inplace=True)\n",
    "listings.shape"
   ]
  },
  {
   "cell_type": "markdown",
   "metadata": {},
   "source": [
    "We are now working with 45 columns of data."
   ]
  },
  {
   "cell_type": "code",
   "execution_count": 21,
   "metadata": {},
   "outputs": [
    {
     "data": {
      "text/plain": [
       "46371"
      ]
     },
     "execution_count": 21,
     "metadata": {},
     "output_type": "execute_result"
    }
   ],
   "source": [
    "# How many hosts have multiple listings?\n",
    "listings.host_id.nunique()"
   ]
  },
  {
   "cell_type": "markdown",
   "metadata": {},
   "source": [
    "8975 listings are listed by hosts with multiple listings (55346 listings - 46371 unique host id's). That's more than expected but only 16% of all of the listings. 84% are presumbably listed by hosts with only one property listed on Airbnb in Paris."
   ]
  },
  {
   "cell_type": "code",
   "execution_count": 22,
   "metadata": {},
   "outputs": [
    {
     "data": {
      "text/plain": [
       "291007369    627\n",
       "6053288      241\n",
       "2667370      236\n",
       "33889201     215\n",
       "325882341    199\n",
       "            ... \n",
       "315531361      1\n",
       "331065440      1\n",
       "13518940       1\n",
       "116420699      1\n",
       "51576832       1\n",
       "Name: host_id, Length: 46371, dtype: int64"
      ]
     },
     "execution_count": 22,
     "metadata": {},
     "output_type": "execute_result"
    }
   ],
   "source": [
    "# Exploring hosts that have multiple listings\n",
    "listings['host_id'].value_counts()"
   ]
  },
  {
   "cell_type": "markdown",
   "metadata": {},
   "source": [
    "Some hosts have over 100 listings in Paris. It's possible these are property managers and not owners."
   ]
  },
  {
   "cell_type": "code",
   "execution_count": 23,
   "metadata": {},
   "outputs": [],
   "source": [
    "# Adding a new column with the count of listings for each host_id in order to remove 6 existing columns\n",
    "# that came with the dataset and appear to have this info. This new column is easier to create than to\n",
    "# validate the data in each of the 6 existing columns.\n",
    "\n",
    "listings['host_count'] = listings.groupby(['host_id'])['host_id'].transform('count')"
   ]
  },
  {
   "cell_type": "code",
   "execution_count": 24,
   "metadata": {
    "scrolled": true
   },
   "outputs": [
    {
     "name": "stdout",
     "output_type": "stream",
     "text": [
      "<class 'pandas.core.frame.DataFrame'>\n",
      "Int64Index: 55346 entries, 0 to 64689\n",
      "Data columns (total 40 columns):\n",
      " #   Column                       Non-Null Count  Dtype         \n",
      "---  ------                       --------------  -----         \n",
      " 0   id                           55346 non-null  int64         \n",
      " 1   host_id                      55346 non-null  int64         \n",
      " 2   host_response_time           19885 non-null  object        \n",
      " 3   host_response_rate           19885 non-null  object        \n",
      " 4   host_is_superhost            55346 non-null  object        \n",
      " 5   host_has_profile_pic         55346 non-null  object        \n",
      " 6   host_identity_verified       55346 non-null  object        \n",
      " 7   neighbourhood_cleansed       55346 non-null  object        \n",
      " 8   property_type                55346 non-null  object        \n",
      " 9   room_type                    55346 non-null  object        \n",
      " 10  accommodates                 55346 non-null  int64         \n",
      " 11  bathrooms_text               55299 non-null  object        \n",
      " 12  bedrooms                     42323 non-null  float64       \n",
      " 13  beds                         55181 non-null  float64       \n",
      " 14  price                        55346 non-null  object        \n",
      " 15  minimum_nights               55346 non-null  int64         \n",
      " 16  maximum_nights               55346 non-null  int64         \n",
      " 17  has_availability             55346 non-null  object        \n",
      " 18  availability_30              55346 non-null  int64         \n",
      " 19  availability_60              55346 non-null  int64         \n",
      " 20  availability_90              55346 non-null  int64         \n",
      " 21  availability_365             55346 non-null  int64         \n",
      " 22  number_of_reviews            55346 non-null  int64         \n",
      " 23  number_of_reviews_ltm        55346 non-null  int64         \n",
      " 24  number_of_reviews_l30d       55346 non-null  int64         \n",
      " 25  first_review                 42765 non-null  datetime64[ns]\n",
      " 26  last_review                  42765 non-null  datetime64[ns]\n",
      " 27  review_scores_rating         41717 non-null  float64       \n",
      " 28  review_scores_accuracy       41677 non-null  float64       \n",
      " 29  review_scores_cleanliness    41685 non-null  float64       \n",
      " 30  review_scores_checkin        41664 non-null  float64       \n",
      " 31  review_scores_communication  41680 non-null  float64       \n",
      " 32  review_scores_location       41664 non-null  float64       \n",
      " 33  review_scores_value          41664 non-null  float64       \n",
      " 34  license                      19237 non-null  object        \n",
      " 35  instant_bookable             55346 non-null  object        \n",
      " 36  reviews_per_month            42765 non-null  float64       \n",
      " 37  days_host                    55346 non-null  float64       \n",
      " 38  days_reviews                 42765 non-null  float64       \n",
      " 39  host_count                   55346 non-null  int64         \n",
      "dtypes: datetime64[ns](2), float64(12), int64(13), object(13)\n",
      "memory usage: 17.3+ MB\n"
     ]
    }
   ],
   "source": [
    "# Dropping the 6 columns for host listing counts and keeping my new column for this info\n",
    "col_drop = ['host_listings_count', 'host_total_listings_count', 'calculated_host_listings_count',\n",
    "            'calculated_host_listings_count_entire_homes', 'calculated_host_listings_count_private_rooms',\n",
    "            'calculated_host_listings_count_shared_rooms']\n",
    "listings.drop(col_drop, axis=1, inplace=True)\n",
    "listings.info()"
   ]
  },
  {
   "cell_type": "markdown",
   "metadata": {},
   "source": [
    "We now have 40 columns of data."
   ]
  },
  {
   "cell_type": "code",
   "execution_count": 25,
   "metadata": {},
   "outputs": [
    {
     "data": {
      "text/plain": [
       "f    48726\n",
       "t     6620\n",
       "Name: host_is_superhost, dtype: int64"
      ]
     },
     "execution_count": 25,
     "metadata": {},
     "output_type": "execute_result"
    }
   ],
   "source": [
    "# Exploring the host_is_superhost column\n",
    "listings['host_is_superhost'].value_counts()"
   ]
  },
  {
   "cell_type": "code",
   "execution_count": 26,
   "metadata": {},
   "outputs": [
    {
     "data": {
      "text/plain": [
       "t    55167\n",
       "f      179\n",
       "Name: host_has_profile_pic, dtype: int64"
      ]
     },
     "execution_count": 26,
     "metadata": {},
     "output_type": "execute_result"
    }
   ],
   "source": [
    "# Exploring the host_has_profile_pic column\n",
    "listings['host_has_profile_pic'].value_counts()"
   ]
  },
  {
   "cell_type": "code",
   "execution_count": 27,
   "metadata": {},
   "outputs": [
    {
     "data": {
      "text/plain": [
       "t    42958\n",
       "f    12388\n",
       "Name: host_identity_verified, dtype: int64"
      ]
     },
     "execution_count": 27,
     "metadata": {},
     "output_type": "execute_result"
    }
   ],
   "source": [
    "# Exploring the host_identity_verified column\n",
    "listings['host_identity_verified'].value_counts()"
   ]
  },
  {
   "cell_type": "markdown",
   "metadata": {},
   "source": [
    "The data in the 'host_is_superhost', 'host_has_profile_pic', and 'host_identity_verified' columns is good and could be useful for our model.\n",
    "\n",
    "- These columns with 't' and 'f' will be updated in a later step to be True and False in order to be recognized as boolean."
   ]
  },
  {
   "cell_type": "code",
   "execution_count": 28,
   "metadata": {},
   "outputs": [
    {
     "data": {
      "text/plain": [
       "Buttes-Montmartre      11.567232\n",
       "Popincourt              9.953746\n",
       "Vaugirard               7.451306\n",
       "Entrepôt                7.167636\n",
       "Batignolles-Monceau     6.741228\n",
       "Ménilmontant            5.722184\n",
       "Buttes-Chaumont         5.510787\n",
       "Passy                   5.071731\n",
       "Temple                  4.909117\n",
       "Opéra                   4.545947\n",
       "Reuilly                 4.054494\n",
       "Observatoire            3.743721\n",
       "Bourse                  3.505222\n",
       "Gobelins                3.254074\n",
       "Panthéon                3.248654\n",
       "Hôtel-de-Ville          3.223359\n",
       "Luxembourg              2.921620\n",
       "Palais-Bourbon          2.753587\n",
       "Élysée                  2.506053\n",
       "Louvre                  2.148303\n",
       "Name: neighbourhood_cleansed, dtype: float64"
      ]
     },
     "execution_count": 28,
     "metadata": {},
     "output_type": "execute_result"
    }
   ],
   "source": [
    "# Explore the neighbourhood_cleansed column by percentage\n",
    "listings['neighbourhood_cleansed'].value_counts(normalize=True) * 100"
   ]
  },
  {
   "cell_type": "markdown",
   "metadata": {},
   "source": [
    "By far the most listings are in the Buttes-Montmartre and Popincourt neighborhoods with over 20% of all the listings in just these two neighborhoods.\n",
    "\n",
    "- Is the average listing price higher or lower in those two neighborhoods?\n",
    "\n",
    "For our business case at this point, it would seem that we would be better off being a host of a property in a neighborhood with a lower percentage of the listings as supply is lower but of course demand for those neighborhoods would need to be high for that to work for our business case. We will see if that is true with further evaluation of the data."
   ]
  },
  {
   "cell_type": "code",
   "execution_count": 29,
   "metadata": {},
   "outputs": [
    {
     "data": {
      "text/plain": [
       "Entire apartment             93.146750\n",
       "Entire condominium            3.228779\n",
       "Entire loft                   1.985690\n",
       "Entire house                  0.619738\n",
       "Entire serviced apartment     0.316193\n",
       "Entire townhouse              0.294511\n",
       "Entire guesthouse             0.072273\n",
       "Entire place                  0.066852\n",
       "Entire guest suite            0.056011\n",
       "Room in aparthotel            0.045170\n",
       "Tiny house                    0.045170\n",
       "Entire villa                  0.027102\n",
       "Boat                          0.023489\n",
       "Houseboat                     0.010841\n",
       "Room in boutique hotel        0.009034\n",
       "Entire home/apt               0.009034\n",
       "Earth house                   0.007227\n",
       "Barn                          0.005420\n",
       "Entire bungalow               0.005420\n",
       "Dome house                    0.005420\n",
       "Entire cottage                0.003614\n",
       "Entire chalet                 0.001807\n",
       "Casa particular               0.001807\n",
       "Camper/RV                     0.001807\n",
       "Entire floor                  0.001807\n",
       "Campsite                      0.001807\n",
       "Island                        0.001807\n",
       "Treehouse                     0.001807\n",
       "Entire bed and breakfast      0.001807\n",
       "Cave                          0.001807\n",
       "Name: property_type, dtype: float64"
      ]
     },
     "execution_count": 29,
     "metadata": {},
     "output_type": "execute_result"
    }
   ],
   "source": [
    "# Explore the property_type column by percentage\n",
    "listings['property_type'].value_counts(normalize=True) * 100"
   ]
  },
  {
   "cell_type": "markdown",
   "metadata": {},
   "source": [
    "93% are apartments"
   ]
  },
  {
   "cell_type": "code",
   "execution_count": 30,
   "metadata": {},
   "outputs": [
    {
     "data": {
      "text/plain": [
       "(55346, 39)"
      ]
     },
     "execution_count": 30,
     "metadata": {},
     "output_type": "execute_result"
    }
   ],
   "source": [
    "# Dropping the room_type column as all the values are the same. We previously narrowed the data down to only include listings with a room_type of \"Entire home/apt\".\n",
    "listings = listings.drop(['room_type'], axis = 1)\n",
    "listings.shape"
   ]
  },
  {
   "cell_type": "markdown",
   "metadata": {},
   "source": [
    "We now have 39 columns of data."
   ]
  },
  {
   "cell_type": "code",
   "execution_count": 31,
   "metadata": {},
   "outputs": [
    {
     "data": {
      "text/plain": [
       "1      1306\n",
       "2     25688\n",
       "3      5705\n",
       "4     15226\n",
       "5      2409\n",
       "6      3382\n",
       "7       460\n",
       "8       692\n",
       "9        89\n",
       "10      197\n",
       "11       33\n",
       "12       69\n",
       "13       17\n",
       "14       26\n",
       "15       23\n",
       "16       24\n",
       "Name: accommodates, dtype: int64"
      ]
     },
     "execution_count": 31,
     "metadata": {},
     "output_type": "execute_result"
    }
   ],
   "source": [
    "# Exploring the accommodates column by total counts\n",
    "listings['accommodates'].value_counts().sort_index()"
   ]
  },
  {
   "cell_type": "code",
   "execution_count": 32,
   "metadata": {},
   "outputs": [
    {
     "data": {
      "text/plain": [
       "2     46.413472\n",
       "4     27.510570\n",
       "3     10.307881\n",
       "6      6.110649\n",
       "5      4.352618\n",
       "1      2.359701\n",
       "8      1.250316\n",
       "7      0.831135\n",
       "10     0.355943\n",
       "9      0.160807\n",
       "12     0.124670\n",
       "11     0.059625\n",
       "14     0.046977\n",
       "16     0.043364\n",
       "15     0.041557\n",
       "13     0.030716\n",
       "Name: accommodates, dtype: float64"
      ]
     },
     "execution_count": 32,
     "metadata": {},
     "output_type": "execute_result"
    }
   ],
   "source": [
    "# Explore the accommodates column by percentage\n",
    "listings['accommodates'].value_counts(normalize=True) * 100"
   ]
  },
  {
   "cell_type": "markdown",
   "metadata": {},
   "source": [
    "46% of listings accomodate 2 people and over 27% accomodate 4. This will be useful data for our model."
   ]
  },
  {
   "cell_type": "code",
   "execution_count": 33,
   "metadata": {},
   "outputs": [
    {
     "data": {
      "text/plain": [
       "$1,000.00     29\n",
       "$1,025.00      1\n",
       "$1,035.00      4\n",
       "$1,037.00      1\n",
       "$1,043.00      1\n",
       "            ... \n",
       "$99.00       544\n",
       "$990.00        3\n",
       "$995.00        1\n",
       "$998.00        2\n",
       "$999.00        4\n",
       "Name: price, Length: 723, dtype: int64"
      ]
     },
     "execution_count": 33,
     "metadata": {},
     "output_type": "execute_result"
    }
   ],
   "source": [
    "# Investigating the price column\n",
    "listings['price'].value_counts().sort_index()"
   ]
  },
  {
   "cell_type": "markdown",
   "metadata": {},
   "source": [
    "This is not the expected output order. The price column dtype is object and the $ and ',' need to be removed in order to make these values floats."
   ]
  },
  {
   "cell_type": "code",
   "execution_count": 34,
   "metadata": {},
   "outputs": [],
   "source": [
    "# Removing $ and ',' from the price column.\n",
    "# CREDIT: https://stackoverflow.com/questions/25669588/convert-percent-string-to-float-in-pandas-read-csv\n",
    "\n",
    "listings['price'] = listings['price'].apply(lambda x: x.replace('$', '').replace(',', '')).astype('float')"
   ]
  },
  {
   "cell_type": "code",
   "execution_count": 35,
   "metadata": {},
   "outputs": [
    {
     "data": {
      "text/plain": [
       "dtype('float64')"
      ]
     },
     "execution_count": 35,
     "metadata": {},
     "output_type": "execute_result"
    }
   ],
   "source": [
    "listings['price'].dtype"
   ]
  },
  {
   "cell_type": "code",
   "execution_count": 36,
   "metadata": {},
   "outputs": [
    {
     "data": {
      "text/plain": [
       "8.0         1\n",
       "9.0         6\n",
       "10.0       10\n",
       "12.0        9\n",
       "13.0        1\n",
       "           ..\n",
       "9280.0      6\n",
       "9631.0      1\n",
       "10250.0     1\n",
       "11599.0     1\n",
       "12000.0     1\n",
       "Name: price, Length: 723, dtype: int64"
      ]
     },
     "execution_count": 36,
     "metadata": {},
     "output_type": "execute_result"
    }
   ],
   "source": [
    "# Investigating the price column again\n",
    "listings['price'].value_counts().sort_index()"
   ]
  },
  {
   "cell_type": "markdown",
   "metadata": {},
   "source": [
    "This is much better. The listing prices range from 8 euro up to 11,600 euro per night. (Assumption:  The price values are in euro not dollars as Paris is in France which uses the euro currency.)\n",
    "- Note: 1 listing is 0 euro and is assumed to be note availble for rent as it is not logical that Airbnb would process a booking with no value. Further investigation is needed.\n",
    "\n",
    "Looking closer at the price data, it looks like this is a large range from the min to max values and there may be outliers that need to be handled properly."
   ]
  },
  {
   "cell_type": "markdown",
   "metadata": {},
   "source": [
    "<a name=\"price_outliers\"></a>\n",
    "**Exploring Outliers in the Price Column**\n",
    "\n",
    "[Back to Top](#top)"
   ]
  },
  {
   "cell_type": "code",
   "execution_count": 37,
   "metadata": {},
   "outputs": [
    {
     "data": {
      "image/png": "[encoded data removed]",
      "text/plain": [
       "<Figure size 432x288 with 1 Axes>"
      ]
     },
     "metadata": {
      "needs_background": "light"
     },
     "output_type": "display_data"
    }
   ],
   "source": [
    "# Explore price for potential outliers\n",
    "listings.price.hist();"
   ]
  },
  {
   "cell_type": "markdown",
   "metadata": {},
   "source": [
    "This histogram is obviously heavily skewed right. The outliers with the highest value should be removed."
   ]
  },
  {
   "cell_type": "code",
   "execution_count": 38,
   "metadata": {
    "scrolled": true
   },
   "outputs": [
    {
     "data": {
      "image/png": "[encoded data removed]",
      "text/plain": [
       "<Figure size 432x288 with 1 Axes>"
      ]
     },
     "metadata": {
      "needs_background": "light"
     },
     "output_type": "display_data"
    }
   ],
   "source": [
    "sns.boxplot(x=listings['price']);"
   ]
  },
  {
   "cell_type": "markdown",
   "metadata": {},
   "source": [
    "There are many outliers in the price column. Let's take a look at the interquartile range (IQR) and then find the upper and lower limits."
   ]
  },
  {
   "cell_type": "code",
   "execution_count": 39,
   "metadata": {},
   "outputs": [
    {
     "name": "stdout",
     "output_type": "stream",
     "text": [
      "\n",
      "Q1 = 60.0\n",
      "\n",
      "Q3 = 120.0\n",
      "\n",
      "IQR = 60.0\n"
     ]
    }
   ],
   "source": [
    "# Finding the IQR using numpy.percentile\n",
    "# CREDIT: https://www.geeksforgeeks.org/interquartile-range-and-quartile-deviation-using-numpy-and-scipy/\n",
    "\n",
    "Q1 = np.percentile(listings.price, 25, interpolation = 'midpoint') \n",
    "Q3 = np.percentile(listings.price, 75, interpolation = 'midpoint') \n",
    "\n",
    "IQR = Q3 - Q1 \n",
    "  \n",
    "print('\\nQ1 =', Q1)\n",
    "print('\\nQ3 =', Q3)\n",
    "print('\\nIQR =', IQR)"
   ]
  },
  {
   "cell_type": "code",
   "execution_count": 40,
   "metadata": {},
   "outputs": [
    {
     "name": "stdout",
     "output_type": "stream",
     "text": [
      "\n",
      "Upper Limit = 210.0\n",
      "\n",
      "Lower Limit = -30.0\n"
     ]
    }
   ],
   "source": [
    "upper_limit = Q3 + (1.5 * IQR)\n",
    "lower_limit = Q1 - (1.5 * IQR)\n",
    "\n",
    "print('\\nUpper Limit =', upper_limit)\n",
    "print('\\nLower Limit =', lower_limit)"
   ]
  },
  {
   "cell_type": "markdown",
   "metadata": {},
   "source": [
    "Let's explore the quartiles and percentiles further."
   ]
  },
  {
   "cell_type": "code",
   "execution_count": 41,
   "metadata": {},
   "outputs": [
    {
     "data": {
      "text/plain": [
       "0.25       60.0\n",
       "0.50       82.0\n",
       "0.75      120.0\n",
       "1.00    12000.0\n",
       "Name: price, dtype: float64"
      ]
     },
     "execution_count": 41,
     "metadata": {},
     "output_type": "execute_result"
    }
   ],
   "source": [
    "# Exploring the quartile values\n",
    "listings['price'].quantile([0.25, 0.5, 0.75, 1.0])"
   ]
  },
  {
   "cell_type": "markdown",
   "metadata": {},
   "source": [
    "The value at the 75th percentile is 120. Let's check the 95th percentile."
   ]
  },
  {
   "cell_type": "code",
   "execution_count": 42,
   "metadata": {},
   "outputs": [
    {
     "data": {
      "text/plain": [
       "0.95    261.0\n",
       "Name: price, dtype: float64"
      ]
     },
     "execution_count": 42,
     "metadata": {},
     "output_type": "execute_result"
    }
   ],
   "source": [
    "# Checking the value at the 95th percentile of the price column\n",
    "listings['price'].quantile([0.95])"
   ]
  },
  {
   "cell_type": "markdown",
   "metadata": {},
   "source": [
    "261 is the value at the 95th percentile which means the top 5% of the prices range from 261 to 12,000.\n",
    "\n",
    "Based on the values returned above, the listings with a price above the upper limit which is currently 210 will be dropped. No listings with values on the lower end of our price range will be removed because they are all within the lower limit of -30.\n",
    "- This action will be dynamic as to adjust each time a new dataset is processed."
   ]
  },
  {
   "cell_type": "code",
   "execution_count": 43,
   "metadata": {
    "scrolled": true
   },
   "outputs": [
    {
     "data": {
      "text/plain": [
       "(55346, 39)"
      ]
     },
     "execution_count": 43,
     "metadata": {},
     "output_type": "execute_result"
    }
   ],
   "source": [
    "listings.shape"
   ]
  },
  {
   "cell_type": "code",
   "execution_count": 44,
   "metadata": {},
   "outputs": [
    {
     "data": {
      "text/plain": [
       "(51029, 39)"
      ]
     },
     "execution_count": 44,
     "metadata": {},
     "output_type": "execute_result"
    }
   ],
   "source": [
    "# Dropping the rows that are between the lower and upper limits\n",
    "\n",
    "Q1 = np.percentile(listings.price, 25, interpolation = 'midpoint')\n",
    "Q3 = np.percentile(listings.price, 75, interpolation = 'midpoint')\n",
    "\n",
    "IQR = Q3 - Q1\n",
    "\n",
    "upper_limit = (Q3+(1.5)*(Q3 - Q1))\n",
    "lower_limit = (Q1-(1.5)*(Q3 - Q1))\n",
    "\n",
    "listings = listings[(listings.price >= lower_limit) & (listings.price <= upper_limit)]\n",
    "\n",
    "listings.shape"
   ]
  },
  {
   "cell_type": "code",
   "execution_count": 45,
   "metadata": {},
   "outputs": [
    {
     "data": {
      "text/plain": [
       "8.0        1\n",
       "9.0        6\n",
       "10.0      10\n",
       "12.0       9\n",
       "13.0       1\n",
       "        ... \n",
       "206.0     21\n",
       "207.0     14\n",
       "208.0      8\n",
       "209.0     20\n",
       "210.0    109\n",
       "Name: price, Length: 202, dtype: int64"
      ]
     },
     "execution_count": 45,
     "metadata": {},
     "output_type": "execute_result"
    }
   ],
   "source": [
    "listings['price'].value_counts().sort_index()"
   ]
  },
  {
   "cell_type": "markdown",
   "metadata": {},
   "source": [
    "4317 rows removed."
   ]
  },
  {
   "cell_type": "code",
   "execution_count": 46,
   "metadata": {
    "scrolled": true
   },
   "outputs": [
    {
     "data": {
      "image/png": "[encoded data removed]",
      "text/plain": [
       "<Figure size 432x288 with 1 Axes>"
      ]
     },
     "metadata": {
      "needs_background": "light"
     },
     "output_type": "display_data"
    }
   ],
   "source": [
    "# Checking the histogram of the price column to see if the data looks better\n",
    "listings.price.hist();"
   ]
  },
  {
   "cell_type": "code",
   "execution_count": 47,
   "metadata": {},
   "outputs": [
    {
     "data": {
      "image/png": "[encoded data removed]",
      "text/plain": [
       "<Figure size 432x288 with 1 Axes>"
      ]
     },
     "metadata": {
      "needs_background": "light"
     },
     "output_type": "display_data"
    }
   ],
   "source": [
    "sns.boxplot(x=listings['price']);"
   ]
  },
  {
   "cell_type": "markdown",
   "metadata": {},
   "source": [
    "The outliers have now been handled accurately. The histogram and boxplot look better but are still skewed to the right due to the majority of prices being in the lower end of the price range."
   ]
  },
  {
   "cell_type": "code",
   "execution_count": 48,
   "metadata": {},
   "outputs": [
    {
     "data": {
      "text/plain": [
       "1       11195\n",
       "2       13694\n",
       "3        9714\n",
       "4        4476\n",
       "5        3850\n",
       "        ...  \n",
       "999         2\n",
       "1000        1\n",
       "1001        1\n",
       "1124        1\n",
       "1125        1\n",
       "Name: minimum_nights, Length: 94, dtype: int64"
      ]
     },
     "execution_count": 48,
     "metadata": {},
     "output_type": "execute_result"
    }
   ],
   "source": [
    "# Exploring the minimum_nights column\n",
    "listings['minimum_nights'].value_counts().sort_index()"
   ]
  },
  {
   "cell_type": "markdown",
   "metadata": {},
   "source": [
    "Some of these values are very odd. Paris has a requirement that vacation rentals are only made available a certain percentage of the year. Any listing that has a minimum stay of 365 days or more is obviously either in violation of these rules or has had the minimum night extended out in order to make the listing non-bookable.\n",
    "\n",
    "- Leaving this data as it is for our model."
   ]
  },
  {
   "cell_type": "code",
   "execution_count": 49,
   "metadata": {},
   "outputs": [
    {
     "data": {
      "text/plain": [
       "1         64\n",
       "2        177\n",
       "3        283\n",
       "4        287\n",
       "5        421\n",
       "        ... \n",
       "1800       1\n",
       "2000       2\n",
       "5000       1\n",
       "50000      1\n",
       "85554      1\n",
       "Name: maximum_nights, Length: 232, dtype: int64"
      ]
     },
     "execution_count": 49,
     "metadata": {},
     "output_type": "execute_result"
    }
   ],
   "source": [
    "# Exploring the maximum_nights column\n",
    "listings['maximum_nights'].value_counts().sort_index()"
   ]
  },
  {
   "cell_type": "markdown",
   "metadata": {},
   "source": [
    "Again, some of these values are odd. Why set the maximum stay at 85554 days (234 years)?\n",
    "\n",
    "- Leaving this data as it is for our model."
   ]
  },
  {
   "cell_type": "code",
   "execution_count": 50,
   "metadata": {},
   "outputs": [
    {
     "data": {
      "text/plain": [
       "t    50961\n",
       "f       68\n",
       "Name: has_availability, dtype: int64"
      ]
     },
     "execution_count": 50,
     "metadata": {},
     "output_type": "execute_result"
    }
   ],
   "source": [
    "# Exploring the has_availability column\n",
    "listings['has_availability'].value_counts()"
   ]
  },
  {
   "cell_type": "markdown",
   "metadata": {},
   "source": [
    "This information is not very useful for our model. 68 out of 50961 listings are not available to book but even those unavailable listings will have valuable data for us.\n",
    "- Dropping the has_availability column."
   ]
  },
  {
   "cell_type": "code",
   "execution_count": 51,
   "metadata": {},
   "outputs": [
    {
     "data": {
      "text/plain": [
       "(51029, 38)"
      ]
     },
     "execution_count": 51,
     "metadata": {},
     "output_type": "execute_result"
    }
   ],
   "source": [
    "# Dropping the has_availability column.\n",
    "listings = listings.drop(['has_availability'], axis = 1)\n",
    "listings.shape"
   ]
  },
  {
   "cell_type": "markdown",
   "metadata": {},
   "source": [
    "We are now working with 38 columns of data."
   ]
  },
  {
   "cell_type": "code",
   "execution_count": 52,
   "metadata": {},
   "outputs": [
    {
     "data": {
      "text/plain": [
       "0     34043\n",
       "1       579\n",
       "2       435\n",
       "3       128\n",
       "4       142\n",
       "5        93\n",
       "6       188\n",
       "7       198\n",
       "8       189\n",
       "9       181\n",
       "10      142\n",
       "11      116\n",
       "12      179\n",
       "13      438\n",
       "14      553\n",
       "15      367\n",
       "16      279\n",
       "17      196\n",
       "18      169\n",
       "19      161\n",
       "20      207\n",
       "21      220\n",
       "22      267\n",
       "23      946\n",
       "24      277\n",
       "25      276\n",
       "26      273\n",
       "27     1278\n",
       "28     2018\n",
       "29     3037\n",
       "30     3454\n",
       "Name: availability_30, dtype: int64"
      ]
     },
     "execution_count": 52,
     "metadata": {},
     "output_type": "execute_result"
    }
   ],
   "source": [
    "# Exploring the availability_30 column\n",
    "listings['availability_30'].value_counts().sort_index()"
   ]
  },
  {
   "cell_type": "code",
   "execution_count": 53,
   "metadata": {},
   "outputs": [
    {
     "data": {
      "text/plain": [
       "0     32597\n",
       "1       513\n",
       "2       397\n",
       "3       134\n",
       "4       112\n",
       "      ...  \n",
       "56      248\n",
       "57     1232\n",
       "58     1904\n",
       "59     2882\n",
       "60     3299\n",
       "Name: availability_60, Length: 61, dtype: int64"
      ]
     },
     "execution_count": 53,
     "metadata": {},
     "output_type": "execute_result"
    }
   ],
   "source": [
    "# Exploring the availability_60 column\n",
    "listings['availability_60'].value_counts().sort_index()"
   ]
  },
  {
   "cell_type": "code",
   "execution_count": 54,
   "metadata": {},
   "outputs": [
    {
     "data": {
      "text/plain": [
       "0     31688\n",
       "1       503\n",
       "2       374\n",
       "3        96\n",
       "4        93\n",
       "      ...  \n",
       "86      239\n",
       "87     1196\n",
       "88     1842\n",
       "89     2773\n",
       "90     3167\n",
       "Name: availability_90, Length: 91, dtype: int64"
      ]
     },
     "execution_count": 54,
     "metadata": {},
     "output_type": "execute_result"
    }
   ],
   "source": [
    "# Exploring the availability_90 column\n",
    "listings['availability_90'].value_counts().sort_index()"
   ]
  },
  {
   "cell_type": "code",
   "execution_count": 55,
   "metadata": {
    "scrolled": false
   },
   "outputs": [
    {
     "data": {
      "text/plain": [
       "0      28756\n",
       "1        419\n",
       "2        327\n",
       "3         68\n",
       "4         61\n",
       "       ...  \n",
       "361      127\n",
       "362      457\n",
       "363      694\n",
       "364     1192\n",
       "365     1712\n",
       "Name: availability_365, Length: 366, dtype: int64"
      ]
     },
     "execution_count": 55,
     "metadata": {},
     "output_type": "execute_result"
    }
   ],
   "source": [
    "# Exploring the availability_365 column\n",
    "listings['availability_365'].value_counts().sort_index()"
   ]
  },
  {
   "cell_type": "markdown",
   "metadata": {},
   "source": [
    "Out of our 51029 listings, 34043 did not have availability in the 30 days after the date the data was scraped. Furthermore, 32597 do not have availability in 60 days and 31688 have none in 90 days.\n",
    "\n",
    "In the availability_365 column, there are still 28756 listings (56% of our current total) that have 0 availability."
   ]
  },
  {
   "cell_type": "code",
   "execution_count": 56,
   "metadata": {},
   "outputs": [
    {
     "data": {
      "text/plain": [
       "(51029, 38)"
      ]
     },
     "execution_count": 56,
     "metadata": {},
     "output_type": "execute_result"
    }
   ],
   "source": [
    "listings.shape"
   ]
  },
  {
   "cell_type": "markdown",
   "metadata": {},
   "source": [
    "Assumption:  Any listings that are not available for rent for the next 365 days and have never been reviewed may have never been rented. These listings have a potential to have features that do not represent the rest of the data as a whole and will therefore be dropped."
   ]
  },
  {
   "cell_type": "code",
   "execution_count": 57,
   "metadata": {},
   "outputs": [
    {
     "data": {
      "text/plain": [
       "(44001, 38)"
      ]
     },
     "execution_count": 57,
     "metadata": {},
     "output_type": "execute_result"
    }
   ],
   "source": [
    "# Dropping any rows where listings do not have any availability in the next 365 days and do not have any reviews.\n",
    "listings['concat'] = listings['availability_365'] + listings['number_of_reviews']\n",
    "listings = listings[listings.concat > 0].drop(['concat'], axis = 1)\n",
    "listings.shape"
   ]
  },
  {
   "cell_type": "markdown",
   "metadata": {},
   "source": [
    "Wow! 7028 listings were removed. We are now working with 44001 listings with 38 columns of data for each.\n",
    "\n",
    "Since we have the availability_365 column and there are a lot of listings with no availability in the other availibility columns, I will be dropping the availability_30, availability_60, and availability_90 columns. This will reduce noise in our data."
   ]
  },
  {
   "cell_type": "code",
   "execution_count": 58,
   "metadata": {},
   "outputs": [
    {
     "data": {
      "text/plain": [
       "(44001, 35)"
      ]
     },
     "execution_count": 58,
     "metadata": {},
     "output_type": "execute_result"
    }
   ],
   "source": [
    "# Dropping columns identified above to make further investigation of the data easier\n",
    "col_drop = ['availability_30', 'availability_60', 'availability_90']\n",
    "listings.drop(col_drop, axis=1, inplace=True)\n",
    "listings.shape"
   ]
  },
  {
   "cell_type": "markdown",
   "metadata": {},
   "source": [
    "We now have 35 columns."
   ]
  },
  {
   "cell_type": "code",
   "execution_count": 59,
   "metadata": {},
   "outputs": [
    {
     "data": {
      "text/plain": [
       "0      4348\n",
       "1      4973\n",
       "2      3416\n",
       "3      2655\n",
       "4      2197\n",
       "       ... \n",
       "608       1\n",
       "609       1\n",
       "621       1\n",
       "636       1\n",
       "700       1\n",
       "Name: number_of_reviews, Length: 400, dtype: int64"
      ]
     },
     "execution_count": 59,
     "metadata": {},
     "output_type": "execute_result"
    }
   ],
   "source": [
    "# Exploring the number_of_reviews column\n",
    "listings['number_of_reviews'].value_counts().sort_index()"
   ]
  },
  {
   "cell_type": "markdown",
   "metadata": {},
   "source": [
    "This data is good and could be useful for our model."
   ]
  },
  {
   "cell_type": "code",
   "execution_count": 60,
   "metadata": {},
   "outputs": [
    {
     "data": {
      "text/plain": [
       "0      27927\n",
       "1       4881\n",
       "2       2881\n",
       "3       1840\n",
       "4       1265\n",
       "       ...  \n",
       "97         1\n",
       "100        1\n",
       "103        2\n",
       "105        1\n",
       "116        1\n",
       "Name: number_of_reviews_ltm, Length: 80, dtype: int64"
      ]
     },
     "execution_count": 60,
     "metadata": {},
     "output_type": "execute_result"
    }
   ],
   "source": [
    "# Exploring the number_of_reviews_ltm column\n",
    "listings['number_of_reviews_ltm'].value_counts().sort_index()"
   ]
  },
  {
   "cell_type": "markdown",
   "metadata": {},
   "source": [
    "Assumption:  This is column captures the number of reviews a listing has had over the last twelve months (ltm).\n",
    "\n",
    "If so, this data is showing that 27927 listings have had no reviews in the last year and most likely have not been rented or were rented infrequently in that time."
   ]
  },
  {
   "cell_type": "code",
   "execution_count": 61,
   "metadata": {},
   "outputs": [
    {
     "data": {
      "text/plain": [
       "0     41165\n",
       "1      1512\n",
       "2       565\n",
       "3       331\n",
       "4       186\n",
       "5       104\n",
       "6        55\n",
       "7        43\n",
       "8        19\n",
       "9         5\n",
       "10       10\n",
       "11        3\n",
       "12        2\n",
       "14        1\n",
       "Name: number_of_reviews_l30d, dtype: int64"
      ]
     },
     "execution_count": 61,
     "metadata": {},
     "output_type": "execute_result"
    }
   ],
   "source": [
    "# Exploring the number_of_reviews_l30d column\n",
    "listings['number_of_reviews_l30d'].value_counts().sort_index()"
   ]
  },
  {
   "cell_type": "markdown",
   "metadata": {},
   "source": [
    "94% of the listings (41165) have not had a review in the last 30 days.\n",
    "\n",
    "The number_of_reviews_ltm and number_of_reviews_l30d is not neccesarily abnormal but it is heavily skewed. I will be dropping these columns."
   ]
  },
  {
   "cell_type": "code",
   "execution_count": 62,
   "metadata": {},
   "outputs": [
    {
     "data": {
      "text/plain": [
       "(44001, 33)"
      ]
     },
     "execution_count": 62,
     "metadata": {},
     "output_type": "execute_result"
    }
   ],
   "source": [
    "# Dropping columns identified above to make further investigation of the data easier\n",
    "col_drop = ['number_of_reviews_ltm', 'number_of_reviews_l30d']\n",
    "listings.drop(col_drop, axis=1, inplace=True)\n",
    "listings.shape"
   ]
  },
  {
   "cell_type": "markdown",
   "metadata": {},
   "source": [
    "We now have 33 columns of data."
   ]
  },
  {
   "cell_type": "code",
   "execution_count": 63,
   "metadata": {},
   "outputs": [
    {
     "data": {
      "text/plain": [
       "f    31008\n",
       "t    12993\n",
       "Name: instant_bookable, dtype: int64"
      ]
     },
     "execution_count": 63,
     "metadata": {},
     "output_type": "execute_result"
    }
   ],
   "source": [
    "# Exploring the instant_bookable column\n",
    "listings['instant_bookable'].value_counts()"
   ]
  },
  {
   "cell_type": "markdown",
   "metadata": {},
   "source": [
    "This data is good."
   ]
  },
  {
   "cell_type": "code",
   "execution_count": 64,
   "metadata": {
    "scrolled": true
   },
   "outputs": [
    {
     "name": "stdout",
     "output_type": "stream",
     "text": [
      "<class 'pandas.core.frame.DataFrame'>\n",
      "Int64Index: 44001 entries, 0 to 64689\n",
      "Data columns (total 33 columns):\n",
      " #   Column                       Non-Null Count  Dtype         \n",
      "---  ------                       --------------  -----         \n",
      " 0   id                           44001 non-null  int64         \n",
      " 1   host_id                      44001 non-null  int64         \n",
      " 2   host_response_time           16712 non-null  object        \n",
      " 3   host_response_rate           16712 non-null  object        \n",
      " 4   host_is_superhost            44001 non-null  object        \n",
      " 5   host_has_profile_pic         44001 non-null  object        \n",
      " 6   host_identity_verified       44001 non-null  object        \n",
      " 7   neighbourhood_cleansed       44001 non-null  object        \n",
      " 8   property_type                44001 non-null  object        \n",
      " 9   accommodates                 44001 non-null  int64         \n",
      " 10  bathrooms_text               43966 non-null  object        \n",
      " 11  bedrooms                     32803 non-null  float64       \n",
      " 12  beds                         43880 non-null  float64       \n",
      " 13  price                        44001 non-null  float64       \n",
      " 14  minimum_nights               44001 non-null  int64         \n",
      " 15  maximum_nights               44001 non-null  int64         \n",
      " 16  availability_365             44001 non-null  int64         \n",
      " 17  number_of_reviews            44001 non-null  int64         \n",
      " 18  first_review                 39653 non-null  datetime64[ns]\n",
      " 19  last_review                  39653 non-null  datetime64[ns]\n",
      " 20  review_scores_rating         38681 non-null  float64       \n",
      " 21  review_scores_accuracy       38643 non-null  float64       \n",
      " 22  review_scores_cleanliness    38651 non-null  float64       \n",
      " 23  review_scores_checkin        38630 non-null  float64       \n",
      " 24  review_scores_communication  38645 non-null  float64       \n",
      " 25  review_scores_location       38629 non-null  float64       \n",
      " 26  review_scores_value          38629 non-null  float64       \n",
      " 27  license                      16414 non-null  object        \n",
      " 28  instant_bookable             44001 non-null  object        \n",
      " 29  reviews_per_month            39653 non-null  float64       \n",
      " 30  days_host                    44001 non-null  float64       \n",
      " 31  days_reviews                 39653 non-null  float64       \n",
      " 32  host_count                   44001 non-null  int64         \n",
      "dtypes: datetime64[ns](2), float64(13), int64(8), object(10)\n",
      "memory usage: 11.4+ MB\n"
     ]
    }
   ],
   "source": [
    "listings.info()"
   ]
  },
  {
   "cell_type": "markdown",
   "metadata": {},
   "source": [
    "There are 44001  listings and 33 columns now as we move to address the NaN values in the next section."
   ]
  },
  {
   "cell_type": "markdown",
   "metadata": {},
   "source": [
    "***\n",
    "<a name=\"nan\"></a>\n",
    "**Handling NaN Values**  \n",
    "\n",
    "Exploring the data contained in the columns with NaN values now.\n",
    "\n",
    "Columns to be reviewed:\n",
    "\n",
    "'host_response_time'  \n",
    "'host_response_rate'  \n",
    "'bathrooms_text'  \n",
    "'bedrooms'  \n",
    "'beds'  \n",
    "'first_review'  \n",
    "'last_review'  \n",
    "'review_scores_rating'  \n",
    "'review_scores_accuracy'  \n",
    "'review_scores_cleanliness'  \n",
    "'review_scores_checkin'  \n",
    "'review_scores_communication'  \n",
    "'review_scores_location'  \n",
    "'review_scores_value'  \n",
    "'license'  \n",
    "'reviews_per_month'  \n",
    "'days_reviews' \n",
    "'days_since_lreview' \n",
    "\n",
    "[Back to Top](#top)"
   ]
  },
  {
   "cell_type": "code",
   "execution_count": 65,
   "metadata": {},
   "outputs": [
    {
     "data": {
      "text/plain": [
       "within an hour        8289\n",
       "within a few hours    3506\n",
       "within a day          3238\n",
       "a few days or more    1679\n",
       "Name: host_response_time, dtype: int64"
      ]
     },
     "execution_count": 65,
     "metadata": {},
     "output_type": "execute_result"
    }
   ],
   "source": [
    "# Exploring the host_response_time column\n",
    "listings['host_response_time'].value_counts()"
   ]
  },
  {
   "cell_type": "markdown",
   "metadata": {},
   "source": [
    "This categorical variable column has 27289 NaN values. Further investigation of the host_response_rate will guide how these NaNs will need to be handled."
   ]
  },
  {
   "cell_type": "code",
   "execution_count": 66,
   "metadata": {
    "scrolled": true
   },
   "outputs": [
    {
     "data": {
      "text/plain": [
       "100%    10098\n",
       "0%       1065\n",
       "90%       573\n",
       "97%       406\n",
       "98%       385\n",
       "        ...  \n",
       "54%         1\n",
       "69%         1\n",
       "46%         1\n",
       "7%          1\n",
       "53%         1\n",
       "Name: host_response_rate, Length: 71, dtype: int64"
      ]
     },
     "execution_count": 66,
     "metadata": {},
     "output_type": "execute_result"
    }
   ],
   "source": [
    "# Exploring the host_response_rate column\n",
    "listings['host_response_rate'].value_counts()"
   ]
  },
  {
   "cell_type": "markdown",
   "metadata": {
    "collapsed": true
   },
   "source": [
    "This column is a percentage. Adding zeros here will introduce bias. Deeper investigation is needed."
   ]
  },
  {
   "cell_type": "code",
   "execution_count": 67,
   "metadata": {},
   "outputs": [
    {
     "data": {
      "text/plain": [
       "0    0.00\n",
       "1     NaN\n",
       "2    0.88\n",
       "3    1.00\n",
       "4     NaN\n",
       "Name: host_response_rate, dtype: float64"
      ]
     },
     "execution_count": 67,
     "metadata": {},
     "output_type": "execute_result"
    }
   ],
   "source": [
    "# Convert host_response_rate column to float.\n",
    "#CREDIT - https://stackoverflow.com/questions/25669588/convert-percent-string-to-float-in-pandas-read-csv\n",
    "listings['host_response_rate'] = listings['host_response_rate'].str.rstrip('%').astype('float') / 100.0\n",
    "listings['host_response_rate'].head()"
   ]
  },
  {
   "cell_type": "code",
   "execution_count": 68,
   "metadata": {},
   "outputs": [
    {
     "name": "stdout",
     "output_type": "stream",
     "text": [
      "\n",
      "Mean\n",
      "0.8626621589276855\n",
      "\n",
      "Median\n",
      "1.0\n",
      "\n",
      "Mode\n",
      "1.0\n"
     ]
    }
   ],
   "source": [
    "# Looking at the mean, median, and mode of the host_response_rate\n",
    "\n",
    "# Mean\n",
    "print('\\nMean')\n",
    "print(listings['host_response_rate'].mean())\n",
    "\n",
    "# Median\n",
    "print('\\nMedian')\n",
    "print(listings['host_response_rate'].median())\n",
    "\n",
    "# Mode\n",
    "print('\\nMode')\n",
    "print(listings['host_response_rate'].mode()[0])"
   ]
  },
  {
   "cell_type": "code",
   "execution_count": 69,
   "metadata": {},
   "outputs": [
    {
     "data": {
      "text/plain": [
       "count    16712.000000\n",
       "mean         0.862662\n",
       "std          0.279150\n",
       "min          0.000000\n",
       "25%          0.900000\n",
       "50%          1.000000\n",
       "75%          1.000000\n",
       "max          1.000000\n",
       "Name: host_response_rate, dtype: float64"
      ]
     },
     "execution_count": 69,
     "metadata": {},
     "output_type": "execute_result"
    }
   ],
   "source": [
    "# Further exploration of the host_response_rate data\n",
    "listings['host_response_rate'].describe()"
   ]
  },
  {
   "cell_type": "code",
   "execution_count": 70,
   "metadata": {},
   "outputs": [
    {
     "data": {
      "text/plain": [
       "(44001, 33)"
      ]
     },
     "execution_count": 70,
     "metadata": {},
     "output_type": "execute_result"
    }
   ],
   "source": [
    "listings.shape"
   ]
  },
  {
   "cell_type": "markdown",
   "metadata": {},
   "source": [
    "There 27289 NaN values (62%) in the host_response_rate column. 1065 are 0%. The NaN rows are the same rows that have no host_response_time reported. That is a lot of data so they need to be kept but we cannot replace them with a biased mean, median, or mode value.\n",
    "\n",
    "- To handle these NaN values, the following actions will be taken:\n",
    "\n",
    "**host_response_time -** Add a new category for the NaN values called 'no data'.\n",
    "\n",
    "**host_response_rate -** Convert this data to categorical data by creating a new column with values seperated into bins (no data, low, medium, high, and 100%), representing the data more evenly and to prevent bias."
   ]
  },
  {
   "cell_type": "code",
   "execution_count": 71,
   "metadata": {},
   "outputs": [],
   "source": [
    "# Handle NaN values in host_response_time coulmn\n",
    "listings['host_response_time'].fillna('no data', inplace=True)"
   ]
  },
  {
   "cell_type": "code",
   "execution_count": 72,
   "metadata": {},
   "outputs": [
    {
     "data": {
      "text/plain": [
       "no data               62.019045\n",
       "within an hour        18.838208\n",
       "within a few hours     7.968001\n",
       "within a day           7.358924\n",
       "a few days or more     3.815822\n",
       "Name: host_response_time, dtype: float64"
      ]
     },
     "execution_count": 72,
     "metadata": {},
     "output_type": "execute_result"
    }
   ],
   "source": [
    "# View host_response_time column by percentage\n",
    "listings['host_response_time'].value_counts(normalize=True) * 100"
   ]
  },
  {
   "cell_type": "code",
   "execution_count": 73,
   "metadata": {},
   "outputs": [
    {
     "data": {
      "text/plain": [
       "0        low\n",
       "1    no data\n",
       "2       high\n",
       "3       100%\n",
       "4    no data\n",
       "Name: host_response_rate_cat, dtype: category\n",
       "Categories (5, object): [no data < low < medium < high < 100%]"
      ]
     },
     "execution_count": 73,
     "metadata": {},
     "output_type": "execute_result"
    }
   ],
   "source": [
    "# 1. Creating a new column called host_response_rate_cat\n",
    "listings['host_response_rate_temp'] = listings['host_response_rate']\n",
    "\n",
    "# 2. First we need to convert NaN values to a number. I am temporarily changing all 0 values to 0.02 (2nd lowest non-zero value)\n",
    "# so that NaN can be 0.01 (lowest non-zero value)\n",
    "listings['host_response_rate_temp'].replace(to_replace = 0.00, value = 0.02, inplace=True)\n",
    "\n",
    "# 3. Temporarily converting NaN values to 0.01\n",
    "listings['host_response_rate_temp'].fillna(0.01, inplace=True)\n",
    "\n",
    "# 4. Copyinhg host_response_rate_temp column to a new column called host_response_rate_cat and converting all of the new column\n",
    "# into category Bins. (Bin 1 = 'no data', Bin 2 = '0-49%', Bin 3 = '50-74%', Bin 4 = '75-99%', Bin 5 = '100%')\n",
    "# CREDIT: O'Reilly \"Hands-On Machine Learning with Scikit-Learn, Keras, & TensorFlow\" by Aurelien Geron page 54.\n",
    "listings['host_response_rate_cat'] = pd.cut(listings['host_response_rate_temp'],\n",
    "                                             bins=[0., 0.01, 0.50, 0.75, 0.99, np.inf],\n",
    "                                             labels=['no data', 'low', 'medium', 'high', '100%'])\n",
    "# 5. Dropping host_response_rate_temp column\n",
    "listings.drop(['host_response_rate_temp'], axis=1, inplace=True)\n",
    "listings['host_response_rate_cat'].head()"
   ]
  },
  {
   "cell_type": "markdown",
   "metadata": {},
   "source": [
    "This worked as planned with the correct order of the categories. Now to check value_counts."
   ]
  },
  {
   "cell_type": "code",
   "execution_count": 74,
   "metadata": {},
   "outputs": [
    {
     "data": {
      "text/plain": [
       "no data    27289\n",
       "low         2036\n",
       "medium       871\n",
       "high        3707\n",
       "100%       10098\n",
       "Name: host_response_rate_cat, dtype: int64"
      ]
     },
     "execution_count": 74,
     "metadata": {},
     "output_type": "execute_result"
    }
   ],
   "source": [
    "listings['host_response_rate_cat'].value_counts().sort_index()"
   ]
  },
  {
   "cell_type": "code",
   "execution_count": 75,
   "metadata": {},
   "outputs": [
    {
     "name": "stdout",
     "output_type": "stream",
     "text": [
      "<class 'pandas.core.frame.DataFrame'>\n",
      "Int64Index: 44001 entries, 0 to 64689\n",
      "Data columns (total 34 columns):\n",
      " #   Column                       Non-Null Count  Dtype         \n",
      "---  ------                       --------------  -----         \n",
      " 0   id                           44001 non-null  int64         \n",
      " 1   host_id                      44001 non-null  int64         \n",
      " 2   host_response_time           44001 non-null  object        \n",
      " 3   host_response_rate           16712 non-null  float64       \n",
      " 4   host_is_superhost            44001 non-null  object        \n",
      " 5   host_has_profile_pic         44001 non-null  object        \n",
      " 6   host_identity_verified       44001 non-null  object        \n",
      " 7   neighbourhood_cleansed       44001 non-null  object        \n",
      " 8   property_type                44001 non-null  object        \n",
      " 9   accommodates                 44001 non-null  int64         \n",
      " 10  bathrooms_text               43966 non-null  object        \n",
      " 11  bedrooms                     32803 non-null  float64       \n",
      " 12  beds                         43880 non-null  float64       \n",
      " 13  price                        44001 non-null  float64       \n",
      " 14  minimum_nights               44001 non-null  int64         \n",
      " 15  maximum_nights               44001 non-null  int64         \n",
      " 16  availability_365             44001 non-null  int64         \n",
      " 17  number_of_reviews            44001 non-null  int64         \n",
      " 18  first_review                 39653 non-null  datetime64[ns]\n",
      " 19  last_review                  39653 non-null  datetime64[ns]\n",
      " 20  review_scores_rating         38681 non-null  float64       \n",
      " 21  review_scores_accuracy       38643 non-null  float64       \n",
      " 22  review_scores_cleanliness    38651 non-null  float64       \n",
      " 23  review_scores_checkin        38630 non-null  float64       \n",
      " 24  review_scores_communication  38645 non-null  float64       \n",
      " 25  review_scores_location       38629 non-null  float64       \n",
      " 26  review_scores_value          38629 non-null  float64       \n",
      " 27  license                      16414 non-null  object        \n",
      " 28  instant_bookable             44001 non-null  object        \n",
      " 29  reviews_per_month            39653 non-null  float64       \n",
      " 30  days_host                    44001 non-null  float64       \n",
      " 31  days_reviews                 39653 non-null  float64       \n",
      " 32  host_count                   44001 non-null  int64         \n",
      " 33  host_response_rate_cat       44001 non-null  category      \n",
      "dtypes: category(1), datetime64[ns](2), float64(14), int64(8), object(9)\n",
      "memory usage: 11.5+ MB\n"
     ]
    }
   ],
   "source": [
    "listings.info()"
   ]
  },
  {
   "cell_type": "markdown",
   "metadata": {},
   "source": [
    "No more NaN values in the host_response_time and new category host_response_rate_cat column."
   ]
  },
  {
   "cell_type": "code",
   "execution_count": 76,
   "metadata": {},
   "outputs": [],
   "source": [
    "# Dropping the original host_response_rate column\n",
    "listings.drop(['host_response_rate'], axis=1, inplace=True)"
   ]
  },
  {
   "cell_type": "code",
   "execution_count": 77,
   "metadata": {},
   "outputs": [
    {
     "data": {
      "text/plain": [
       "(44001, 33)"
      ]
     },
     "execution_count": 77,
     "metadata": {},
     "output_type": "execute_result"
    }
   ],
   "source": [
    "listings.shape"
   ]
  },
  {
   "cell_type": "markdown",
   "metadata": {},
   "source": [
    "We are now back to having 33 rows."
   ]
  },
  {
   "cell_type": "code",
   "execution_count": 78,
   "metadata": {},
   "outputs": [
    {
     "data": {
      "text/plain": [
       "1 bath       39302\n",
       "1.5 baths     2639\n",
       "2 baths       1344\n",
       "2.5 baths      273\n",
       "Half-bath      217\n",
       "0 baths         93\n",
       "3 baths         78\n",
       "3.5 baths       10\n",
       "4 baths          7\n",
       "4.5 baths        2\n",
       "7 baths          1\n",
       "Name: bathrooms_text, dtype: int64"
      ]
     },
     "execution_count": 78,
     "metadata": {},
     "output_type": "execute_result"
    }
   ],
   "source": [
    "# Exploring the bathrooms_text column\n",
    "listings['bathrooms_text'].value_counts()"
   ]
  },
  {
   "cell_type": "markdown",
   "metadata": {},
   "source": [
    "This is categorical data with 43966 values and 35 NaN values.\n",
    "- NaN values will be added to a new category called 'no data'."
   ]
  },
  {
   "cell_type": "code",
   "execution_count": 79,
   "metadata": {},
   "outputs": [],
   "source": [
    "# Filling NaN values in the bathrooms_text column with 'no data'\n",
    "listings['bathrooms_text'].fillna('no data', inplace=True)"
   ]
  },
  {
   "cell_type": "code",
   "execution_count": 80,
   "metadata": {},
   "outputs": [
    {
     "data": {
      "text/plain": [
       "1 bath       39302\n",
       "1.5 baths     2639\n",
       "2 baths       1344\n",
       "2.5 baths      273\n",
       "Half-bath      217\n",
       "0 baths         93\n",
       "3 baths         78\n",
       "no data         35\n",
       "3.5 baths       10\n",
       "4 baths          7\n",
       "4.5 baths        2\n",
       "7 baths          1\n",
       "Name: bathrooms_text, dtype: int64"
      ]
     },
     "execution_count": 80,
     "metadata": {},
     "output_type": "execute_result"
    }
   ],
   "source": [
    "# Verifying the bathrooms_text column was updated properly\n",
    "listings['bathrooms_text'].value_counts()"
   ]
  },
  {
   "cell_type": "code",
   "execution_count": 81,
   "metadata": {},
   "outputs": [
    {
     "data": {
      "text/plain": [
       "1.0    24857\n",
       "2.0     6420\n",
       "3.0     1331\n",
       "4.0      178\n",
       "5.0       15\n",
       "7.0        1\n",
       "6.0        1\n",
       "Name: bedrooms, dtype: int64"
      ]
     },
     "execution_count": 81,
     "metadata": {},
     "output_type": "execute_result"
    }
   ],
   "source": [
    "# Exploring the bedrooms column\n",
    "listings['bedrooms'].value_counts()"
   ]
  },
  {
   "cell_type": "code",
   "execution_count": 82,
   "metadata": {},
   "outputs": [
    {
     "data": {
      "text/plain": [
       "1.0     23159\n",
       "2.0     13943\n",
       "3.0      3705\n",
       "0.0      1279\n",
       "4.0      1255\n",
       "5.0       383\n",
       "6.0       116\n",
       "7.0        23\n",
       "8.0        11\n",
       "9.0         5\n",
       "10.0        1\n",
       "Name: beds, dtype: int64"
      ]
     },
     "execution_count": 82,
     "metadata": {},
     "output_type": "execute_result"
    }
   ],
   "source": [
    "# Exploring the beds column\n",
    "listings['beds'].value_counts()"
   ]
  },
  {
   "cell_type": "code",
   "execution_count": 83,
   "metadata": {},
   "outputs": [
    {
     "name": "stdout",
     "output_type": "stream",
     "text": [
      "<class 'pandas.core.frame.DataFrame'>\n",
      "Int64Index: 44001 entries, 0 to 64689\n",
      "Data columns (total 2 columns):\n",
      " #   Column    Non-Null Count  Dtype  \n",
      "---  ------    --------------  -----  \n",
      " 0   bedrooms  32803 non-null  float64\n",
      " 1   beds      43880 non-null  float64\n",
      "dtypes: float64(2)\n",
      "memory usage: 1.0 MB\n"
     ]
    }
   ],
   "source": [
    "listings[['bedrooms', 'beds']].info()"
   ]
  },
  {
   "cell_type": "markdown",
   "metadata": {},
   "source": [
    "There are 11198 missing values in the bedrooms columns and only 121 missing values in the beds column.\n",
    "\n",
    "- Deeper investigation is needed in order to determine how to handle the NaN values."
   ]
  },
  {
   "cell_type": "code",
   "execution_count": 84,
   "metadata": {},
   "outputs": [
    {
     "name": "stdout",
     "output_type": "stream",
     "text": [
      "\n",
      "Mean\n",
      "1.295308355943054\n",
      "1.5974247948951685\n",
      "\n",
      "Median\n",
      "1.0\n",
      "1.0\n",
      "\n",
      "Mode\n",
      "1.0\n",
      "1.0\n"
     ]
    }
   ],
   "source": [
    "# Looking at the mean, median, and mode to be used to replace the NaN values in the bedrooms and beds columns\n",
    "\n",
    "# Mean\n",
    "print('\\nMean')\n",
    "print(listings['bedrooms'].mean())\n",
    "print(listings['beds'].mean())\n",
    "\n",
    "# Median\n",
    "print('\\nMedian')\n",
    "print(listings['bedrooms'].median())\n",
    "print(listings['beds'].median())\n",
    "\n",
    "# Mode\n",
    "print('\\nMode')\n",
    "print(listings['bedrooms'].mode()[0])\n",
    "print(listings['beds'].mode()[0])"
   ]
  },
  {
   "cell_type": "markdown",
   "metadata": {},
   "source": [
    "After spot checking numerous listings with NaN values in the bedrooms column, it most likely that these are studio apartments. Furthermore, there are no listings currently with 0 bedrooms.\n",
    "\n",
    "- The 11198 NaN values in the bedrooms columns will be imputed with 0 to represent studio apartments.\n",
    "\n",
    "In the beds column, it is logical to assume that if a listing has 0 bedrooms, there is at a minimum 1 bed. Additionally, when a listing has 1 or more bedrooms listed, it is logical to assume there is at least 1 bed in each bedroom. Otherwise, it would not be a bedroom.\n",
    "\n",
    "- The 121 NaN values in the beds column will be imputed with the number of bedrooms. Then all 0 values in the beds column will be replaced with 1 for the assumtion that there is at least 1 bed for each listing."
   ]
  },
  {
   "cell_type": "code",
   "execution_count": 85,
   "metadata": {},
   "outputs": [
    {
     "data": {
      "text/plain": [
       "1.0    24857\n",
       "0.0    11198\n",
       "2.0     6420\n",
       "3.0     1331\n",
       "4.0      178\n",
       "5.0       15\n",
       "7.0        1\n",
       "6.0        1\n",
       "Name: bedrooms, dtype: int64"
      ]
     },
     "execution_count": 85,
     "metadata": {},
     "output_type": "execute_result"
    }
   ],
   "source": [
    "# Imputing the NaN values in the bedrooms column with 0 to denote a studio apartment\n",
    "listings['bedrooms'].fillna(0, inplace = True)\n",
    "listings['bedrooms'].value_counts()"
   ]
  },
  {
   "cell_type": "code",
   "execution_count": 86,
   "metadata": {},
   "outputs": [
    {
     "name": "stdout",
     "output_type": "stream",
     "text": [
      "<class 'pandas.core.frame.DataFrame'>\n",
      "Int64Index: 44001 entries, 0 to 64689\n",
      "Data columns (total 1 columns):\n",
      " #   Column  Non-Null Count  Dtype  \n",
      "---  ------  --------------  -----  \n",
      " 0   beds    44001 non-null  float64\n",
      "dtypes: float64(1)\n",
      "memory usage: 687.5 KB\n"
     ]
    }
   ],
   "source": [
    "# Imputing the NaN values in the beds column with the corresponding value in the bedrooms column of the same listing\n",
    "listings['beds'].fillna(listings['bedrooms'], inplace=True)\n",
    "listings[['beds']].info()"
   ]
  },
  {
   "cell_type": "code",
   "execution_count": 87,
   "metadata": {},
   "outputs": [
    {
     "data": {
      "text/plain": [
       "1.0     24549\n",
       "2.0     13949\n",
       "3.0      3708\n",
       "4.0      1255\n",
       "5.0       384\n",
       "6.0       116\n",
       "7.0        23\n",
       "8.0        11\n",
       "9.0         5\n",
       "10.0        1\n",
       "Name: beds, dtype: int64"
      ]
     },
     "execution_count": 87,
     "metadata": {},
     "output_type": "execute_result"
    }
   ],
   "source": [
    "# Imputing the \"0.0\" values in the beds column with \"1.0\" as these are assumed to be studio apartments and\n",
    "# we assume there is at least 1 bed for each listing.\n",
    "listings['beds'].replace(to_replace = 0.0, value = 1.0, inplace=True)\n",
    "listings['beds'].value_counts()"
   ]
  },
  {
   "cell_type": "code",
   "execution_count": 88,
   "metadata": {},
   "outputs": [
    {
     "name": "stdout",
     "output_type": "stream",
     "text": [
      "\n",
      "Mean\n",
      "1.6252130633394695\n",
      "\n",
      "Median\n",
      "1.0\n",
      "\n",
      "Mode\n",
      "1.0\n"
     ]
    }
   ],
   "source": [
    "# Looking at the mean, median, and mode of the beds columns now that we have imputed the NaN values above\n",
    "\n",
    "# Mean\n",
    "print('\\nMean')\n",
    "print(listings['beds'].mean())\n",
    "\n",
    "# Median\n",
    "print('\\nMedian')\n",
    "print(listings['beds'].median())\n",
    "\n",
    "# Mode\n",
    "print('\\nMode')\n",
    "print(listings['beds'].mode()[0])"
   ]
  },
  {
   "cell_type": "markdown",
   "metadata": {},
   "source": [
    "A quick check confirms that our calculations worked correctly and the mean for the beds column had a very minimal change after our imutations. The bedrooms and beds columns are ready for our model."
   ]
  },
  {
   "cell_type": "code",
   "execution_count": 89,
   "metadata": {},
   "outputs": [
    {
     "name": "stdout",
     "output_type": "stream",
     "text": [
      "<class 'pandas.core.frame.DataFrame'>\n",
      "Int64Index: 44001 entries, 0 to 64689\n",
      "Data columns (total 31 columns):\n",
      " #   Column                       Non-Null Count  Dtype   \n",
      "---  ------                       --------------  -----   \n",
      " 0   id                           44001 non-null  int64   \n",
      " 1   host_id                      44001 non-null  int64   \n",
      " 2   host_response_time           44001 non-null  object  \n",
      " 3   host_is_superhost            44001 non-null  object  \n",
      " 4   host_has_profile_pic         44001 non-null  object  \n",
      " 5   host_identity_verified       44001 non-null  object  \n",
      " 6   neighbourhood_cleansed       44001 non-null  object  \n",
      " 7   property_type                44001 non-null  object  \n",
      " 8   accommodates                 44001 non-null  int64   \n",
      " 9   bathrooms_text               44001 non-null  object  \n",
      " 10  bedrooms                     44001 non-null  float64 \n",
      " 11  beds                         44001 non-null  float64 \n",
      " 12  price                        44001 non-null  float64 \n",
      " 13  minimum_nights               44001 non-null  int64   \n",
      " 14  maximum_nights               44001 non-null  int64   \n",
      " 15  availability_365             44001 non-null  int64   \n",
      " 16  number_of_reviews            44001 non-null  int64   \n",
      " 17  review_scores_rating         38681 non-null  float64 \n",
      " 18  review_scores_accuracy       38643 non-null  float64 \n",
      " 19  review_scores_cleanliness    38651 non-null  float64 \n",
      " 20  review_scores_checkin        38630 non-null  float64 \n",
      " 21  review_scores_communication  38645 non-null  float64 \n",
      " 22  review_scores_location       38629 non-null  float64 \n",
      " 23  review_scores_value          38629 non-null  float64 \n",
      " 24  license                      16414 non-null  object  \n",
      " 25  instant_bookable             44001 non-null  object  \n",
      " 26  reviews_per_month            39653 non-null  float64 \n",
      " 27  days_host                    44001 non-null  float64 \n",
      " 28  days_reviews                 39653 non-null  float64 \n",
      " 29  host_count                   44001 non-null  int64   \n",
      " 30  host_response_rate_cat       44001 non-null  category\n",
      "dtypes: category(1), float64(13), int64(8), object(9)\n",
      "memory usage: 10.4+ MB\n"
     ]
    }
   ],
   "source": [
    "# Dropping the first_review and last_review columns as they were used to create calculated columns and are no longer needed.\n",
    "col_drop = ['first_review', 'last_review']\n",
    "listings.drop(col_drop, axis=1, inplace=True)\n",
    "listings.info()"
   ]
  },
  {
   "cell_type": "code",
   "execution_count": 90,
   "metadata": {},
   "outputs": [
    {
     "data": {
      "text/plain": [
       "20.0      129\n",
       "27.0        1\n",
       "30.0        3\n",
       "40.0       83\n",
       "45.0        1\n",
       "47.0        6\n",
       "48.0        1\n",
       "50.0       34\n",
       "52.0        1\n",
       "53.0       12\n",
       "55.0        5\n",
       "56.0        2\n",
       "57.0        4\n",
       "60.0      333\n",
       "62.0        1\n",
       "63.0        8\n",
       "64.0       11\n",
       "65.0       22\n",
       "66.0       14\n",
       "67.0       61\n",
       "68.0       21\n",
       "69.0       10\n",
       "70.0      217\n",
       "71.0       26\n",
       "72.0       28\n",
       "73.0      140\n",
       "74.0       25\n",
       "75.0       88\n",
       "76.0       56\n",
       "77.0       63\n",
       "78.0       50\n",
       "79.0       12\n",
       "80.0     1913\n",
       "81.0      114\n",
       "82.0      198\n",
       "83.0      368\n",
       "84.0      441\n",
       "85.0      564\n",
       "86.0      484\n",
       "87.0     1001\n",
       "88.0      906\n",
       "89.0      886\n",
       "90.0     2349\n",
       "91.0     1232\n",
       "92.0     1356\n",
       "93.0     2637\n",
       "94.0     1786\n",
       "95.0     2368\n",
       "96.0     2577\n",
       "97.0     2474\n",
       "98.0     2482\n",
       "99.0     1314\n",
       "100.0    9763\n",
       "Name: review_scores_rating, dtype: int64"
      ]
     },
     "execution_count": 90,
     "metadata": {},
     "output_type": "execute_result"
    }
   ],
   "source": [
    "# Exploring the data in the ratings columns\n",
    "listings['review_scores_rating'].value_counts().sort_index()"
   ]
  },
  {
   "cell_type": "markdown",
   "metadata": {},
   "source": [
    "The review_scores_rating column is a float between 20.0 and 100.0 (presumably the full range is 0-100) representing an overall rating for each listing. This is useful for our model.\n",
    "\n",
    "There are 5320 NaN values. That's too many to drop and our business objective is not determinant on whether a listing has had reviews or not. It would be possible to makle this column into a category by creating bins."
   ]
  },
  {
   "cell_type": "code",
   "execution_count": 91,
   "metadata": {},
   "outputs": [
    {
     "data": {
      "text/plain": [
       "10.0    71.467019\n",
       "9.0     22.270528\n",
       "8.0      4.187046\n",
       "7.0      0.856559\n",
       "6.0      0.665062\n",
       "2.0      0.279481\n",
       "4.0      0.155267\n",
       "5.0      0.106099\n",
       "3.0      0.012939\n",
       "Name: review_scores_accuracy, dtype: float64"
      ]
     },
     "execution_count": 91,
     "metadata": {},
     "output_type": "execute_result"
    }
   ],
   "source": [
    "# Exploring more ratings columns by percentage\n",
    "listings['review_scores_accuracy'].value_counts(normalize=True) * 100"
   ]
  },
  {
   "cell_type": "code",
   "execution_count": 92,
   "metadata": {},
   "outputs": [
    {
     "data": {
      "text/plain": [
       "10.0    80.382973\n",
       "9.0     15.031699\n",
       "8.0      3.045672\n",
       "7.0      0.584810\n",
       "6.0      0.496830\n",
       "2.0      0.263941\n",
       "4.0      0.113857\n",
       "5.0      0.077630\n",
       "3.0      0.002588\n",
       "Name: review_scores_communication, dtype: float64"
      ]
     },
     "execution_count": 92,
     "metadata": {},
     "output_type": "execute_result"
    }
   ],
   "source": [
    "# Exploring one more ratings column by percentage\n",
    "listings['review_scores_communication'].value_counts(normalize=True) * 100"
   ]
  },
  {
   "cell_type": "markdown",
   "metadata": {},
   "source": [
    "The review_scores_accuracy, review_scores_cleanliness, review_scores_checkin, review_scores_communication, review_scores_location, and review_scores_value columns are floats representing a scale of 1-10.\n",
    "\n",
    "- Dropping the 6 other ratings columns as to not introduce bias due to the number of NaN values in those columns. The review_scores_rating column is an overal rating that will be the most useful ratings column for our model."
   ]
  },
  {
   "cell_type": "code",
   "execution_count": 93,
   "metadata": {},
   "outputs": [
    {
     "data": {
      "text/plain": [
       "(44001, 25)"
      ]
     },
     "execution_count": 93,
     "metadata": {},
     "output_type": "execute_result"
    }
   ],
   "source": [
    "# Dropping 6 \"review_scores\" columns. Only keeping the overall review_scores_rating column for our model.\n",
    "col_drop = ['review_scores_accuracy', 'review_scores_cleanliness', 'review_scores_checkin', 'review_scores_communication',\n",
    "            'review_scores_location', 'review_scores_value']\n",
    "listings.drop(col_drop, axis=1, inplace=True)\n",
    "listings.shape"
   ]
  },
  {
   "cell_type": "code",
   "execution_count": 94,
   "metadata": {},
   "outputs": [
    {
     "data": {
      "text/plain": [
       "0.25     90.0\n",
       "0.50     95.0\n",
       "0.75    100.0\n",
       "1.00    100.0\n",
       "Name: review_scores_rating, dtype: float64"
      ]
     },
     "execution_count": 94,
     "metadata": {},
     "output_type": "execute_result"
    }
   ],
   "source": [
    "listings['review_scores_rating'].quantile([0.25, 0.5, 0.75, 1.0])"
   ]
  },
  {
   "cell_type": "code",
   "execution_count": 95,
   "metadata": {},
   "outputs": [
    {
     "data": {
      "image/png": "[encoded data removed]",
      "text/plain": [
       "<Figure size 432x288 with 1 Axes>"
      ]
     },
     "metadata": {
      "needs_background": "light"
     },
     "output_type": "display_data"
    }
   ],
   "source": [
    "listings['review_scores_rating'].hist();"
   ]
  },
  {
   "cell_type": "markdown",
   "metadata": {},
   "source": [
    "The value at the 25th percentile is 90 and the histogram shows the review_scores_rating column is heavily skewed left. I will create Bins to try to maintain the skew as close to the histogram of the quantitative values as possible.\n",
    "\n",
    "Bin 1 = 'no review', Bin 2 = '0-49', Bin 3 = '50-79', Bin 4 = '80-99', Bin 5 = '100'"
   ]
  },
  {
   "cell_type": "code",
   "execution_count": 96,
   "metadata": {},
   "outputs": [
    {
     "data": {
      "text/plain": [
       "0    100%\n",
       "1    100%\n",
       "2    high\n",
       "3    high\n",
       "4    high\n",
       "Name: review_scores_rating_cat, dtype: category\n",
       "Categories (5, object): [no review < low < medium < high < 100%]"
      ]
     },
     "execution_count": 96,
     "metadata": {},
     "output_type": "execute_result"
    }
   ],
   "source": [
    "# 1. Creating a new column called review_scores_rating_cat\n",
    "listings['review_scores_rating_temp'] = listings['review_scores_rating']\n",
    "\n",
    "# 2. First we need to convert NaN values to a number. Although there are no 0 values in this data now, I am\n",
    "# temporarily changing all 0 values to 0.02 (2nd lowest non-zero value) in case there are any 0 ratings in the future.\n",
    "listings['review_scores_rating_temp'].replace(to_replace = 0.00, value = 0.02, inplace=True)\n",
    "\n",
    "# 3. Temporarily converting NaN values to 0.01\n",
    "listings['review_scores_rating_temp'].fillna(0.01, inplace=True)\n",
    "\n",
    "# 4. Copyinhg review_scores_rating_temp column to a new column called review_scores_rating_cat and converting all of the new column\n",
    "# into category Bins. (Bin 1 = 'no review', Bin 2 = '0-49', Bin 3 = '50-79', Bin 4 = '80-99', Bin 5 = '100')\n",
    "# CREDIT: O'Reilly \"Hands-On Machine Learning with Scikit-Learn, Keras, & TensorFlow\" by Aurelien Geron page 54.\n",
    "listings['review_scores_rating_cat'] = pd.cut(listings['review_scores_rating_temp'],\n",
    "                                             bins=[0., 0.01, 49, 79, 99, np.inf],\n",
    "                                             labels=['no review', 'low', 'medium', 'high', '100%'])\n",
    "# 5. Dropping review_scores_rating_temp column\n",
    "listings.drop(['review_scores_rating_temp'], axis=1, inplace=True)\n",
    "listings['review_scores_rating_cat'].head()"
   ]
  },
  {
   "cell_type": "code",
   "execution_count": 97,
   "metadata": {},
   "outputs": [
    {
     "data": {
      "text/plain": [
       "no review     5320\n",
       "low            224\n",
       "medium        1244\n",
       "high         27450\n",
       "100%          9763\n",
       "Name: review_scores_rating_cat, dtype: int64"
      ]
     },
     "execution_count": 97,
     "metadata": {},
     "output_type": "execute_result"
    }
   ],
   "source": [
    "listings['review_scores_rating_cat'].value_counts().sort_index()"
   ]
  },
  {
   "cell_type": "code",
   "execution_count": 98,
   "metadata": {},
   "outputs": [
    {
     "name": "stdout",
     "output_type": "stream",
     "text": [
      "<class 'pandas.core.frame.DataFrame'>\n",
      "Int64Index: 44001 entries, 0 to 64689\n",
      "Data columns (total 26 columns):\n",
      " #   Column                    Non-Null Count  Dtype   \n",
      "---  ------                    --------------  -----   \n",
      " 0   id                        44001 non-null  int64   \n",
      " 1   host_id                   44001 non-null  int64   \n",
      " 2   host_response_time        44001 non-null  object  \n",
      " 3   host_is_superhost         44001 non-null  object  \n",
      " 4   host_has_profile_pic      44001 non-null  object  \n",
      " 5   host_identity_verified    44001 non-null  object  \n",
      " 6   neighbourhood_cleansed    44001 non-null  object  \n",
      " 7   property_type             44001 non-null  object  \n",
      " 8   accommodates              44001 non-null  int64   \n",
      " 9   bathrooms_text            44001 non-null  object  \n",
      " 10  bedrooms                  44001 non-null  float64 \n",
      " 11  beds                      44001 non-null  float64 \n",
      " 12  price                     44001 non-null  float64 \n",
      " 13  minimum_nights            44001 non-null  int64   \n",
      " 14  maximum_nights            44001 non-null  int64   \n",
      " 15  availability_365          44001 non-null  int64   \n",
      " 16  number_of_reviews         44001 non-null  int64   \n",
      " 17  review_scores_rating      38681 non-null  float64 \n",
      " 18  license                   16414 non-null  object  \n",
      " 19  instant_bookable          44001 non-null  object  \n",
      " 20  reviews_per_month         39653 non-null  float64 \n",
      " 21  days_host                 44001 non-null  float64 \n",
      " 22  days_reviews              39653 non-null  float64 \n",
      " 23  host_count                44001 non-null  int64   \n",
      " 24  host_response_rate_cat    44001 non-null  category\n",
      " 25  review_scores_rating_cat  44001 non-null  category\n",
      "dtypes: category(2), float64(7), int64(8), object(9)\n",
      "memory usage: 8.5+ MB\n"
     ]
    }
   ],
   "source": [
    "listings.info()"
   ]
  },
  {
   "cell_type": "markdown",
   "metadata": {},
   "source": [
    "All good. No NaN values in the new category review_scores_rating_cat column."
   ]
  },
  {
   "cell_type": "code",
   "execution_count": 99,
   "metadata": {},
   "outputs": [],
   "source": [
    "# Dropping the original review_scores_rating column\n",
    "listings.drop(['review_scores_rating'], axis=1, inplace=True)"
   ]
  },
  {
   "cell_type": "code",
   "execution_count": 100,
   "metadata": {},
   "outputs": [
    {
     "data": {
      "text/plain": [
       "(44001, 25)"
      ]
     },
     "execution_count": 100,
     "metadata": {},
     "output_type": "execute_result"
    }
   ],
   "source": [
    "listings.shape"
   ]
  },
  {
   "cell_type": "code",
   "execution_count": 101,
   "metadata": {},
   "outputs": [
    {
     "data": {
      "text/plain": [
       "0              NaN\n",
       "1              NaN\n",
       "2    7510402838018\n",
       "3    7510400829623\n",
       "4    7510903576564\n",
       "5              NaN\n",
       "6    7511101582862\n",
       "7              NaN\n",
       "8              NaN\n",
       "9             5962\n",
       "Name: license, dtype: object"
      ]
     },
     "execution_count": 101,
     "metadata": {},
     "output_type": "execute_result"
    }
   ],
   "source": [
    "# Exploring the data in the license column\n",
    "listings['license'].head(10)"
   ]
  },
  {
   "cell_type": "markdown",
   "metadata": {},
   "source": [
    "The license column is just the license number that the host gets in order to be able to leagally list their property.\n",
    "\n",
    "This column is not needed for our use but it is interesting to see that only 16414 out of 44001 listings have a license listed. This is a requirement in Paris and Airbnb is not supposed to allow listings to be booked if the host has not provided it.\n",
    "\n",
    "As of 02/08/21, Airbnb announced that they will no longer allow listings in Paris without this information to be booked. It is most likely that these are still listed in this data because it was scrubbed last on 02/14/21, about a week after the announcement was made. This column may become relevant at a later date."
   ]
  },
  {
   "cell_type": "code",
   "execution_count": 102,
   "metadata": {},
   "outputs": [],
   "source": [
    "# Dropping the license column\n",
    "listings.drop(['license'], axis=1, inplace=True)"
   ]
  },
  {
   "cell_type": "code",
   "execution_count": 103,
   "metadata": {},
   "outputs": [
    {
     "data": {
      "text/plain": [
       "(44001, 24)"
      ]
     },
     "execution_count": 103,
     "metadata": {},
     "output_type": "execute_result"
    }
   ],
   "source": [
    "listings.shape"
   ]
  },
  {
   "cell_type": "markdown",
   "metadata": {},
   "source": [
    "We now have 24 columns."
   ]
  },
  {
   "cell_type": "code",
   "execution_count": 104,
   "metadata": {},
   "outputs": [
    {
     "data": {
      "text/plain": [
       "0    0.04\n",
       "1    0.18\n",
       "2    1.64\n",
       "3    2.26\n",
       "4    0.05\n",
       "5     NaN\n",
       "6    0.27\n",
       "7    0.35\n",
       "8    0.13\n",
       "9    0.30\n",
       "Name: reviews_per_month, dtype: float64"
      ]
     },
     "execution_count": 104,
     "metadata": {},
     "output_type": "execute_result"
    }
   ],
   "source": [
    "# Exploring what the data looks like in the reviews_per_month column\n",
    "listings['reviews_per_month'].head(10)"
   ]
  },
  {
   "cell_type": "markdown",
   "metadata": {},
   "source": [
    "NaN values in the reviews_per_month column are listings that have never been reviewed. These should actually be 0."
   ]
  },
  {
   "cell_type": "code",
   "execution_count": 105,
   "metadata": {
    "scrolled": true
   },
   "outputs": [
    {
     "name": "stdout",
     "output_type": "stream",
     "text": [
      "<class 'pandas.core.frame.DataFrame'>\n",
      "Int64Index: 44001 entries, 0 to 64689\n",
      "Data columns (total 24 columns):\n",
      " #   Column                    Non-Null Count  Dtype   \n",
      "---  ------                    --------------  -----   \n",
      " 0   id                        44001 non-null  int64   \n",
      " 1   host_id                   44001 non-null  int64   \n",
      " 2   host_response_time        44001 non-null  object  \n",
      " 3   host_is_superhost         44001 non-null  object  \n",
      " 4   host_has_profile_pic      44001 non-null  object  \n",
      " 5   host_identity_verified    44001 non-null  object  \n",
      " 6   neighbourhood_cleansed    44001 non-null  object  \n",
      " 7   property_type             44001 non-null  object  \n",
      " 8   accommodates              44001 non-null  int64   \n",
      " 9   bathrooms_text            44001 non-null  object  \n",
      " 10  bedrooms                  44001 non-null  float64 \n",
      " 11  beds                      44001 non-null  float64 \n",
      " 12  price                     44001 non-null  float64 \n",
      " 13  minimum_nights            44001 non-null  int64   \n",
      " 14  maximum_nights            44001 non-null  int64   \n",
      " 15  availability_365          44001 non-null  int64   \n",
      " 16  number_of_reviews         44001 non-null  int64   \n",
      " 17  instant_bookable          44001 non-null  object  \n",
      " 18  reviews_per_month         44001 non-null  float64 \n",
      " 19  days_host                 44001 non-null  float64 \n",
      " 20  days_reviews              39653 non-null  float64 \n",
      " 21  host_count                44001 non-null  int64   \n",
      " 22  host_response_rate_cat    44001 non-null  category\n",
      " 23  review_scores_rating_cat  44001 non-null  category\n",
      "dtypes: category(2), float64(6), int64(8), object(8)\n",
      "memory usage: 7.8+ MB\n"
     ]
    }
   ],
   "source": [
    "# Imputing NaN values in the reviews_per_month column with 0\n",
    "listings['reviews_per_month'].fillna(0, inplace=True)\n",
    "listings.info()"
   ]
  },
  {
   "cell_type": "code",
   "execution_count": 106,
   "metadata": {},
   "outputs": [
    {
     "data": {
      "text/plain": [
       "0       0.0\n",
       "1    1031.0\n",
       "2    4204.0\n",
       "3    3568.0\n",
       "4    1953.0\n",
       "5       NaN\n",
       "6    2782.0\n",
       "7    3937.0\n",
       "8    2029.0\n",
       "9    3215.0\n",
       "Name: days_reviews, dtype: float64"
      ]
     },
     "execution_count": 106,
     "metadata": {},
     "output_type": "execute_result"
    }
   ],
   "source": [
    "# Exploring the data in the days_reviews column\n",
    "listings['days_reviews'].head(10)"
   ]
  },
  {
   "cell_type": "markdown",
   "metadata": {},
   "source": [
    "This column is the difference in days between the first_review and last_review columns. NaN values mean that there has not been a review.\n",
    "- NaN values will be imputed with 0."
   ]
  },
  {
   "cell_type": "code",
   "execution_count": 107,
   "metadata": {},
   "outputs": [
    {
     "data": {
      "text/plain": [
       "0       0.0\n",
       "1    1031.0\n",
       "2    4204.0\n",
       "3    3568.0\n",
       "4    1953.0\n",
       "5       0.0\n",
       "6    2782.0\n",
       "7    3937.0\n",
       "8    2029.0\n",
       "9    3215.0\n",
       "Name: days_reviews, dtype: float64"
      ]
     },
     "execution_count": 107,
     "metadata": {},
     "output_type": "execute_result"
    }
   ],
   "source": [
    "# Imputing the NaN values in the days_reviews column with 0 to represent listings that have not had a review yet.\n",
    "listings['days_reviews'].fillna(0, inplace=True)\n",
    "listings['days_reviews'].head(10)"
   ]
  },
  {
   "cell_type": "code",
   "execution_count": 108,
   "metadata": {},
   "outputs": [
    {
     "name": "stdout",
     "output_type": "stream",
     "text": [
      "<class 'pandas.core.frame.DataFrame'>\n",
      "Int64Index: 44001 entries, 0 to 64689\n",
      "Data columns (total 24 columns):\n",
      " #   Column                    Non-Null Count  Dtype   \n",
      "---  ------                    --------------  -----   \n",
      " 0   id                        44001 non-null  int64   \n",
      " 1   host_id                   44001 non-null  int64   \n",
      " 2   host_response_time        44001 non-null  object  \n",
      " 3   host_is_superhost         44001 non-null  object  \n",
      " 4   host_has_profile_pic      44001 non-null  object  \n",
      " 5   host_identity_verified    44001 non-null  object  \n",
      " 6   neighbourhood_cleansed    44001 non-null  object  \n",
      " 7   property_type             44001 non-null  object  \n",
      " 8   accommodates              44001 non-null  int64   \n",
      " 9   bathrooms_text            44001 non-null  object  \n",
      " 10  bedrooms                  44001 non-null  float64 \n",
      " 11  beds                      44001 non-null  float64 \n",
      " 12  price                     44001 non-null  float64 \n",
      " 13  minimum_nights            44001 non-null  int64   \n",
      " 14  maximum_nights            44001 non-null  int64   \n",
      " 15  availability_365          44001 non-null  int64   \n",
      " 16  number_of_reviews         44001 non-null  int64   \n",
      " 17  instant_bookable          44001 non-null  object  \n",
      " 18  reviews_per_month         44001 non-null  float64 \n",
      " 19  days_host                 44001 non-null  float64 \n",
      " 20  days_reviews              44001 non-null  float64 \n",
      " 21  host_count                44001 non-null  int64   \n",
      " 22  host_response_rate_cat    44001 non-null  category\n",
      " 23  review_scores_rating_cat  44001 non-null  category\n",
      "dtypes: category(2), float64(6), int64(8), object(8)\n",
      "memory usage: 7.8+ MB\n"
     ]
    }
   ],
   "source": [
    "listings.info()"
   ]
  },
  {
   "cell_type": "markdown",
   "metadata": {},
   "source": [
    "We have ended up with  44001 listings across 24 columns."
   ]
  },
  {
   "cell_type": "markdown",
   "metadata": {},
   "source": [
    "<a name=\"correlations\"></a>\n",
    "**Coorelations in Quantitative Data**  \n",
    "Now we will check for coorelations in the quantitative data to make a final determination as to which columns will be most useful for our model.\n",
    "\n",
    "[Back to Top](#top)"
   ]
  },
  {
   "cell_type": "code",
   "execution_count": 109,
   "metadata": {},
   "outputs": [
    {
     "data": {
      "image/png": "[encoded data removed]",
      "text/plain": [
       "<Figure size 1440x1080 with 16 Axes>"
      ]
     },
     "metadata": {
      "needs_background": "light"
     },
     "output_type": "display_data"
    }
   ],
   "source": [
    "# Looking at histograms of the quantitative variable data\n",
    "listings.hist(bins=50, figsize=(20,15));"
   ]
  },
  {
   "cell_type": "markdown",
   "metadata": {},
   "source": [
    "***\n",
    "**Exploring Correlations in the listings.csv Dataset**"
   ]
  },
  {
   "cell_type": "code",
   "execution_count": 110,
   "metadata": {},
   "outputs": [],
   "source": [
    "# Creating a copy of the listings dataframe in order to drop some columns that are not needed\n",
    "correlation_exp = listings.copy()"
   ]
  },
  {
   "cell_type": "code",
   "execution_count": 111,
   "metadata": {},
   "outputs": [
    {
     "data": {
      "text/plain": [
       "(44001, 22)"
      ]
     },
     "execution_count": 111,
     "metadata": {},
     "output_type": "execute_result"
    }
   ],
   "source": [
    "col_drop = ['host_id', 'id']\n",
    "correlation_exp.drop(col_drop, axis=1, inplace=True)\n",
    "correlation_exp.shape"
   ]
  },
  {
   "cell_type": "code",
   "execution_count": 112,
   "metadata": {},
   "outputs": [],
   "source": [
    "corr_matrix = correlation_exp.corr()"
   ]
  },
  {
   "cell_type": "code",
   "execution_count": 113,
   "metadata": {},
   "outputs": [
    {
     "data": {
      "text/plain": [
       "price                1.000000\n",
       "bedrooms             0.501716\n",
       "accommodates         0.483256\n",
       "beds                 0.427846\n",
       "availability_365     0.230452\n",
       "days_reviews         0.100865\n",
       "host_count           0.067865\n",
       "number_of_reviews    0.054931\n",
       "days_host            0.024730\n",
       "maximum_nights       0.023106\n",
       "reviews_per_month    0.016380\n",
       "minimum_nights      -0.004081\n",
       "Name: price, dtype: float64"
      ]
     },
     "execution_count": 113,
     "metadata": {},
     "output_type": "execute_result"
    }
   ],
   "source": [
    "# Looking for correlations in the listings quantitative variable data\n",
    "corr_matrix['price'].sort_values(ascending=False)"
   ]
  },
  {
   "cell_type": "code",
   "execution_count": 114,
   "metadata": {},
   "outputs": [
    {
     "data": {
      "text/plain": [
       "availability_365     1.000000\n",
       "price                0.230452\n",
       "reviews_per_month    0.190545\n",
       "number_of_reviews    0.179610\n",
       "days_reviews         0.175140\n",
       "host_count           0.123107\n",
       "minimum_nights       0.116188\n",
       "accommodates         0.104286\n",
       "beds                 0.083883\n",
       "maximum_nights       0.033358\n",
       "bedrooms             0.026494\n",
       "days_host           -0.037611\n",
       "Name: availability_365, dtype: float64"
      ]
     },
     "execution_count": 114,
     "metadata": {},
     "output_type": "execute_result"
    }
   ],
   "source": [
    "corr_matrix['availability_365'].sort_values(ascending=False)"
   ]
  },
  {
   "cell_type": "code",
   "execution_count": 115,
   "metadata": {},
   "outputs": [
    {
     "data": {
      "text/plain": [
       "number_of_reviews    1.000000\n",
       "reviews_per_month    0.739930\n",
       "days_reviews         0.626292\n",
       "availability_365     0.179610\n",
       "days_host            0.148157\n",
       "price                0.054931\n",
       "accommodates         0.047545\n",
       "beds                 0.036802\n",
       "bedrooms            -0.000265\n",
       "maximum_nights      -0.022492\n",
       "minimum_nights      -0.022987\n",
       "host_count          -0.023623\n",
       "Name: number_of_reviews, dtype: float64"
      ]
     },
     "execution_count": 115,
     "metadata": {},
     "output_type": "execute_result"
    }
   ],
   "source": [
    "corr_matrix['number_of_reviews'].sort_values(ascending=False)"
   ]
  },
  {
   "cell_type": "code",
   "execution_count": 116,
   "metadata": {},
   "outputs": [
    {
     "data": {
      "image/png": "[encoded data removed]",
      "text/plain": [
       "<Figure size 1440x1440 with 2 Axes>"
      ]
     },
     "metadata": {
      "needs_background": "light"
     },
     "output_type": "display_data"
    }
   ],
   "source": [
    "fig, ax = plt.subplots(figsize=(20, 20))\n",
    "sns.heatmap(corr_matrix, ax=ax, annot=True, fmt='.2f');"
   ]
  },
  {
   "cell_type": "markdown",
   "metadata": {},
   "source": [
    "After reviewing the correlations above and checking the remaining data in our dataset, the following 8 columns will be dropped:\n",
    "\n",
    "host_has_profile_pic - is not relevant to our business objective  \n",
    "host_identity_verified - is not relevant to our business objective  \n",
    "bathrooms_text - is not relevant to our business objective  \n",
    "minimum_nights - no strong correlations identified above  \n",
    "maximum_nights - no strong correlations identified above  "
   ]
  },
  {
   "cell_type": "code",
   "execution_count": 117,
   "metadata": {},
   "outputs": [
    {
     "name": "stdout",
     "output_type": "stream",
     "text": [
      "<class 'pandas.core.frame.DataFrame'>\n",
      "Int64Index: 44001 entries, 0 to 64689\n",
      "Data columns (total 19 columns):\n",
      " #   Column                    Non-Null Count  Dtype   \n",
      "---  ------                    --------------  -----   \n",
      " 0   id                        44001 non-null  int64   \n",
      " 1   host_id                   44001 non-null  int64   \n",
      " 2   host_response_time        44001 non-null  object  \n",
      " 3   host_is_superhost         44001 non-null  object  \n",
      " 4   neighbourhood_cleansed    44001 non-null  object  \n",
      " 5   property_type             44001 non-null  object  \n",
      " 6   accommodates              44001 non-null  int64   \n",
      " 7   bedrooms                  44001 non-null  float64 \n",
      " 8   beds                      44001 non-null  float64 \n",
      " 9   price                     44001 non-null  float64 \n",
      " 10  availability_365          44001 non-null  int64   \n",
      " 11  number_of_reviews         44001 non-null  int64   \n",
      " 12  instant_bookable          44001 non-null  object  \n",
      " 13  reviews_per_month         44001 non-null  float64 \n",
      " 14  days_host                 44001 non-null  float64 \n",
      " 15  days_reviews              44001 non-null  float64 \n",
      " 16  host_count                44001 non-null  int64   \n",
      " 17  host_response_rate_cat    44001 non-null  category\n",
      " 18  review_scores_rating_cat  44001 non-null  category\n",
      "dtypes: category(2), float64(6), int64(6), object(5)\n",
      "memory usage: 6.1+ MB\n"
     ]
    }
   ],
   "source": [
    "col_drop = ['host_has_profile_pic', 'host_identity_verified', 'bathrooms_text', 'minimum_nights', 'maximum_nights']\n",
    "listings.drop(col_drop, axis=1, inplace=True)\n",
    "listings.info()"
   ]
  },
  {
   "cell_type": "markdown",
   "metadata": {},
   "source": [
    "***\n",
    "<a name=\"final_review\"></a>\n",
    "**Final Review of Categorical Features in the Listings Data**  \n",
    "\n",
    "[Back to Top](#top)"
   ]
  },
  {
   "cell_type": "code",
   "execution_count": 118,
   "metadata": {
    "scrolled": true
   },
   "outputs": [
    {
     "data": {
      "text/plain": [
       "no data               27289\n",
       "within an hour         8289\n",
       "within a few hours     3506\n",
       "within a day           3238\n",
       "a few days or more     1679\n",
       "Name: host_response_time, dtype: int64"
      ]
     },
     "execution_count": 118,
     "metadata": {},
     "output_type": "execute_result"
    }
   ],
   "source": [
    "# host_response_time\n",
    "listings['host_response_time'].value_counts()"
   ]
  },
  {
   "cell_type": "code",
   "execution_count": 119,
   "metadata": {
    "scrolled": false
   },
   "outputs": [
    {
     "name": "stdout",
     "output_type": "stream",
     "text": [
      "<class 'pandas.core.frame.DataFrame'>\n",
      "Int64Index: 44001 entries, 0 to 64689\n",
      "Data columns (total 1 columns):\n",
      " #   Column              Non-Null Count  Dtype   \n",
      "---  ------              --------------  -----   \n",
      " 0   host_response_time  44001 non-null  category\n",
      "dtypes: category(1)\n",
      "memory usage: 386.9 KB\n"
     ]
    }
   ],
   "source": [
    "# Convert host_response_time to category dtype\n",
    "listings['host_response_time'] = listings['host_response_time'].astype('category')\n",
    "listings[['host_response_time']].info()"
   ]
  },
  {
   "cell_type": "code",
   "execution_count": 120,
   "metadata": {},
   "outputs": [
    {
     "data": {
      "text/plain": [
       "no data               27289\n",
       "a few days or more     1679\n",
       "within a day           3238\n",
       "within a few hours     3506\n",
       "within an hour         8289\n",
       "Name: host_response_time, dtype: int64"
      ]
     },
     "execution_count": 120,
     "metadata": {},
     "output_type": "execute_result"
    }
   ],
   "source": [
    "# Set categorical order for host_response_time column\n",
    "listings['host_response_time'].cat.reorder_categories(['no data', 'a few days or more', 'within a day', \\\n",
    "                                                       'within a few hours', 'within an hour'], inplace=True)\n",
    "listings['host_response_time'].value_counts().sort_index()"
   ]
  },
  {
   "cell_type": "markdown",
   "metadata": {},
   "source": [
    "The host_response_time column has now been converted to the category dtype and put into categorical order."
   ]
  },
  {
   "cell_type": "code",
   "execution_count": 121,
   "metadata": {},
   "outputs": [
    {
     "data": {
      "text/plain": [
       "f    38235\n",
       "t     5766\n",
       "Name: host_is_superhost, dtype: int64"
      ]
     },
     "execution_count": 121,
     "metadata": {},
     "output_type": "execute_result"
    }
   ],
   "source": [
    "# host_is_superhost\n",
    "listings['host_is_superhost'].value_counts()"
   ]
  },
  {
   "cell_type": "markdown",
   "metadata": {},
   "source": [
    "- Need to convert to True/False"
   ]
  },
  {
   "cell_type": "code",
   "execution_count": 122,
   "metadata": {},
   "outputs": [
    {
     "data": {
      "text/plain": [
       "Buttes-Montmartre      5244\n",
       "Popincourt             4628\n",
       "Entrepôt               3279\n",
       "Vaugirard              3249\n",
       "Batignolles-Monceau    2882\n",
       "Ménilmontant           2639\n",
       "Buttes-Chaumont        2542\n",
       "Temple                 2161\n",
       "Opéra                  1985\n",
       "Passy                  1946\n",
       "Reuilly                1861\n",
       "Observatoire           1674\n",
       "Bourse                 1531\n",
       "Gobelins               1485\n",
       "Panthéon               1460\n",
       "Hôtel-de-Ville         1398\n",
       "Luxembourg             1141\n",
       "Palais-Bourbon         1097\n",
       "Élysée                  929\n",
       "Louvre                  870\n",
       "Name: neighbourhood_cleansed, dtype: int64"
      ]
     },
     "execution_count": 122,
     "metadata": {},
     "output_type": "execute_result"
    }
   ],
   "source": [
    "# neighbourhood_cleansed\n",
    "listings['neighbourhood_cleansed'].value_counts()"
   ]
  },
  {
   "cell_type": "markdown",
   "metadata": {},
   "source": [
    "This is a lot of categories but the data is needed for our business objective.\n",
    "- Keeping this column as is."
   ]
  },
  {
   "cell_type": "code",
   "execution_count": 123,
   "metadata": {},
   "outputs": [
    {
     "data": {
      "text/plain": [
       "Entire apartment             41157\n",
       "Entire condominium            1508\n",
       "Entire loft                    813\n",
       "Entire house                   169\n",
       "Entire serviced apartment      104\n",
       "Entire townhouse                91\n",
       "Entire guesthouse               36\n",
       "Entire guest suite              28\n",
       "Entire place                    24\n",
       "Tiny house                      21\n",
       "Room in aparthotel              16\n",
       "Boat                             8\n",
       "Entire villa                     4\n",
       "Earth house                      3\n",
       "Entire home/apt                  3\n",
       "Dome house                       3\n",
       "Room in boutique hotel           2\n",
       "Entire cottage                   1\n",
       "Entire bed and breakfast         1\n",
       "Campsite                         1\n",
       "Island                           1\n",
       "Barn                             1\n",
       "Camper/RV                        1\n",
       "Houseboat                        1\n",
       "Entire chalet                    1\n",
       "Entire bungalow                  1\n",
       "Casa particular                  1\n",
       "Cave                             1\n",
       "Name: property_type, dtype: int64"
      ]
     },
     "execution_count": 123,
     "metadata": {},
     "output_type": "execute_result"
    }
   ],
   "source": [
    "# property_type\n",
    "listings['property_type'].value_counts()"
   ]
  },
  {
   "cell_type": "markdown",
   "metadata": {},
   "source": [
    "The number of unique values in this columns may introduce complexity but it could also be helpful for our model.\n",
    "- Keeping this column."
   ]
  },
  {
   "cell_type": "code",
   "execution_count": 124,
   "metadata": {},
   "outputs": [
    {
     "data": {
      "text/plain": [
       "f    31008\n",
       "t    12993\n",
       "Name: instant_bookable, dtype: int64"
      ]
     },
     "execution_count": 124,
     "metadata": {},
     "output_type": "execute_result"
    }
   ],
   "source": [
    "# instant_bookable\n",
    "listings['instant_bookable'].value_counts()"
   ]
  },
  {
   "cell_type": "markdown",
   "metadata": {},
   "source": [
    "- Need to convert to True/False"
   ]
  },
  {
   "cell_type": "code",
   "execution_count": 125,
   "metadata": {},
   "outputs": [
    {
     "data": {
      "text/plain": [
       "no data    27289\n",
       "low         2036\n",
       "medium       871\n",
       "high        3707\n",
       "100%       10098\n",
       "Name: host_response_rate_cat, dtype: int64"
      ]
     },
     "execution_count": 125,
     "metadata": {},
     "output_type": "execute_result"
    }
   ],
   "source": [
    "# host_response_rate_cat\n",
    "listings['host_response_rate_cat'].value_counts().sort_index()"
   ]
  },
  {
   "cell_type": "markdown",
   "metadata": {},
   "source": [
    "- This column is good."
   ]
  },
  {
   "cell_type": "code",
   "execution_count": 126,
   "metadata": {
    "scrolled": true
   },
   "outputs": [
    {
     "data": {
      "text/plain": [
       "no review     5320\n",
       "low            224\n",
       "medium        1244\n",
       "high         27450\n",
       "100%          9763\n",
       "Name: review_scores_rating_cat, dtype: int64"
      ]
     },
     "execution_count": 126,
     "metadata": {},
     "output_type": "execute_result"
    }
   ],
   "source": [
    "# review_scores_rating_cat\n",
    "listings['review_scores_rating_cat'].value_counts().sort_index()"
   ]
  },
  {
   "cell_type": "markdown",
   "metadata": {},
   "source": [
    "- This column is good."
   ]
  },
  {
   "cell_type": "code",
   "execution_count": 127,
   "metadata": {},
   "outputs": [],
   "source": [
    "# Converting the host_is_superhost and instant_bookable columns to True/False and bool dtype\n",
    "#CREDIT: https://pbpython.com/pandas_dtypes.html\n",
    "\n",
    "listings[['host_is_superhost', 'instant_bookable']] = \\\n",
    "np.where(listings[['host_is_superhost', 'instant_bookable']] == \"t\", True, False)"
   ]
  },
  {
   "cell_type": "code",
   "execution_count": 128,
   "metadata": {
    "scrolled": false
   },
   "outputs": [
    {
     "name": "stdout",
     "output_type": "stream",
     "text": [
      "<class 'pandas.core.frame.DataFrame'>\n",
      "Int64Index: 44001 entries, 0 to 64689\n",
      "Data columns (total 19 columns):\n",
      " #   Column                    Non-Null Count  Dtype   \n",
      "---  ------                    --------------  -----   \n",
      " 0   id                        44001 non-null  int64   \n",
      " 1   host_id                   44001 non-null  int64   \n",
      " 2   host_response_time        44001 non-null  category\n",
      " 3   host_is_superhost         44001 non-null  bool    \n",
      " 4   neighbourhood_cleansed    44001 non-null  object  \n",
      " 5   property_type             44001 non-null  object  \n",
      " 6   accommodates              44001 non-null  int64   \n",
      " 7   bedrooms                  44001 non-null  float64 \n",
      " 8   beds                      44001 non-null  float64 \n",
      " 9   price                     44001 non-null  float64 \n",
      " 10  availability_365          44001 non-null  int64   \n",
      " 11  number_of_reviews         44001 non-null  int64   \n",
      " 12  instant_bookable          44001 non-null  bool    \n",
      " 13  reviews_per_month         44001 non-null  float64 \n",
      " 14  days_host                 44001 non-null  float64 \n",
      " 15  days_reviews              44001 non-null  float64 \n",
      " 16  host_count                44001 non-null  int64   \n",
      " 17  host_response_rate_cat    44001 non-null  category\n",
      " 18  review_scores_rating_cat  44001 non-null  category\n",
      "dtypes: bool(2), category(3), float64(6), int64(6), object(2)\n",
      "memory usage: 5.2+ MB\n"
     ]
    }
   ],
   "source": [
    "listings.info()"
   ]
  },
  {
   "cell_type": "markdown",
   "metadata": {},
   "source": [
    "***\n",
    "<a name=\"final_results\"></a>\n",
    "**Listings Data Final Results**\n",
    "\n",
    "[Back to Top](#top)"
   ]
  },
  {
   "cell_type": "markdown",
   "metadata": {},
   "source": [
    "Now that we understand the data in the listings.csv dataset and have started some data preparation, we have 45811 listings across 19 columns.\n",
    "\n",
    "**Quantitative variable columns (12):**  \n",
    "id  \n",
    "host_id  \n",
    "accommodates   \n",
    "bedrooms  \n",
    "beds  \n",
    "price  \n",
    "availability_365  \n",
    "number_of_reviews  \n",
    "reviews_per_month  \n",
    "days_host  \n",
    "days_reviews  \n",
    "host_count  \n",
    "\n",
    "\n",
    "\n",
    "**Categorical variable columns (7):**  \n",
    "host_response_time  \n",
    "host_is_superhost  \n",
    "neighbourhood_cleansed  \n",
    "property_type  \n",
    "instant_bookable  \n",
    "host_response_rate_cat  \n",
    "review_scores_rating_cat  \n"
   ]
  },
  {
   "cell_type": "markdown",
   "metadata": {},
   "source": [
    "***\n",
    "<a name=\"calendar\"></a>\n",
    "### Exploring calendar.csv\n",
    "\n",
    "[Back to Top](#top)"
   ]
  },
  {
   "cell_type": "code",
   "execution_count": 129,
   "metadata": {},
   "outputs": [
    {
     "name": "stdout",
     "output_type": "stream",
     "text": [
      "<class 'pandas.core.frame.DataFrame'>\n",
      "RangeIndex: 23610091 entries, 0 to 23610090\n",
      "Data columns (total 7 columns):\n",
      " #   Column          Dtype  \n",
      "---  ------          -----  \n",
      " 0   listing_id      int64  \n",
      " 1   date            object \n",
      " 2   available       object \n",
      " 3   price           object \n",
      " 4   adjusted_price  object \n",
      " 5   minimum_nights  float64\n",
      " 6   maximum_nights  float64\n",
      "dtypes: float64(2), int64(1), object(4)\n",
      "memory usage: 1.2+ GB\n"
     ]
    }
   ],
   "source": [
    "# Initial load of calendar.csv file to explore the data\n",
    "calendar = pd.read_csv('./calendar.csv')\n",
    "calendar.info()"
   ]
  },
  {
   "cell_type": "markdown",
   "metadata": {},
   "source": [
    "Over 23.6 million rows! This information may not be useful because the listings data has price, minimum_nights, and maximum_nights.\n",
    "\n",
    "Assumption: Based on the number of rows, this is a 365 day view of availability for each individual listing with data that could change through out the year such as the price.\n",
    "\n",
    "This may be useful to visualize times of the year that prices go up or down."
   ]
  },
  {
   "cell_type": "code",
   "execution_count": 130,
   "metadata": {},
   "outputs": [
    {
     "data": {
      "text/html": [
       "<div>\n",
       "<style scoped>\n",
       "    .dataframe tbody tr th:only-of-type {\n",
       "        vertical-align: middle;\n",
       "    }\n",
       "\n",
       "    .dataframe tbody tr th {\n",
       "        vertical-align: top;\n",
       "    }\n",
       "\n",
       "    .dataframe thead th {\n",
       "        text-align: right;\n",
       "    }\n",
       "</style>\n",
       "<table border=\"1\" class=\"dataframe\">\n",
       "  <thead>\n",
       "    <tr style=\"text-align: right;\">\n",
       "      <th></th>\n",
       "      <th>listing_id</th>\n",
       "      <th>date</th>\n",
       "      <th>available</th>\n",
       "      <th>price</th>\n",
       "      <th>adjusted_price</th>\n",
       "      <th>minimum_nights</th>\n",
       "      <th>maximum_nights</th>\n",
       "    </tr>\n",
       "  </thead>\n",
       "  <tbody>\n",
       "    <tr>\n",
       "      <th>0</th>\n",
       "      <td>11170</td>\n",
       "      <td>2021-02-13</td>\n",
       "      <td>f</td>\n",
       "      <td>$75.00</td>\n",
       "      <td>$75.00</td>\n",
       "      <td>2.0</td>\n",
       "      <td>1125.0</td>\n",
       "    </tr>\n",
       "    <tr>\n",
       "      <th>1</th>\n",
       "      <td>55239</td>\n",
       "      <td>2021-02-13</td>\n",
       "      <td>f</td>\n",
       "      <td>$360.00</td>\n",
       "      <td>$353.00</td>\n",
       "      <td>2.0</td>\n",
       "      <td>1125.0</td>\n",
       "    </tr>\n",
       "    <tr>\n",
       "      <th>2</th>\n",
       "      <td>55239</td>\n",
       "      <td>2021-02-14</td>\n",
       "      <td>t</td>\n",
       "      <td>$360.00</td>\n",
       "      <td>$353.00</td>\n",
       "      <td>2.0</td>\n",
       "      <td>1125.0</td>\n",
       "    </tr>\n",
       "    <tr>\n",
       "      <th>3</th>\n",
       "      <td>55239</td>\n",
       "      <td>2021-02-15</td>\n",
       "      <td>t</td>\n",
       "      <td>$360.00</td>\n",
       "      <td>$353.00</td>\n",
       "      <td>2.0</td>\n",
       "      <td>1125.0</td>\n",
       "    </tr>\n",
       "    <tr>\n",
       "      <th>4</th>\n",
       "      <td>55239</td>\n",
       "      <td>2021-02-16</td>\n",
       "      <td>t</td>\n",
       "      <td>$360.00</td>\n",
       "      <td>$353.00</td>\n",
       "      <td>2.0</td>\n",
       "      <td>1125.0</td>\n",
       "    </tr>\n",
       "  </tbody>\n",
       "</table>\n",
       "</div>"
      ],
      "text/plain": [
       "   listing_id        date available    price adjusted_price  minimum_nights  \\\n",
       "0       11170  2021-02-13         f   $75.00         $75.00             2.0   \n",
       "1       55239  2021-02-13         f  $360.00        $353.00             2.0   \n",
       "2       55239  2021-02-14         t  $360.00        $353.00             2.0   \n",
       "3       55239  2021-02-15         t  $360.00        $353.00             2.0   \n",
       "4       55239  2021-02-16         t  $360.00        $353.00             2.0   \n",
       "\n",
       "   maximum_nights  \n",
       "0          1125.0  \n",
       "1          1125.0  \n",
       "2          1125.0  \n",
       "3          1125.0  \n",
       "4          1125.0  "
      ]
     },
     "execution_count": 130,
     "metadata": {},
     "output_type": "execute_result"
    }
   ],
   "source": [
    "calendar.head()"
   ]
  },
  {
   "cell_type": "markdown",
   "metadata": {},
   "source": [
    "First, the date and price columns need to be converted as was done for the listings.csv data."
   ]
  },
  {
   "cell_type": "code",
   "execution_count": 131,
   "metadata": {},
   "outputs": [
    {
     "data": {
      "text/plain": [
       "0   2021-02-13\n",
       "1   2021-02-13\n",
       "2   2021-02-14\n",
       "3   2021-02-15\n",
       "4   2021-02-16\n",
       "Name: date, dtype: datetime64[ns]"
      ]
     },
     "execution_count": 131,
     "metadata": {},
     "output_type": "execute_result"
    }
   ],
   "source": [
    "# Converting date column to datetime\n",
    "calendar['date'] = pd.to_datetime(calendar['date'], yearfirst=True)\n",
    "calendar['date'].head()"
   ]
  },
  {
   "cell_type": "code",
   "execution_count": 132,
   "metadata": {},
   "outputs": [
    {
     "name": "stdout",
     "output_type": "stream",
     "text": [
      "<class 'pandas.core.frame.DataFrame'>\n",
      "RangeIndex: 23610091 entries, 0 to 23610090\n",
      "Data columns (total 7 columns):\n",
      " #   Column          Dtype         \n",
      "---  ------          -----         \n",
      " 0   listing_id      int64         \n",
      " 1   date            datetime64[ns]\n",
      " 2   available       object        \n",
      " 3   price           float64       \n",
      " 4   adjusted_price  object        \n",
      " 5   minimum_nights  float64       \n",
      " 6   maximum_nights  float64       \n",
      "dtypes: datetime64[ns](1), float64(3), int64(1), object(2)\n",
      "memory usage: 1.2+ GB\n"
     ]
    }
   ],
   "source": [
    "# Remove $ and ',' from the price column\n",
    "\n",
    "price = ['price']\n",
    "\n",
    "# Clean up the $ and .00\n",
    "for col in price:\n",
    "    calendar.loc[:, col] = calendar[col].str.strip('$').str.replace(',', '').apply(float)\n",
    "    \n",
    "calendar.info()"
   ]
  },
  {
   "cell_type": "code",
   "execution_count": 133,
   "metadata": {
    "scrolled": true
   },
   "outputs": [
    {
     "name": "stdout",
     "output_type": "stream",
     "text": [
      "<class 'pandas.core.frame.DataFrame'>\n",
      "RangeIndex: 23610091 entries, 0 to 23610090\n",
      "Data columns (total 3 columns):\n",
      " #   Column      Dtype         \n",
      "---  ------      -----         \n",
      " 0   listing_id  int64         \n",
      " 1   date        datetime64[ns]\n",
      " 2   price       float64       \n",
      "dtypes: datetime64[ns](1), float64(1), int64(1)\n",
      "memory usage: 540.4 MB\n"
     ]
    }
   ],
   "source": [
    "calendar_final = calendar[['listing_id', 'date', 'price']]\n",
    "calendar_final.info()"
   ]
  },
  {
   "cell_type": "code",
   "execution_count": 134,
   "metadata": {},
   "outputs": [
    {
     "data": {
      "text/html": [
       "<div>\n",
       "<style scoped>\n",
       "    .dataframe tbody tr th:only-of-type {\n",
       "        vertical-align: middle;\n",
       "    }\n",
       "\n",
       "    .dataframe tbody tr th {\n",
       "        vertical-align: top;\n",
       "    }\n",
       "\n",
       "    .dataframe thead th {\n",
       "        text-align: right;\n",
       "    }\n",
       "</style>\n",
       "<table border=\"1\" class=\"dataframe\">\n",
       "  <thead>\n",
       "    <tr style=\"text-align: right;\">\n",
       "      <th></th>\n",
       "      <th>listing_id</th>\n",
       "      <th>date</th>\n",
       "      <th>price</th>\n",
       "    </tr>\n",
       "  </thead>\n",
       "  <tbody>\n",
       "    <tr>\n",
       "      <th>0</th>\n",
       "      <td>11170</td>\n",
       "      <td>2021-02-13</td>\n",
       "      <td>75.0</td>\n",
       "    </tr>\n",
       "    <tr>\n",
       "      <th>1</th>\n",
       "      <td>55239</td>\n",
       "      <td>2021-02-13</td>\n",
       "      <td>360.0</td>\n",
       "    </tr>\n",
       "    <tr>\n",
       "      <th>2</th>\n",
       "      <td>55239</td>\n",
       "      <td>2021-02-14</td>\n",
       "      <td>360.0</td>\n",
       "    </tr>\n",
       "    <tr>\n",
       "      <th>3</th>\n",
       "      <td>55239</td>\n",
       "      <td>2021-02-15</td>\n",
       "      <td>360.0</td>\n",
       "    </tr>\n",
       "    <tr>\n",
       "      <th>4</th>\n",
       "      <td>55239</td>\n",
       "      <td>2021-02-16</td>\n",
       "      <td>360.0</td>\n",
       "    </tr>\n",
       "  </tbody>\n",
       "</table>\n",
       "</div>"
      ],
      "text/plain": [
       "   listing_id       date  price\n",
       "0       11170 2021-02-13   75.0\n",
       "1       55239 2021-02-13  360.0\n",
       "2       55239 2021-02-14  360.0\n",
       "3       55239 2021-02-15  360.0\n",
       "4       55239 2021-02-16  360.0"
      ]
     },
     "execution_count": 134,
     "metadata": {},
     "output_type": "execute_result"
    }
   ],
   "source": [
    "calendar_final.head()"
   ]
  },
  {
   "cell_type": "code",
   "execution_count": 135,
   "metadata": {},
   "outputs": [
    {
     "data": {
      "text/plain": [
       "2021-02-09     6745\n",
       "2021-02-10    14309\n",
       "2021-02-11    25396\n",
       "2021-02-12    45057\n",
       "2021-02-13    60405\n",
       "              ...  \n",
       "2022-02-12    20784\n",
       "2022-02-13     6207\n",
       "2022-02-14        1\n",
       "2022-02-15        1\n",
       "2022-02-16        1\n",
       "Name: date, Length: 373, dtype: int64"
      ]
     },
     "execution_count": 135,
     "metadata": {},
     "output_type": "execute_result"
    }
   ],
   "source": [
    "calendar_final['date'].value_counts().sort_index()"
   ]
  },
  {
   "cell_type": "markdown",
   "metadata": {},
   "source": [
    "The dates range from 02/09/21 - 02/16/22 but there is not the full amount of listings for the first few and last few days in the range.\n",
    "\n",
    "Unfortunately, there are a few days at the beginning and the end of the date range of the data that doesn't include all of the listings. If a graph is created for the full year there is potential that the graph will not represent all of the listings."
   ]
  },
  {
   "cell_type": "code",
   "execution_count": 136,
   "metadata": {},
   "outputs": [
    {
     "data": {
      "text/plain": [
       "(23610091, 3)"
      ]
     },
     "execution_count": 136,
     "metadata": {},
     "output_type": "execute_result"
    }
   ],
   "source": [
    "calendar_final.shape"
   ]
  },
  {
   "cell_type": "code",
   "execution_count": 137,
   "metadata": {},
   "outputs": [
    {
     "data": {
      "text/plain": [
       "(16062429, 3)"
      ]
     },
     "execution_count": 137,
     "metadata": {},
     "output_type": "execute_result"
    }
   ],
   "source": [
    "# Filter calendar_final for just the listings being reviewed in the listings dataframe\n",
    "listings_ids = listings['id']\n",
    "\n",
    "calendar_final = calendar_final[calendar_final.listing_id.isin(listings_ids)]\n",
    "\n",
    "calendar_final.shape"
   ]
  },
  {
   "cell_type": "markdown",
   "metadata": {},
   "source": [
    "That brought us down to 16,399,956 rows now."
   ]
  },
  {
   "cell_type": "code",
   "execution_count": 138,
   "metadata": {},
   "outputs": [
    {
     "data": {
      "text/plain": [
       "(15942115, 3)"
      ]
     },
     "execution_count": 138,
     "metadata": {},
     "output_type": "execute_result"
    }
   ],
   "source": [
    "# Filter by date range so that the visualization uses only days that have the full range of data\n",
    "calendar_final = calendar_final[(calendar_final['date'] > '2021-02-13') & (calendar_final['date'] < '2022-02-12')]\n",
    "calendar_final.shape"
   ]
  },
  {
   "cell_type": "markdown",
   "metadata": {},
   "source": [
    "***\n",
    "<a name=\"visualize\"></a>\n",
    "**Visualize the AVG price over the coming year**\n",
    "\n",
    "[Back to Top](#top)"
   ]
  },
  {
   "cell_type": "code",
   "execution_count": 139,
   "metadata": {
    "scrolled": false
   },
   "outputs": [
    {
     "data": {
      "image/png": "[encoded data removed]",
      "text/plain": [
       "<Figure size 1080x792 with 1 Axes>"
      ]
     },
     "metadata": {
      "needs_background": "light"
     },
     "output_type": "display_data"
    }
   ],
   "source": [
    "fig, ax = plt.subplots(figsize=(15, 11))\n",
    "price_by_date = calendar_final.groupby(['date'])['price'].mean()\n",
    "\n",
    "plt.subplot(211)\n",
    "\n",
    "# Resample time series to weekly for easier visualization\n",
    "price_by_date.resample('W').mean().plot()\n",
    "\n",
    "plt.xlabel('Date')\n",
    "plt.ylabel('Price')\n",
    "plt.title('AVG Nightly Price:  February 13, 2021 - February 13, 2022')\n",
    "\n",
    "plt.savefig('AVG_List_Price', bbox_inches='tight');"
   ]
  },
  {
   "cell_type": "markdown",
   "metadata": {},
   "source": [
    "We can see from this line chart that the average price per night starts out at under 88 euro in February 2021 then slowly rises through the spring and into the summer.\n",
    "\n",
    "The average price per night peaks at the end of June 2021 at 98 euros per night. Another peak in the price comes in October before declining slightly again just before a steep increase through the holiday season in December and leading up to the New Year holiday.\n",
    "\n",
    "Observations:\n",
    "- The lowest average nightly price at the beginning of the the chart may be due to hosts dropping the price on unbooked listings a month or two out from the current date.\n",
    "- It is obvious from this chart that the average price is higher the further out that you go in terms of days.\n",
    "- The peak in December is due to the very busy holiday season in Paris for Christmas and New Year.\n",
    "- Another noticible peak in price comes in June as the summer tourist season ramps up going into July for Bastille day."
   ]
  },
  {
   "cell_type": "markdown",
   "metadata": {},
   "source": [
    "***\n",
    "<a name=\"reviews\"></a>\n",
    "### Exploring reviews.csv\n",
    "\n",
    "[Back to Top](#top)"
   ]
  },
  {
   "cell_type": "code",
   "execution_count": 140,
   "metadata": {},
   "outputs": [
    {
     "name": "stdout",
     "output_type": "stream",
     "text": [
      "<class 'pandas.core.frame.DataFrame'>\n",
      "RangeIndex: 1213727 entries, 0 to 1213726\n",
      "Data columns (total 6 columns):\n",
      " #   Column         Non-Null Count    Dtype \n",
      "---  ------         --------------    ----- \n",
      " 0   listing_id     1213727 non-null  int64 \n",
      " 1   id             1213727 non-null  int64 \n",
      " 2   date           1213727 non-null  object\n",
      " 3   reviewer_id    1213727 non-null  int64 \n",
      " 4   reviewer_name  1213727 non-null  object\n",
      " 5   comments       1213182 non-null  object\n",
      "dtypes: int64(3), object(3)\n",
      "memory usage: 55.6+ MB\n"
     ]
    }
   ],
   "source": [
    "# Initial load of reviews.csv file to explore the data\n",
    "reviews = pd.read_csv('./reviews.csv')\n",
    "reviews.info()"
   ]
  },
  {
   "cell_type": "code",
   "execution_count": 141,
   "metadata": {},
   "outputs": [
    {
     "data": {
      "text/html": [
       "<div>\n",
       "<style scoped>\n",
       "    .dataframe tbody tr th:only-of-type {\n",
       "        vertical-align: middle;\n",
       "    }\n",
       "\n",
       "    .dataframe tbody tr th {\n",
       "        vertical-align: top;\n",
       "    }\n",
       "\n",
       "    .dataframe thead th {\n",
       "        text-align: right;\n",
       "    }\n",
       "</style>\n",
       "<table border=\"1\" class=\"dataframe\">\n",
       "  <thead>\n",
       "    <tr style=\"text-align: right;\">\n",
       "      <th></th>\n",
       "      <th>listing_id</th>\n",
       "      <th>id</th>\n",
       "      <th>date</th>\n",
       "      <th>reviewer_id</th>\n",
       "      <th>reviewer_name</th>\n",
       "      <th>comments</th>\n",
       "    </tr>\n",
       "  </thead>\n",
       "  <tbody>\n",
       "    <tr>\n",
       "      <th>0</th>\n",
       "      <td>2577</td>\n",
       "      <td>366217274</td>\n",
       "      <td>2019-01-02</td>\n",
       "      <td>28047930</td>\n",
       "      <td>Kate</td>\n",
       "      <td>Beautiful apartment in a really handy location...</td>\n",
       "    </tr>\n",
       "    <tr>\n",
       "      <th>1</th>\n",
       "      <td>3109</td>\n",
       "      <td>123127969</td>\n",
       "      <td>2016-12-27</td>\n",
       "      <td>12389804</td>\n",
       "      <td>Sophie</td>\n",
       "      <td>The host canceled this reservation the day bef...</td>\n",
       "    </tr>\n",
       "    <tr>\n",
       "      <th>2</th>\n",
       "      <td>3109</td>\n",
       "      <td>123274144</td>\n",
       "      <td>2016-12-28</td>\n",
       "      <td>67553494</td>\n",
       "      <td>Tom'S</td>\n",
       "      <td>The host canceled this reservation 2 days befo...</td>\n",
       "    </tr>\n",
       "    <tr>\n",
       "      <th>3</th>\n",
       "      <td>3109</td>\n",
       "      <td>207127433</td>\n",
       "      <td>2017-10-28</td>\n",
       "      <td>51636494</td>\n",
       "      <td>Patricia</td>\n",
       "      <td>Tout s'est bien déroulé. Merci bien. PG</td>\n",
       "    </tr>\n",
       "    <tr>\n",
       "      <th>4</th>\n",
       "      <td>3109</td>\n",
       "      <td>208779822</td>\n",
       "      <td>2017-11-03</td>\n",
       "      <td>4142888</td>\n",
       "      <td>Patricia</td>\n",
       "      <td>Un petit nid fouiller douillet situé dans  app...</td>\n",
       "    </tr>\n",
       "  </tbody>\n",
       "</table>\n",
       "</div>"
      ],
      "text/plain": [
       "   listing_id         id        date  reviewer_id reviewer_name  \\\n",
       "0        2577  366217274  2019-01-02     28047930          Kate   \n",
       "1        3109  123127969  2016-12-27     12389804        Sophie   \n",
       "2        3109  123274144  2016-12-28     67553494         Tom'S   \n",
       "3        3109  207127433  2017-10-28     51636494      Patricia   \n",
       "4        3109  208779822  2017-11-03      4142888      Patricia   \n",
       "\n",
       "                                            comments  \n",
       "0  Beautiful apartment in a really handy location...  \n",
       "1  The host canceled this reservation the day bef...  \n",
       "2  The host canceled this reservation 2 days befo...  \n",
       "3            Tout s'est bien déroulé. Merci bien. PG  \n",
       "4  Un petit nid fouiller douillet situé dans  app...  "
      ]
     },
     "execution_count": 141,
     "metadata": {},
     "output_type": "execute_result"
    }
   ],
   "source": [
    "reviews.head()"
   ]
  },
  {
   "cell_type": "markdown",
   "metadata": {
    "collapsed": true
   },
   "source": [
    "This file isn't very useful for the business questions outlined earlier. It consists of over 1.2 million reviews for Paris listings with the date of the review and the comments provided. The most useful review information is already aggregated in the listings.csv file. I will not be using this file."
   ]
  },
  {
   "cell_type": "markdown",
   "metadata": {},
   "source": [
    "***\n",
    "<a name=\"data_prep\"></a>\n",
    "## Data Preparation\n",
    "In this section, learnings from the Data Understanding step above will be used to create functions that will prepare the data for our model.\n",
    "\n",
    "[Back to Top](#top)"
   ]
  },
  {
   "cell_type": "markdown",
   "metadata": {},
   "source": [
    "### Data Load and Clean Functions"
   ]
  },
  {
   "cell_type": "code",
   "execution_count": 1,
   "metadata": {},
   "outputs": [],
   "source": [
    "import os\n",
    "import numpy as np\n",
    "import pandas as pd\n",
    "import matplotlib.pyplot as plt\n",
    "\n",
    "# Used for predictive modeling\n",
    "from sklearn.linear_model import LinearRegression\n",
    "from sklearn.model_selection import train_test_split\n",
    "from sklearn.metrics import r2_score, mean_squared_error\n",
    "\n",
    "# Used for plotting\n",
    "%matplotlib inline\n",
    "import matplotlib as mpl\n",
    "import matplotlib.pyplot as plt\n",
    "# mpl.rc('axes', labelsize=14)\n",
    "# mpl.rc('xtick', labelsize=12)\n",
    "# mpl.rc('ytick', labelsize=12)\n",
    "\n",
    "import seaborn as sns\n",
    "\n",
    "# Filter to ignore math related warnings\n",
    "import warnings\n",
    "warnings.filterwarnings(action=\"ignore\", message=\"^internal gelsd\")\n",
    "\n",
    "\n",
    "def listings_df():\n",
    "    '''\n",
    "    OUTPUT:\n",
    "    listings - a dataframe of selected columns from listings.csv\n",
    "    '''\n",
    "    # Creating our dataframe from listings.csv\n",
    "    listings = pd.read_csv('./listings.csv', usecols=['id', 'host_id', 'accommodates', 'bedrooms', 'beds', 'price',\n",
    "                                                  'availability_365', 'number_of_reviews', 'reviews_per_month',\n",
    "                                                  'host_response_time', 'host_is_superhost', 'neighbourhood_cleansed',\n",
    "                                                  'property_type', 'instant_bookable', 'last_scraped', 'host_since',\n",
    "                                                  'room_type', 'last_review', 'first_review', 'host_response_rate',\n",
    "                                                  'review_scores_rating'])\n",
    "    \n",
    "    return listings\n",
    "\n",
    "\n",
    "def create_listings_df():\n",
    "    ''' \n",
    "    OUTPUT:\n",
    "    listings - a dataframe of selected columns from listings.csv with the data fully cleaned for use \n",
    "    '''\n",
    "    # Create the listings dataframe\n",
    "    listings = listings_df()\n",
    "    \n",
    "    # 1. Drop rows with a 'room_type' other than 'Entire home/apt'\n",
    "    listings = listings[listings.room_type == 'Entire home/apt']\n",
    "    listings.drop(['room_type'], axis=1, inplace=True)\n",
    "    \n",
    "    # 2. Drop rows with NaN values in host_is_superhost column \n",
    "    listings = listings.dropna(subset=['host_is_superhost'])\n",
    "    \n",
    "    # 3. CLean the price column\n",
    "    # Remove $ and ',' from the price column\n",
    "    listings['price'] = listings['price'].apply(lambda x: x.replace('$', '').replace(',', '')).astype('float')\n",
    "    # Price outliers - Drop rows above the upper limit (Q3+(1.5)*IQR) and below the lower limit (Q1-(1.5)*IQR)\n",
    "    # Find 1st and 3rd quartiles\n",
    "    Q1 = np.percentile(listings.price, 25, interpolation = 'midpoint')\n",
    "    Q3 = np.percentile(listings.price, 75, interpolation = 'midpoint')\n",
    "    # Find IQR\n",
    "    IQR = Q3 - Q1\n",
    "    # Find upper and lower limits\n",
    "    upper_limit = Q3+(1.5)*IQR\n",
    "    lower_limit = Q1-(1.5)*IQR\n",
    "    # Drop rows\n",
    "    listings = listings[(listings.price >= lower_limit) & (listings.price <= upper_limit)]\n",
    "    \n",
    "    # 4. Drop rows where listings have no availability in the next 365 days and have no reviews\n",
    "    listings['concat'] = listings[\"availability_365\"] + listings[\"number_of_reviews\"]\n",
    "    listings = listings[listings.concat > 0].drop(['concat'], axis = 1)\n",
    "\n",
    "    # 5. Convert date columns to datetime and then create new days_host and days_reviews columns\n",
    "    # Converting the 'last_scraped', 'host_since', 'first_review', and 'last_review' columns to datetime dtype\n",
    "    listings[['last_scraped', 'host_since', 'first_review', 'last_review']] = \\\n",
    "    listings[['last_scraped', 'host_since', 'first_review', 'last_review']].apply(pd.to_datetime)\n",
    "    # Creating the days_host column\n",
    "    listings['days_host'] = (listings['last_scraped'] - listings['host_since']).astype('timedelta64[D]')\n",
    "    # Creating the days_reviews column\n",
    "    listings['days_reviews'] = (listings['last_review'] - listings['first_review']).astype('timedelta64[D]')\n",
    "    # Dropping the last_scraped, host_since, first_review, and last_review columns\n",
    "    col_drop = ['last_scraped', 'host_since', 'first_review', 'last_review']\n",
    "    listings.drop(col_drop, axis=1, inplace=True)\n",
    "\n",
    "    # 6. Creating a new column with the count of listings for each host_id\n",
    "    listings['host_count'] = listings.groupby(['host_id'])['host_id'].transform('count')\n",
    "    \n",
    "    # 7. Handle NaN values\n",
    "    listings = list_nan(listings)\n",
    "    \n",
    "    # 8. Converting host_response_time column to category dtype\n",
    "    listings['host_response_time'] = listings['host_response_time'].astype('category')\n",
    "\n",
    "    listings['host_response_time'].cat.reorder_categories(['no data', 'a few days or more', 'within a day', \\\n",
    "                                                           'within a few hours', 'within an hour'], inplace=True)\n",
    "\n",
    "    # 9. Converting the host_is_superhost and instant_bookable columns to True/False and bool dtype\n",
    "    listings[['host_is_superhost', 'instant_bookable']] = \\\n",
    "    np.where(listings[['host_is_superhost', 'instant_bookable']] == \"t\", True, False)\n",
    "    \n",
    "    return listings\n",
    "\n",
    "\n",
    "def list_nan(listings):\n",
    "    '''\n",
    "    INPUT:\n",
    "    listings - the pandas dataframe created from listings.csv\n",
    "    \n",
    "    OUTPUT:\n",
    "    listings - a dataframe that has had all known NaN values cared for in the 'host_response_time', 'host_resp_rate',\n",
    "               'review_scores_rating_temp', 'bedrooms', 'reviews_per_month', 'days_reviews' \n",
    "    '''\n",
    "    # 1. Impute the NaN values in host_response_time coulmn with 'no data'\n",
    "    listings['host_response_time'].fillna('no data', inplace=True)\n",
    "\n",
    "    # 2. Handle NaN values in host_response_rate coulmn\n",
    "    listings = host_resp_rate(listings)\n",
    "    \n",
    "    # 3. Handle NaN values in review_scores_rating_temp coulmn\n",
    "    listings = rev_scores_rating(listings)\n",
    "    \n",
    "    # 4. Impute the NaN values in the bedrooms, reviews_per_month, and days_reviews columns with 0\n",
    "    nan_col = ['bedrooms', 'reviews_per_month', 'days_reviews']\n",
    "    for col in nan_col:\n",
    "        listings[col].fillna(0, inplace=True)\n",
    "\n",
    "    # 5. Handle the NaN values in the beds column\n",
    "    # Copying the corresponding value in the bedrooms column\n",
    "    listings['beds'].fillna(listings['bedrooms'], inplace=True)\n",
    "    # Imputing the NaN values in the beds column with the corresponding value in the bedrooms column of the same listing\n",
    "    listings['beds'].replace(to_replace = 0.0, value = 1.0, inplace=True)\n",
    "\n",
    "    return listings\n",
    "\n",
    "\n",
    "def host_resp_rate(listings):\n",
    "    '''\n",
    "    INPUT:\n",
    "    listings - the pandas dataframe created from listings.csv\n",
    "    \n",
    "    OUTPUT:\n",
    "    listings - a dataframe that has had NaN values in the 'host_response_rate' column cared for by creating categorical bins\n",
    "    '''\n",
    "    # 1. Convert host_response_rate column to float\n",
    "    listings['host_response_rate'] = listings['host_response_rate'].str.rstrip('%').astype('float') / 100.0\n",
    "\n",
    "    # 2. Creating a new column called host_response_rate_cat\n",
    "    listings['host_response_rate_temp'] = listings['host_response_rate']\n",
    "\n",
    "    # 3. Temporarily changing all 0 values to 0.02 (2nd lowest non-zero value)\n",
    "    listings['host_response_rate_temp'].replace(to_replace = 0.00, value = 0.02, inplace=True)\n",
    "\n",
    "    # 4. Temporarily convert NaN values to 0.01\n",
    "    listings['host_response_rate_temp'].fillna(0.01, inplace=True)\n",
    "\n",
    "    # 5. Copyinhg host_response_rate_temp column to a new column called host_response_rate_cat\n",
    "    # Then converting the new column into category Bins.\n",
    "    # (Bin 1 = 'no data', Bin 2 = '0-49%', Bin 3 = '50-74%', Bin 4 = '75-99%', Bin 5 = '100%')\n",
    "    listings['host_response_rate_cat'] = pd.cut(listings['host_response_rate_temp'],\n",
    "                                                 bins=[0., 0.01, 0.50, 0.75, 0.99, np.inf],\n",
    "                                                 labels=['no data', 'low', 'medium', 'high', '100%'])\n",
    "    \n",
    "    # 6. Dropping host_response_rate_temp and the original host_response_rate columns\n",
    "    col_drop = ['host_response_rate_temp', 'host_response_rate']\n",
    "    listings.drop(col_drop, axis=1, inplace=True)\n",
    "\n",
    "    return listings\n",
    "\n",
    "\n",
    "def rev_scores_rating(listings):\n",
    "    '''\n",
    "    INPUT:\n",
    "    listings - the pandas dataframe created from listings.csv\n",
    "    \n",
    "    OUTPUT:\n",
    "    listings - a dataframe that has had NaN values in the 'rev_scores_rating' column cared for by creating categorical bins\n",
    "    '''\n",
    "    # 1. Creating a new column called review_scores_rating_cat\n",
    "    listings['review_scores_rating_temp'] = listings['review_scores_rating']\n",
    "\n",
    "    # 2. Temporarily changing all 0 values to 0.02 (2nd lowest non-zero value)\n",
    "    listings['review_scores_rating_temp'].replace(to_replace = 0.00, value = 0.02, inplace=True)\n",
    "\n",
    "    # 3. Temporarily convert NaN values to 0.01\n",
    "    listings['review_scores_rating_temp'].fillna(0.01, inplace=True)\n",
    "\n",
    "    # 4. Copyinhg review_scores_rating_temp column to a new column called review_scores_rating_cat\n",
    "    # Then converting the new column into category Bins.\n",
    "    # (Bin 1 = 'no review', Bin 2 = '0-49', Bin 3 = '50-79', Bin 4 = '80-99', Bin 5 = '100')\n",
    "    listings['review_scores_rating_cat'] = pd.cut(listings['review_scores_rating_temp'],\n",
    "                                                 bins=[0., 0.01, 49, 79, 99, np.inf],\n",
    "                                                 labels=[1, 2, 3, 4, 5])\n",
    "    \n",
    "    # 5. Dropping review_scores_rating_temp and the original review_scores_rating columns\n",
    "    col_drop = ['review_scores_rating_temp', 'review_scores_rating']\n",
    "    listings.drop(col_drop, axis=1, inplace=True)\n",
    "\n",
    "    return listings"
   ]
  },
  {
   "cell_type": "code",
   "execution_count": 2,
   "metadata": {},
   "outputs": [],
   "source": [
    "listings = create_listings_df()"
   ]
  },
  {
   "cell_type": "code",
   "execution_count": 3,
   "metadata": {
    "scrolled": true
   },
   "outputs": [
    {
     "name": "stdout",
     "output_type": "stream",
     "text": [
      "<class 'pandas.core.frame.DataFrame'>\n",
      "Int64Index: 44001 entries, 0 to 64689\n",
      "Data columns (total 19 columns):\n",
      " #   Column                    Non-Null Count  Dtype   \n",
      "---  ------                    --------------  -----   \n",
      " 0   id                        44001 non-null  int64   \n",
      " 1   host_id                   44001 non-null  int64   \n",
      " 2   host_response_time        44001 non-null  category\n",
      " 3   host_is_superhost         44001 non-null  bool    \n",
      " 4   neighbourhood_cleansed    44001 non-null  object  \n",
      " 5   property_type             44001 non-null  object  \n",
      " 6   accommodates              44001 non-null  int64   \n",
      " 7   bedrooms                  44001 non-null  float64 \n",
      " 8   beds                      44001 non-null  float64 \n",
      " 9   price                     44001 non-null  float64 \n",
      " 10  availability_365          44001 non-null  int64   \n",
      " 11  number_of_reviews         44001 non-null  int64   \n",
      " 12  instant_bookable          44001 non-null  bool    \n",
      " 13  reviews_per_month         44001 non-null  float64 \n",
      " 14  days_host                 44001 non-null  float64 \n",
      " 15  days_reviews              44001 non-null  float64 \n",
      " 16  host_count                44001 non-null  int64   \n",
      " 17  host_response_rate_cat    44001 non-null  category\n",
      " 18  review_scores_rating_cat  44001 non-null  category\n",
      "dtypes: bool(2), category(3), float64(6), int64(6), object(2)\n",
      "memory usage: 5.2+ MB\n"
     ]
    }
   ],
   "source": [
    "listings.info()"
   ]
  },
  {
   "cell_type": "markdown",
   "metadata": {},
   "source": [
    "### Machine Learning Prep / Create ml_prep Function\n",
    "Keeping our business questions in mind, dataframes will be created for use in models focused on price (X_price and y_price) as well as review scores (X_review and y_review)."
   ]
  },
  {
   "cell_type": "code",
   "execution_count": 4,
   "metadata": {},
   "outputs": [],
   "source": [
    "def ml_prep(listings):\n",
    "    '''\n",
    "    INPUT:\n",
    "    listings - the cleaned pandas dataframe created from listings.csv\n",
    "    \n",
    "    OUTPUT:\n",
    "    X_price, y_price, X_review, y_review - 4 dataframes prepped for use for ML modeling\n",
    "    '''\n",
    "    # Create dummy columns for all categorical variable columns and drop the original columns\n",
    "    cat_vars = ['neighbourhood_cleansed', 'property_type','host_response_rate_cat', 'host_response_time']\n",
    "    for var in cat_vars:\n",
    "        listings = pd.concat([listings.drop(var, axis=1), pd.get_dummies(listings[var], \\\n",
    "                             prefix=var, prefix_sep='_', drop_first=True)], axis=1)\n",
    "    \n",
    "    # Create X_price\n",
    "    X_price = listings.copy()\n",
    "    \n",
    "    # Drop the price column + columns with no correlation to the price column\n",
    "    col_drop = ['price', 'id', 'host_id']\n",
    "    X_price.drop(col_drop, axis=1, inplace=True)\n",
    "    \n",
    "    # Create y_price using the price column\n",
    "    y_price = listings['price']\n",
    "    \n",
    "    # Create X_review\n",
    "    X_review = listings.copy()\n",
    "    \n",
    "    # Drop the review_scores_rating_cat column + columns with no correlation to the review_scores_rating_cat column\n",
    "    col_drop = ['review_scores_rating_cat', 'id', 'host_id']\n",
    "    X_review.drop(col_drop, axis=1, inplace=True)\n",
    "    \n",
    "    # Create y_review using the review_scores_rating_cat column\n",
    "    y_review = listings['review_scores_rating_cat']\n",
    "\n",
    "    return X_price, y_price, X_review, y_review"
   ]
  },
  {
   "cell_type": "markdown",
   "metadata": {},
   "source": [
    "#### Create X_price, y_price, X_review, y_review"
   ]
  },
  {
   "cell_type": "code",
   "execution_count": 5,
   "metadata": {},
   "outputs": [],
   "source": [
    "X_price, y_price, X_review, y_review = ml_prep(listings)"
   ]
  },
  {
   "cell_type": "code",
   "execution_count": 6,
   "metadata": {
    "scrolled": true
   },
   "outputs": [
    {
     "data": {
      "text/plain": [
       "(44001, 66)"
      ]
     },
     "execution_count": 6,
     "metadata": {},
     "output_type": "execute_result"
    }
   ],
   "source": [
    "X_price.shape"
   ]
  },
  {
   "cell_type": "code",
   "execution_count": 7,
   "metadata": {},
   "outputs": [
    {
     "data": {
      "text/html": [
       "<div>\n",
       "<style scoped>\n",
       "    .dataframe tbody tr th:only-of-type {\n",
       "        vertical-align: middle;\n",
       "    }\n",
       "\n",
       "    .dataframe tbody tr th {\n",
       "        vertical-align: top;\n",
       "    }\n",
       "\n",
       "    .dataframe thead th {\n",
       "        text-align: right;\n",
       "    }\n",
       "</style>\n",
       "<table border=\"1\" class=\"dataframe\">\n",
       "  <thead>\n",
       "    <tr style=\"text-align: right;\">\n",
       "      <th></th>\n",
       "      <th>host_is_superhost</th>\n",
       "      <th>accommodates</th>\n",
       "      <th>bedrooms</th>\n",
       "      <th>beds</th>\n",
       "      <th>availability_365</th>\n",
       "      <th>number_of_reviews</th>\n",
       "      <th>instant_bookable</th>\n",
       "      <th>reviews_per_month</th>\n",
       "      <th>days_host</th>\n",
       "      <th>days_reviews</th>\n",
       "      <th>...</th>\n",
       "      <th>property_type_Room in boutique hotel</th>\n",
       "      <th>property_type_Tiny house</th>\n",
       "      <th>host_response_rate_cat_low</th>\n",
       "      <th>host_response_rate_cat_medium</th>\n",
       "      <th>host_response_rate_cat_high</th>\n",
       "      <th>host_response_rate_cat_100%</th>\n",
       "      <th>host_response_time_a few days or more</th>\n",
       "      <th>host_response_time_within a day</th>\n",
       "      <th>host_response_time_within a few hours</th>\n",
       "      <th>host_response_time_within an hour</th>\n",
       "    </tr>\n",
       "  </thead>\n",
       "  <tbody>\n",
       "    <tr>\n",
       "      <th>0</th>\n",
       "      <td>False</td>\n",
       "      <td>4</td>\n",
       "      <td>2.0</td>\n",
       "      <td>2.0</td>\n",
       "      <td>364</td>\n",
       "      <td>1</td>\n",
       "      <td>True</td>\n",
       "      <td>0.04</td>\n",
       "      <td>4541.0</td>\n",
       "      <td>0.0</td>\n",
       "      <td>...</td>\n",
       "      <td>0</td>\n",
       "      <td>0</td>\n",
       "      <td>1</td>\n",
       "      <td>0</td>\n",
       "      <td>0</td>\n",
       "      <td>0</td>\n",
       "      <td>1</td>\n",
       "      <td>0</td>\n",
       "      <td>0</td>\n",
       "      <td>0</td>\n",
       "    </tr>\n",
       "    <tr>\n",
       "      <th>1</th>\n",
       "      <td>False</td>\n",
       "      <td>2</td>\n",
       "      <td>0.0</td>\n",
       "      <td>1.0</td>\n",
       "      <td>365</td>\n",
       "      <td>9</td>\n",
       "      <td>False</td>\n",
       "      <td>0.18</td>\n",
       "      <td>4505.0</td>\n",
       "      <td>1031.0</td>\n",
       "      <td>...</td>\n",
       "      <td>0</td>\n",
       "      <td>0</td>\n",
       "      <td>0</td>\n",
       "      <td>0</td>\n",
       "      <td>0</td>\n",
       "      <td>0</td>\n",
       "      <td>0</td>\n",
       "      <td>0</td>\n",
       "      <td>0</td>\n",
       "      <td>0</td>\n",
       "    </tr>\n",
       "    <tr>\n",
       "      <th>2</th>\n",
       "      <td>False</td>\n",
       "      <td>2</td>\n",
       "      <td>0.0</td>\n",
       "      <td>1.0</td>\n",
       "      <td>90</td>\n",
       "      <td>232</td>\n",
       "      <td>True</td>\n",
       "      <td>1.64</td>\n",
       "      <td>4381.0</td>\n",
       "      <td>4204.0</td>\n",
       "      <td>...</td>\n",
       "      <td>0</td>\n",
       "      <td>0</td>\n",
       "      <td>0</td>\n",
       "      <td>0</td>\n",
       "      <td>1</td>\n",
       "      <td>0</td>\n",
       "      <td>0</td>\n",
       "      <td>0</td>\n",
       "      <td>0</td>\n",
       "      <td>1</td>\n",
       "    </tr>\n",
       "    <tr>\n",
       "      <th>3</th>\n",
       "      <td>True</td>\n",
       "      <td>4</td>\n",
       "      <td>2.0</td>\n",
       "      <td>2.0</td>\n",
       "      <td>362</td>\n",
       "      <td>271</td>\n",
       "      <td>False</td>\n",
       "      <td>2.26</td>\n",
       "      <td>4551.0</td>\n",
       "      <td>3568.0</td>\n",
       "      <td>...</td>\n",
       "      <td>0</td>\n",
       "      <td>0</td>\n",
       "      <td>0</td>\n",
       "      <td>0</td>\n",
       "      <td>0</td>\n",
       "      <td>1</td>\n",
       "      <td>0</td>\n",
       "      <td>0</td>\n",
       "      <td>0</td>\n",
       "      <td>1</td>\n",
       "    </tr>\n",
       "    <tr>\n",
       "      <th>4</th>\n",
       "      <td>False</td>\n",
       "      <td>2</td>\n",
       "      <td>1.0</td>\n",
       "      <td>1.0</td>\n",
       "      <td>365</td>\n",
       "      <td>6</td>\n",
       "      <td>False</td>\n",
       "      <td>0.05</td>\n",
       "      <td>4258.0</td>\n",
       "      <td>1953.0</td>\n",
       "      <td>...</td>\n",
       "      <td>0</td>\n",
       "      <td>0</td>\n",
       "      <td>0</td>\n",
       "      <td>0</td>\n",
       "      <td>0</td>\n",
       "      <td>0</td>\n",
       "      <td>0</td>\n",
       "      <td>0</td>\n",
       "      <td>0</td>\n",
       "      <td>0</td>\n",
       "    </tr>\n",
       "  </tbody>\n",
       "</table>\n",
       "<p>5 rows × 66 columns</p>\n",
       "</div>"
      ],
      "text/plain": [
       "   host_is_superhost  accommodates  bedrooms  beds  availability_365  \\\n",
       "0              False             4       2.0   2.0               364   \n",
       "1              False             2       0.0   1.0               365   \n",
       "2              False             2       0.0   1.0                90   \n",
       "3               True             4       2.0   2.0               362   \n",
       "4              False             2       1.0   1.0               365   \n",
       "\n",
       "   number_of_reviews  instant_bookable  reviews_per_month  days_host  \\\n",
       "0                  1              True               0.04     4541.0   \n",
       "1                  9             False               0.18     4505.0   \n",
       "2                232              True               1.64     4381.0   \n",
       "3                271             False               2.26     4551.0   \n",
       "4                  6             False               0.05     4258.0   \n",
       "\n",
       "   days_reviews  ...  property_type_Room in boutique hotel  \\\n",
       "0           0.0  ...                                     0   \n",
       "1        1031.0  ...                                     0   \n",
       "2        4204.0  ...                                     0   \n",
       "3        3568.0  ...                                     0   \n",
       "4        1953.0  ...                                     0   \n",
       "\n",
       "  property_type_Tiny house  host_response_rate_cat_low  \\\n",
       "0                        0                           1   \n",
       "1                        0                           0   \n",
       "2                        0                           0   \n",
       "3                        0                           0   \n",
       "4                        0                           0   \n",
       "\n",
       "   host_response_rate_cat_medium  host_response_rate_cat_high  \\\n",
       "0                              0                            0   \n",
       "1                              0                            0   \n",
       "2                              0                            1   \n",
       "3                              0                            0   \n",
       "4                              0                            0   \n",
       "\n",
       "   host_response_rate_cat_100%  host_response_time_a few days or more  \\\n",
       "0                            0                                      1   \n",
       "1                            0                                      0   \n",
       "2                            0                                      0   \n",
       "3                            1                                      0   \n",
       "4                            0                                      0   \n",
       "\n",
       "   host_response_time_within a day  host_response_time_within a few hours  \\\n",
       "0                                0                                      0   \n",
       "1                                0                                      0   \n",
       "2                                0                                      0   \n",
       "3                                0                                      0   \n",
       "4                                0                                      0   \n",
       "\n",
       "   host_response_time_within an hour  \n",
       "0                                  0  \n",
       "1                                  0  \n",
       "2                                  1  \n",
       "3                                  1  \n",
       "4                                  0  \n",
       "\n",
       "[5 rows x 66 columns]"
      ]
     },
     "execution_count": 7,
     "metadata": {},
     "output_type": "execute_result"
    }
   ],
   "source": [
    "X_price.head()"
   ]
  },
  {
   "cell_type": "markdown",
   "metadata": {},
   "source": [
    "### Load  train_test_split  /  r2_score  /  mean_squared_error"
   ]
  },
  {
   "cell_type": "code",
   "execution_count": 8,
   "metadata": {},
   "outputs": [],
   "source": [
    "from sklearn.model_selection import train_test_split\n",
    "from sklearn.metrics import r2_score, mean_squared_error     # From regressions in Intro to ML"
   ]
  },
  {
   "cell_type": "markdown",
   "metadata": {},
   "source": [
    "### Split the Price dataset into training and test sets"
   ]
  },
  {
   "cell_type": "code",
   "execution_count": 9,
   "metadata": {},
   "outputs": [],
   "source": [
    "X_price_train, X_price_test, y_price_train, y_price_test = train_test_split(X_price, y_price, test_size=.3, random_state=42)"
   ]
  },
  {
   "cell_type": "code",
   "execution_count": 10,
   "metadata": {},
   "outputs": [],
   "source": [
    "X_review_train, X_review_test, y_review_train, y_review_test = train_test_split(X_review, y_review, test_size=.3, random_state=42)"
   ]
  },
  {
   "cell_type": "markdown",
   "metadata": {},
   "source": [
    "### Load Cross Validate / Create display_scores Function"
   ]
  },
  {
   "cell_type": "code",
   "execution_count": 11,
   "metadata": {},
   "outputs": [],
   "source": [
    "from sklearn.model_selection import cross_validate\n",
    "\n",
    "def display_scores(scores):\n",
    "    print(\"Scores:\", scores)\n",
    "    print(\"Mean:\", scores.mean())\n",
    "    print(\"Standard deviation:\", scores.std())"
   ]
  },
  {
   "cell_type": "markdown",
   "metadata": {},
   "source": [
    "***\n",
    "<a name=\"modeling\"></a>\n",
    "## Modeling\n",
    "In this section, the data prepared in the Data Preparation section above will be used to evaluate various machine learning models to identify the optimal algorithm and hyperparameters for our data and business questions.\n",
    "\n",
    "[Back to Top](#top)"
   ]
  },
  {
   "cell_type": "markdown",
   "metadata": {},
   "source": [
    "***\n",
    "<a name=\"lasso_price\"></a>\n",
    "### Lasso Model - Price\n",
    "#### Instantiate the Lasso model\n",
    "\n",
    "Evaluating the Lasso regression first because there appears to be only a few features that are closely correlated to the price. Lasso will also further identify features that are not useful for us to use in a linear regression model.\n",
    "\n",
    "[Back to Top](#top)"
   ]
  },
  {
   "cell_type": "code",
   "execution_count": 12,
   "metadata": {
    "scrolled": false
   },
   "outputs": [
    {
     "data": {
      "text/plain": [
       "Lasso(alpha=0.5, copy_X=True, fit_intercept=True, max_iter=1000,\n",
       "      normalize=False, positive=False, precompute=False, random_state=None,\n",
       "      selection='cyclic', tol=0.0001, warm_start=False)"
      ]
     },
     "execution_count": 12,
     "metadata": {},
     "output_type": "execute_result"
    }
   ],
   "source": [
    "# CREDIT: Machine Learning with Python Cookbook by Chris Albon Section 13.4 pages 229-232\n",
    "from sklearn.linear_model import Lasso\n",
    "from sklearn.preprocessing import StandardScaler\n",
    "\n",
    "# Standardize features with StandardScaler\n",
    "scaler = StandardScaler()\n",
    "X_price_train_scaler = scaler.fit_transform(X_price_train)\n",
    "\n",
    "# Instantiate the Lasso Model\n",
    "lasso_reg = Lasso(alpha=0.5)     # alpha 0.5 used as a neutral starting point\n",
    "\n",
    "# Fit the Lasso Model to the training data\n",
    "lasso_reg.fit(X_price_train_scaler, y_price_train)"
   ]
  },
  {
   "cell_type": "markdown",
   "metadata": {},
   "source": [
    "#### Predict Using the Lasso Model"
   ]
  },
  {
   "cell_type": "code",
   "execution_count": 13,
   "metadata": {},
   "outputs": [
    {
     "data": {
      "text/plain": [
       "29.92453886496501"
      ]
     },
     "execution_count": 13,
     "metadata": {},
     "output_type": "execute_result"
    }
   ],
   "source": [
    "# Lasso model prediction\n",
    "lasso_pred = lasso_reg.predict(X_price_train_scaler)\n",
    "lasso_mse = mean_squared_error(y_price_train, lasso_pred)\n",
    "lasso_rmse = np.sqrt(lasso_mse)\n",
    "lasso_rmse"
   ]
  },
  {
   "cell_type": "markdown",
   "metadata": {},
   "source": [
    "#### Score the Lasso Model Using Cross Validate"
   ]
  },
  {
   "cell_type": "code",
   "execution_count": 14,
   "metadata": {},
   "outputs": [],
   "source": [
    "lasso_scores = cross_validate(lasso_reg, X_price_train_scaler, y_price_train,\n",
    "                                scoring=('r2', 'neg_mean_squared_error'), cv=10)"
   ]
  },
  {
   "cell_type": "code",
   "execution_count": 15,
   "metadata": {},
   "outputs": [
    {
     "name": "stdout",
     "output_type": "stream",
     "text": [
      "Scores: [29.42932108 29.864517   30.21113438 29.68977764 30.6502791  30.54199899\n",
      " 29.79619605 30.43810993 29.55316623 29.48298243]\n",
      "Mean: 29.96574828365513\n",
      "Standard deviation: 0.43476242605445076\n"
     ]
    }
   ],
   "source": [
    "# View the RMSE of the Lasso Cross Validate scores\n",
    "lasso_rmse_scores = np.sqrt(-lasso_scores['test_neg_mean_squared_error'])\n",
    "display_scores(lasso_rmse_scores)"
   ]
  },
  {
   "cell_type": "code",
   "execution_count": 16,
   "metadata": {
    "scrolled": false
   },
   "outputs": [
    {
     "name": "stdout",
     "output_type": "stream",
     "text": [
      "Scores: [0.39883676 0.43452339 0.40067551 0.41019678 0.42085723 0.39937936\n",
      " 0.42093466 0.41712125 0.41452147 0.41990542]\n",
      "Mean: 0.4136951832730332\n",
      "Standard deviation: 0.01093605612485655\n"
     ]
    }
   ],
   "source": [
    "# View the r-squared of the Lasso Cross Validate scores\n",
    "display_scores(lasso_scores['test_r2'])"
   ]
  },
  {
   "cell_type": "markdown",
   "metadata": {},
   "source": [
    "#### Grid Search - Lasso Model"
   ]
  },
  {
   "cell_type": "code",
   "execution_count": 17,
   "metadata": {},
   "outputs": [
    {
     "data": {
      "text/plain": [
       "\"The best cross-validated r-squared score is 0.41987864307951633 on config {'alpha': 0.06}.\""
      ]
     },
     "execution_count": 17,
     "metadata": {},
     "output_type": "execute_result"
    }
   ],
   "source": [
    "from numpy import arange\n",
    "from sklearn.model_selection import GridSearchCV\n",
    "\n",
    "# Instantiate the Lasso Model\n",
    "lasso_reg = Lasso()\n",
    "\n",
    "# Define grid\n",
    "lasso_grid = dict()\n",
    "lasso_grid['alpha'] = arange(0, 1, 0.01)\n",
    "\n",
    "# Define grid search\n",
    "lasso_gs = GridSearchCV(lasso_reg, lasso_grid, scoring=('r2', 'neg_mean_squared_error'), refit='r2', cv=10, n_jobs=-1)\n",
    "\n",
    "# Perform grid search\n",
    "lasso_gs_results = lasso_gs.fit(X_price_train_scaler, y_price_train)\n",
    "\n",
    "'The best cross-validated r-squared score is {} on config {}.'.format(lasso_gs_results.best_score_, lasso_gs_results.best_params_)"
   ]
  },
  {
   "cell_type": "markdown",
   "metadata": {},
   "source": [
    "***\n",
    "<a name=\"lasso_reviews\"></a>\n",
    "### Lasso Model - Reviews\n",
    "\n",
    "Using the Lasso regression to evaluate the review_scores_rating_cat column that was created from the review_scores_ratings column of the original data. The Lasso regression was the best evaluated model for predicting the price.\n",
    "\n",
    "[Back to Top](#top)"
   ]
  },
  {
   "cell_type": "markdown",
   "metadata": {},
   "source": [
    "### Split the Review dataset into training and test sets"
   ]
  },
  {
   "cell_type": "code",
   "execution_count": 18,
   "metadata": {},
   "outputs": [],
   "source": [
    "X_review_train, X_review_test, y_review_train, y_review_test = train_test_split(X_review, y_review, test_size=.3, random_state=42)"
   ]
  },
  {
   "cell_type": "code",
   "execution_count": 19,
   "metadata": {},
   "outputs": [
    {
     "data": {
      "text/plain": [
       "4943     4\n",
       "38233    4\n",
       "48507    3\n",
       "3103     5\n",
       "15254    4\n",
       "Name: review_scores_rating_cat, dtype: category\n",
       "Categories (5, int64): [1 < 2 < 3 < 4 < 5]"
      ]
     },
     "execution_count": 19,
     "metadata": {},
     "output_type": "execute_result"
    }
   ],
   "source": [
    "y_review_train.head()"
   ]
  },
  {
   "cell_type": "markdown",
   "metadata": {},
   "source": [
    "#### Instantiate the Lasso model"
   ]
  },
  {
   "cell_type": "code",
   "execution_count": 20,
   "metadata": {
    "scrolled": false
   },
   "outputs": [
    {
     "data": {
      "text/plain": [
       "Lasso(alpha=0.5, copy_X=True, fit_intercept=True, max_iter=1000,\n",
       "      normalize=False, positive=False, precompute=False, random_state=None,\n",
       "      selection='cyclic', tol=0.0001, warm_start=False)"
      ]
     },
     "execution_count": 20,
     "metadata": {},
     "output_type": "execute_result"
    }
   ],
   "source": [
    "# CREDIT: Machine Learning with Python Cookbook by Chris Albon Section 13.4 pages 229-232\n",
    "from sklearn.linear_model import Lasso\n",
    "from sklearn.preprocessing import StandardScaler\n",
    "\n",
    "# Standardize features with StandardScaler\n",
    "scaler = StandardScaler()\n",
    "X_review_train_scaler = scaler.fit_transform(X_review_train)\n",
    "\n",
    "# Instantiate the Lasso Model\n",
    "lasso_reg = Lasso(alpha=0.5)     # alpha 0.5 used as a neutral starting point\n",
    "\n",
    "# Fit the Lasso Model to the training data\n",
    "lasso_reg.fit(X_review_train, y_review_train)"
   ]
  },
  {
   "cell_type": "markdown",
   "metadata": {},
   "source": [
    "#### Predict Using the Lasso Model"
   ]
  },
  {
   "cell_type": "code",
   "execution_count": 21,
   "metadata": {},
   "outputs": [
    {
     "data": {
      "text/plain": [
       "1.0909132561568367"
      ]
     },
     "execution_count": 21,
     "metadata": {},
     "output_type": "execute_result"
    }
   ],
   "source": [
    "# Lasso model prediction\n",
    "lasso_pred = lasso_reg.predict(X_review_train)\n",
    "lasso_mse = mean_squared_error(y_review_train, lasso_pred)\n",
    "lasso_rmse = np.sqrt(lasso_mse)\n",
    "lasso_rmse"
   ]
  },
  {
   "cell_type": "markdown",
   "metadata": {},
   "source": [
    "#### Score the Lasso Model Using Cross Validate"
   ]
  },
  {
   "cell_type": "code",
   "execution_count": 22,
   "metadata": {},
   "outputs": [],
   "source": [
    "lasso_scores = cross_validate(lasso_reg, X_review_train, y_review_train,\n",
    "                                scoring=('r2', 'neg_mean_squared_error'), cv=10)"
   ]
  },
  {
   "cell_type": "code",
   "execution_count": 23,
   "metadata": {},
   "outputs": [
    {
     "name": "stdout",
     "output_type": "stream",
     "text": [
      "Scores: [1.11494928 1.07312716 1.08433503 1.10383405 1.11820573 1.06872257\n",
      " 1.10081671 1.07135255 1.08156619 1.09353216]\n",
      "Mean: 1.0910441426066817\n",
      "Standard deviation: 0.017077340269324146\n"
     ]
    }
   ],
   "source": [
    "# View the RMSE of the Lasso Cross Validate scores\n",
    "lasso_rmse_scores = np.sqrt(-lasso_scores['test_neg_mean_squared_error'])\n",
    "display_scores(lasso_rmse_scores)"
   ]
  },
  {
   "cell_type": "code",
   "execution_count": 24,
   "metadata": {
    "scrolled": false
   },
   "outputs": [
    {
     "name": "stdout",
     "output_type": "stream",
     "text": [
      "Scores: [0.09748207 0.1010057  0.12067545 0.09050426 0.10880587 0.09847846\n",
      " 0.11576563 0.10094793 0.08864977 0.11123925]\n",
      "Mean: 0.10335543792037034\n",
      "Standard deviation: 0.009984315009265424\n"
     ]
    }
   ],
   "source": [
    "# View the r-squared of the Lasso Cross Validate scores\n",
    "display_scores(lasso_scores['test_r2'])"
   ]
  },
  {
   "cell_type": "markdown",
   "metadata": {},
   "source": [
    "#### Grid Search - Lasso Model"
   ]
  },
  {
   "cell_type": "code",
   "execution_count": 25,
   "metadata": {},
   "outputs": [
    {
     "name": "stderr",
     "output_type": "stream",
     "text": [
      "C:\\Users\\Leone\\anaconda3\\lib\\site-packages\\sklearn\\model_selection\\_search.py:739: UserWarning: With alpha=0, this algorithm does not converge well. You are advised to use the LinearRegression estimator\n",
      "  self.best_estimator_.fit(X, y, **fit_params)\n",
      "C:\\Users\\Leone\\anaconda3\\lib\\site-packages\\sklearn\\linear_model\\_coordinate_descent.py:476: UserWarning: Coordinate descent with no regularization may lead to unexpected results and is discouraged.\n",
      "  positive)\n",
      "C:\\Users\\Leone\\anaconda3\\lib\\site-packages\\sklearn\\linear_model\\_coordinate_descent.py:476: ConvergenceWarning: Objective did not converge. You might want to increase the number of iterations. Duality gap: 16999.247575153106, tolerance: 4.091305425324616\n",
      "  positive)\n"
     ]
    },
    {
     "data": {
      "text/plain": [
       "\"The best cross-validated r-squared score is 0.16428012064205988 on config {'alpha': 0.0}.\""
      ]
     },
     "execution_count": 25,
     "metadata": {},
     "output_type": "execute_result"
    }
   ],
   "source": [
    "from numpy import arange\n",
    "from sklearn.model_selection import GridSearchCV\n",
    "\n",
    "# Instantiate the Lasso Model\n",
    "lasso_reg = Lasso()\n",
    "\n",
    "# Define grid\n",
    "lasso_grid = dict()\n",
    "lasso_grid['alpha'] = arange(0, 1, 0.01)\n",
    "\n",
    "# Define grid search\n",
    "lasso_gs = GridSearchCV(lasso_reg, lasso_grid, scoring=('r2', 'neg_mean_squared_error'), refit='r2', cv=10, n_jobs=-1)\n",
    "\n",
    "# Perform grid search\n",
    "lasso_gs_results = lasso_gs.fit(X_review_train_scaler, y_review_train)\n",
    "\n",
    "'The best cross-validated r-squared score is {} on config {}.'.format(lasso_gs_results.best_score_, lasso_gs_results.best_params_)"
   ]
  },
  {
   "cell_type": "markdown",
   "metadata": {},
   "source": [
    "***\n",
    "<a name=\"other_models\"></a>\n",
    "## Other Models Explored\n",
    "Models that were explored but not used follow below. These models had evaluation scores that were lower than the Lasso Model and therefore were not used.\n",
    "\n",
    "[Back to Top](#top)"
   ]
  },
  {
   "cell_type": "markdown",
   "metadata": {},
   "source": [
    "***\n",
    "## Elastic Net - Price\n",
    "### Instantiate the Elastic Net model\n",
    "\n",
    "Using Elastic Net regression just as Lasso was used in order to narrow down features as to only use those that are most important to price."
   ]
  },
  {
   "cell_type": "code",
   "execution_count": 12,
   "metadata": {},
   "outputs": [
    {
     "data": {
      "text/plain": [
       "ElasticNet(alpha=1.0, copy_X=True, fit_intercept=True, l1_ratio=0.5,\n",
       "           max_iter=1000, normalize=False, positive=False, precompute=False,\n",
       "           random_state=None, selection='cyclic', tol=0.0001, warm_start=False)"
      ]
     },
     "execution_count": 12,
     "metadata": {},
     "output_type": "execute_result"
    }
   ],
   "source": [
    "# CREDIT: https://machinelearningmastery.com/elastic-net-regression-in-python/\n",
    "from sklearn.linear_model import ElasticNet\n",
    "from sklearn.preprocessing import StandardScaler\n",
    "\n",
    "# Standardize features with StandardScaler\n",
    "scaler = StandardScaler()\n",
    "X_price_train_scaler = scaler.fit_transform(X_price_train)\n",
    "\n",
    "# Instantiate the Elastic Net Model\n",
    "elasticnet_reg = ElasticNet(alpha=1.0, l1_ratio=0.5)     # alpha 1.0 and l1_ratio 0.5 used as a balanced start point\n",
    "\n",
    "# Fit the Elastic Net Model to the training data\n",
    "elasticnet_reg.fit(X_price_train_scaler, y_price_train)"
   ]
  },
  {
   "cell_type": "code",
   "execution_count": 13,
   "metadata": {},
   "outputs": [
    {
     "data": {
      "text/plain": [
       "30.815380768480807"
      ]
     },
     "execution_count": 13,
     "metadata": {},
     "output_type": "execute_result"
    }
   ],
   "source": [
    "elasticnet_pred = elasticnet_reg.predict(X_price_train_scaler)\n",
    "elasticnet_mse = mean_squared_error(y_price_train, elasticnet_pred)\n",
    "elasticnet_rmse = np.sqrt(elasticnet_mse)\n",
    "elasticnet_rmse"
   ]
  },
  {
   "cell_type": "markdown",
   "metadata": {},
   "source": [
    "#### Score the Elastic Net Model Using Cross Validate"
   ]
  },
  {
   "cell_type": "code",
   "execution_count": 14,
   "metadata": {},
   "outputs": [],
   "source": [
    "elasticnet_scores = cross_validate(elasticnet_reg, X_price_train_scaler, y_price_train,\n",
    "                                scoring=('r2', 'neg_mean_squared_error'), cv=10)"
   ]
  },
  {
   "cell_type": "code",
   "execution_count": 15,
   "metadata": {},
   "outputs": [
    {
     "name": "stdout",
     "output_type": "stream",
     "text": [
      "Scores: [30.15921428 30.84610672 30.95601773 30.62913986 31.69672728 31.34965636\n",
      " 30.70321235 31.40696709 30.28966365 30.37693709]\n",
      "Mean: 30.84136423977076\n",
      "Standard deviation: 0.487093536311385\n"
     ]
    }
   ],
   "source": [
    "# View the RMSE of the Elastic Net Cross Validate scores\n",
    "elasticnet_rmse_scores = np.sqrt(-elasticnet_scores['test_neg_mean_squared_error'])\n",
    "display_scores(elasticnet_rmse_scores)"
   ]
  },
  {
   "cell_type": "code",
   "execution_count": 16,
   "metadata": {
    "scrolled": true
   },
   "outputs": [
    {
     "name": "stdout",
     "output_type": "stream",
     "text": [
      "Scores: [0.3686474  0.39674023 0.37075738 0.3722845  0.38063649 0.36719354\n",
      " 0.3851438  0.37942417 0.38497631 0.38419396]\n",
      "Mean: 0.378999776729124\n",
      "Standard deviation: 0.008818282898720331\n"
     ]
    }
   ],
   "source": [
    "# View the r-squared of the Lasso Cross Validate scores\n",
    "display_scores(elasticnet_scores['test_r2'])"
   ]
  },
  {
   "cell_type": "markdown",
   "metadata": {},
   "source": [
    "#### Grid Search - Elastic Net Model"
   ]
  },
  {
   "cell_type": "code",
   "execution_count": 17,
   "metadata": {},
   "outputs": [
    {
     "data": {
      "text/plain": [
       "'The best cross-validated r-squared score is 0.3791916858735053 on config {}.'"
      ]
     },
     "execution_count": 17,
     "metadata": {},
     "output_type": "execute_result"
    }
   ],
   "source": [
    "from numpy import arange\n",
    "from sklearn.model_selection import GridSearchCV\n",
    "\n",
    "# Instantiate the Lasso Model\n",
    "elasticnet_reg = ElasticNet()\n",
    "\n",
    "# Define grid\n",
    "elasticnet_grid = dict()\n",
    "# elasticnet_grid['alpha'] = [1e-5, 1e-4, 1e-3, 1e-2, 1e-1, 0.0, 1.0, 10.0, 100.0]\n",
    "# elasticnet_grid['l1_ratio'] = arange(0, 1, 0.01)\n",
    "\n",
    "# Define grid search\n",
    "elasticnet_gs = GridSearchCV(elasticnet_reg, elasticnet_grid, scoring=('r2', 'neg_mean_squared_error'), refit='r2', cv=5, n_jobs=-1)\n",
    "\n",
    "# Perform grid search\n",
    "elasticnet_gs_results = elasticnet_gs.fit(X_price_train_scaler, y_price_train)\n",
    "\n",
    "'The best cross-validated r-squared score is {} on config {}.'.format(elasticnet_gs_results.best_score_, elasticnet_gs_results.best_params_)"
   ]
  },
  {
   "cell_type": "markdown",
   "metadata": {},
   "source": [
    "#### Predict on the Test Data Using the Elastic Net Model with alpha=0.01 and l1_ratio=0.69"
   ]
  },
  {
   "cell_type": "code",
   "execution_count": 18,
   "metadata": {},
   "outputs": [
    {
     "data": {
      "text/plain": [
       "29.803743187985308"
      ]
     },
     "execution_count": 18,
     "metadata": {},
     "output_type": "execute_result"
    }
   ],
   "source": [
    "# Standardize features in Test Data with StandardScaler\n",
    "X_price_test_scaler = scaler.fit_transform(X_price_test)\n",
    "\n",
    "# Instantiate the Lasso Model  \n",
    "elasticnet_reg_TEST = ElasticNet(alpha=0.01, l1_ratio=0.69)     # alpha 0.01 l1_ratio 0.69 identified in grid search\n",
    "\n",
    "# Fit the Lasso Model to the training data\n",
    "elasticnet_reg_TEST.fit(X_price_train_scaler, y_price_train)\n",
    "\n",
    "# Lasso model prediction - TEST DATA\n",
    "elasticnet_pred_TEST = elasticnet_reg_TEST.predict(X_price_test_scaler)\n",
    "elasticnet_mse_TEST = mean_squared_error(y_price_test, elasticnet_pred_TEST)\n",
    "elasticnet_rmse_TEST = np.sqrt(elasticnet_mse_TEST)\n",
    "elasticnet_rmse_TEST"
   ]
  },
  {
   "cell_type": "markdown",
   "metadata": {},
   "source": [
    "#### Find the R-Squared Score for the Test Data Using the Elastic Net Model with alpha=0.01 and l1_ratio=0.69"
   ]
  },
  {
   "cell_type": "code",
   "execution_count": 19,
   "metadata": {
    "scrolled": false
   },
   "outputs": [
    {
     "data": {
      "text/plain": [
       "'The r-squared score for the Lasso Model on the Test Data was 0.40630701777146994 on 13201 values.'"
      ]
     },
     "execution_count": 19,
     "metadata": {},
     "output_type": "execute_result"
    }
   ],
   "source": [
    "'The r-squared score for the Lasso Model on the Test Data was {} on {} values.'.format(r2_score(\n",
    "    y_price_test, elasticnet_pred_TEST), len(y_price_test))"
   ]
  },
  {
   "cell_type": "markdown",
   "metadata": {},
   "source": [
    "#### Further Exploration of the Coefficients of the Elastic Net Model"
   ]
  },
  {
   "cell_type": "code",
   "execution_count": 20,
   "metadata": {
    "scrolled": false
   },
   "outputs": [
    {
     "data": {
      "text/html": [
       "<div>\n",
       "<style scoped>\n",
       "    .dataframe tbody tr th:only-of-type {\n",
       "        vertical-align: middle;\n",
       "    }\n",
       "\n",
       "    .dataframe tbody tr th {\n",
       "        vertical-align: top;\n",
       "    }\n",
       "\n",
       "    .dataframe thead th {\n",
       "        text-align: right;\n",
       "    }\n",
       "</style>\n",
       "<table border=\"1\" class=\"dataframe\">\n",
       "  <thead>\n",
       "    <tr style=\"text-align: right;\">\n",
       "      <th></th>\n",
       "      <th>est_int</th>\n",
       "      <th>coefs</th>\n",
       "      <th>abs_coefs</th>\n",
       "    </tr>\n",
       "  </thead>\n",
       "  <tbody>\n",
       "    <tr>\n",
       "      <th>2</th>\n",
       "      <td>bedrooms</td>\n",
       "      <td>13.399903</td>\n",
       "      <td>13.399903</td>\n",
       "    </tr>\n",
       "    <tr>\n",
       "      <th>1</th>\n",
       "      <td>accommodates</td>\n",
       "      <td>8.923910</td>\n",
       "      <td>8.923910</td>\n",
       "    </tr>\n",
       "    <tr>\n",
       "      <th>4</th>\n",
       "      <td>availability_365</td>\n",
       "      <td>6.795614</td>\n",
       "      <td>6.795614</td>\n",
       "    </tr>\n",
       "    <tr>\n",
       "      <th>17</th>\n",
       "      <td>neighbourhood_cleansed_Hôtel-de-Ville</td>\n",
       "      <td>3.729992</td>\n",
       "      <td>3.729992</td>\n",
       "    </tr>\n",
       "    <tr>\n",
       "      <th>7</th>\n",
       "      <td>reviews_per_month</td>\n",
       "      <td>-3.581196</td>\n",
       "      <td>3.581196</td>\n",
       "    </tr>\n",
       "    <tr>\n",
       "      <th>20</th>\n",
       "      <td>neighbourhood_cleansed_Ménilmontant</td>\n",
       "      <td>-3.528677</td>\n",
       "      <td>3.528677</td>\n",
       "    </tr>\n",
       "    <tr>\n",
       "      <th>0</th>\n",
       "      <td>host_is_superhost</td>\n",
       "      <td>3.488747</td>\n",
       "      <td>3.488747</td>\n",
       "    </tr>\n",
       "    <tr>\n",
       "      <th>13</th>\n",
       "      <td>neighbourhood_cleansed_Buttes-Chaumont</td>\n",
       "      <td>-3.385774</td>\n",
       "      <td>3.385774</td>\n",
       "    </tr>\n",
       "    <tr>\n",
       "      <th>28</th>\n",
       "      <td>neighbourhood_cleansed_Temple</td>\n",
       "      <td>3.255755</td>\n",
       "      <td>3.255755</td>\n",
       "    </tr>\n",
       "    <tr>\n",
       "      <th>19</th>\n",
       "      <td>neighbourhood_cleansed_Luxembourg</td>\n",
       "      <td>3.032290</td>\n",
       "      <td>3.032290</td>\n",
       "    </tr>\n",
       "    <tr>\n",
       "      <th>18</th>\n",
       "      <td>neighbourhood_cleansed_Louvre</td>\n",
       "      <td>2.700790</td>\n",
       "      <td>2.700790</td>\n",
       "    </tr>\n",
       "    <tr>\n",
       "      <th>23</th>\n",
       "      <td>neighbourhood_cleansed_Palais-Bourbon</td>\n",
       "      <td>2.631418</td>\n",
       "      <td>2.631418</td>\n",
       "    </tr>\n",
       "    <tr>\n",
       "      <th>30</th>\n",
       "      <td>neighbourhood_cleansed_Élysée</td>\n",
       "      <td>2.477954</td>\n",
       "      <td>2.477954</td>\n",
       "    </tr>\n",
       "    <tr>\n",
       "      <th>14</th>\n",
       "      <td>neighbourhood_cleansed_Buttes-Montmartre</td>\n",
       "      <td>-2.417973</td>\n",
       "      <td>2.417973</td>\n",
       "    </tr>\n",
       "    <tr>\n",
       "      <th>12</th>\n",
       "      <td>neighbourhood_cleansed_Bourse</td>\n",
       "      <td>2.170313</td>\n",
       "      <td>2.170313</td>\n",
       "    </tr>\n",
       "    <tr>\n",
       "      <th>25</th>\n",
       "      <td>neighbourhood_cleansed_Passy</td>\n",
       "      <td>2.161584</td>\n",
       "      <td>2.161584</td>\n",
       "    </tr>\n",
       "    <tr>\n",
       "      <th>48</th>\n",
       "      <td>property_type_Entire loft</td>\n",
       "      <td>1.871567</td>\n",
       "      <td>1.871567</td>\n",
       "    </tr>\n",
       "    <tr>\n",
       "      <th>24</th>\n",
       "      <td>neighbourhood_cleansed_Panthéon</td>\n",
       "      <td>1.714251</td>\n",
       "      <td>1.714251</td>\n",
       "    </tr>\n",
       "    <tr>\n",
       "      <th>5</th>\n",
       "      <td>number_of_reviews</td>\n",
       "      <td>1.514753</td>\n",
       "      <td>1.514753</td>\n",
       "    </tr>\n",
       "    <tr>\n",
       "      <th>16</th>\n",
       "      <td>neighbourhood_cleansed_Gobelins</td>\n",
       "      <td>-1.405211</td>\n",
       "      <td>1.405211</td>\n",
       "    </tr>\n",
       "    <tr>\n",
       "      <th>27</th>\n",
       "      <td>neighbourhood_cleansed_Reuilly</td>\n",
       "      <td>-1.389456</td>\n",
       "      <td>1.389456</td>\n",
       "    </tr>\n",
       "    <tr>\n",
       "      <th>22</th>\n",
       "      <td>neighbourhood_cleansed_Opéra</td>\n",
       "      <td>1.242522</td>\n",
       "      <td>1.242522</td>\n",
       "    </tr>\n",
       "    <tr>\n",
       "      <th>3</th>\n",
       "      <td>beds</td>\n",
       "      <td>1.242108</td>\n",
       "      <td>1.242108</td>\n",
       "    </tr>\n",
       "    <tr>\n",
       "      <th>59</th>\n",
       "      <td>host_response_rate_cat_medium</td>\n",
       "      <td>-1.192626</td>\n",
       "      <td>1.192626</td>\n",
       "    </tr>\n",
       "    <tr>\n",
       "      <th>21</th>\n",
       "      <td>neighbourhood_cleansed_Observatoire</td>\n",
       "      <td>-1.068623</td>\n",
       "      <td>1.068623</td>\n",
       "    </tr>\n",
       "    <tr>\n",
       "      <th>65</th>\n",
       "      <td>host_response_time_within an hour</td>\n",
       "      <td>-0.986413</td>\n",
       "      <td>0.986413</td>\n",
       "    </tr>\n",
       "    <tr>\n",
       "      <th>58</th>\n",
       "      <td>host_response_rate_cat_low</td>\n",
       "      <td>-0.977317</td>\n",
       "      <td>0.977317</td>\n",
       "    </tr>\n",
       "    <tr>\n",
       "      <th>29</th>\n",
       "      <td>neighbourhood_cleansed_Vaugirard</td>\n",
       "      <td>0.938976</td>\n",
       "      <td>0.938976</td>\n",
       "    </tr>\n",
       "    <tr>\n",
       "      <th>50</th>\n",
       "      <td>property_type_Entire serviced apartment</td>\n",
       "      <td>0.928793</td>\n",
       "      <td>0.928793</td>\n",
       "    </tr>\n",
       "    <tr>\n",
       "      <th>10</th>\n",
       "      <td>host_count</td>\n",
       "      <td>0.882980</td>\n",
       "      <td>0.882980</td>\n",
       "    </tr>\n",
       "    <tr>\n",
       "      <th>61</th>\n",
       "      <td>host_response_rate_cat_100%</td>\n",
       "      <td>-0.849273</td>\n",
       "      <td>0.849273</td>\n",
       "    </tr>\n",
       "    <tr>\n",
       "      <th>64</th>\n",
       "      <td>host_response_time_within a few hours</td>\n",
       "      <td>-0.815994</td>\n",
       "      <td>0.815994</td>\n",
       "    </tr>\n",
       "    <tr>\n",
       "      <th>26</th>\n",
       "      <td>neighbourhood_cleansed_Popincourt</td>\n",
       "      <td>-0.790500</td>\n",
       "      <td>0.790500</td>\n",
       "    </tr>\n",
       "    <tr>\n",
       "      <th>11</th>\n",
       "      <td>review_scores_rating_cat</td>\n",
       "      <td>0.640036</td>\n",
       "      <td>0.640036</td>\n",
       "    </tr>\n",
       "    <tr>\n",
       "      <th>60</th>\n",
       "      <td>host_response_rate_cat_high</td>\n",
       "      <td>-0.620454</td>\n",
       "      <td>0.620454</td>\n",
       "    </tr>\n",
       "    <tr>\n",
       "      <th>55</th>\n",
       "      <td>property_type_Room in aparthotel</td>\n",
       "      <td>0.548159</td>\n",
       "      <td>0.548159</td>\n",
       "    </tr>\n",
       "    <tr>\n",
       "      <th>57</th>\n",
       "      <td>property_type_Tiny house</td>\n",
       "      <td>-0.543494</td>\n",
       "      <td>0.543494</td>\n",
       "    </tr>\n",
       "    <tr>\n",
       "      <th>47</th>\n",
       "      <td>property_type_Entire house</td>\n",
       "      <td>0.407051</td>\n",
       "      <td>0.407051</td>\n",
       "    </tr>\n",
       "    <tr>\n",
       "      <th>15</th>\n",
       "      <td>neighbourhood_cleansed_Entrepôt</td>\n",
       "      <td>-0.375083</td>\n",
       "      <td>0.375083</td>\n",
       "    </tr>\n",
       "    <tr>\n",
       "      <th>43</th>\n",
       "      <td>property_type_Entire cottage</td>\n",
       "      <td>0.289952</td>\n",
       "      <td>0.289952</td>\n",
       "    </tr>\n",
       "    <tr>\n",
       "      <th>38</th>\n",
       "      <td>property_type_Entire apartment</td>\n",
       "      <td>-0.269290</td>\n",
       "      <td>0.269290</td>\n",
       "    </tr>\n",
       "    <tr>\n",
       "      <th>49</th>\n",
       "      <td>property_type_Entire place</td>\n",
       "      <td>-0.266756</td>\n",
       "      <td>0.266756</td>\n",
       "    </tr>\n",
       "    <tr>\n",
       "      <th>8</th>\n",
       "      <td>days_host</td>\n",
       "      <td>-0.261727</td>\n",
       "      <td>0.261727</td>\n",
       "    </tr>\n",
       "    <tr>\n",
       "      <th>44</th>\n",
       "      <td>property_type_Entire guest suite</td>\n",
       "      <td>-0.255527</td>\n",
       "      <td>0.255527</td>\n",
       "    </tr>\n",
       "    <tr>\n",
       "      <th>54</th>\n",
       "      <td>property_type_Island</td>\n",
       "      <td>0.253184</td>\n",
       "      <td>0.253184</td>\n",
       "    </tr>\n",
       "    <tr>\n",
       "      <th>40</th>\n",
       "      <td>property_type_Entire bungalow</td>\n",
       "      <td>-0.248896</td>\n",
       "      <td>0.248896</td>\n",
       "    </tr>\n",
       "    <tr>\n",
       "      <th>62</th>\n",
       "      <td>host_response_time_a few days or more</td>\n",
       "      <td>-0.237903</td>\n",
       "      <td>0.237903</td>\n",
       "    </tr>\n",
       "    <tr>\n",
       "      <th>33</th>\n",
       "      <td>property_type_Campsite</td>\n",
       "      <td>-0.226067</td>\n",
       "      <td>0.226067</td>\n",
       "    </tr>\n",
       "    <tr>\n",
       "      <th>6</th>\n",
       "      <td>instant_bookable</td>\n",
       "      <td>0.195198</td>\n",
       "      <td>0.195198</td>\n",
       "    </tr>\n",
       "    <tr>\n",
       "      <th>52</th>\n",
       "      <td>property_type_Entire villa</td>\n",
       "      <td>0.185181</td>\n",
       "      <td>0.185181</td>\n",
       "    </tr>\n",
       "    <tr>\n",
       "      <th>34</th>\n",
       "      <td>property_type_Casa particular</td>\n",
       "      <td>-0.171086</td>\n",
       "      <td>0.171086</td>\n",
       "    </tr>\n",
       "    <tr>\n",
       "      <th>53</th>\n",
       "      <td>property_type_Houseboat</td>\n",
       "      <td>-0.170113</td>\n",
       "      <td>0.170113</td>\n",
       "    </tr>\n",
       "    <tr>\n",
       "      <th>31</th>\n",
       "      <td>property_type_Boat</td>\n",
       "      <td>0.142865</td>\n",
       "      <td>0.142865</td>\n",
       "    </tr>\n",
       "    <tr>\n",
       "      <th>51</th>\n",
       "      <td>property_type_Entire townhouse</td>\n",
       "      <td>0.140400</td>\n",
       "      <td>0.140400</td>\n",
       "    </tr>\n",
       "    <tr>\n",
       "      <th>56</th>\n",
       "      <td>property_type_Room in boutique hotel</td>\n",
       "      <td>0.136691</td>\n",
       "      <td>0.136691</td>\n",
       "    </tr>\n",
       "  </tbody>\n",
       "</table>\n",
       "</div>"
      ],
      "text/plain": [
       "                                     est_int      coefs  abs_coefs\n",
       "2                                   bedrooms  13.399903  13.399903\n",
       "1                               accommodates   8.923910   8.923910\n",
       "4                           availability_365   6.795614   6.795614\n",
       "17     neighbourhood_cleansed_Hôtel-de-Ville   3.729992   3.729992\n",
       "7                          reviews_per_month  -3.581196   3.581196\n",
       "20       neighbourhood_cleansed_Ménilmontant  -3.528677   3.528677\n",
       "0                          host_is_superhost   3.488747   3.488747\n",
       "13    neighbourhood_cleansed_Buttes-Chaumont  -3.385774   3.385774\n",
       "28             neighbourhood_cleansed_Temple   3.255755   3.255755\n",
       "19         neighbourhood_cleansed_Luxembourg   3.032290   3.032290\n",
       "18             neighbourhood_cleansed_Louvre   2.700790   2.700790\n",
       "23     neighbourhood_cleansed_Palais-Bourbon   2.631418   2.631418\n",
       "30             neighbourhood_cleansed_Élysée   2.477954   2.477954\n",
       "14  neighbourhood_cleansed_Buttes-Montmartre  -2.417973   2.417973\n",
       "12             neighbourhood_cleansed_Bourse   2.170313   2.170313\n",
       "25              neighbourhood_cleansed_Passy   2.161584   2.161584\n",
       "48                 property_type_Entire loft   1.871567   1.871567\n",
       "24           neighbourhood_cleansed_Panthéon   1.714251   1.714251\n",
       "5                          number_of_reviews   1.514753   1.514753\n",
       "16           neighbourhood_cleansed_Gobelins  -1.405211   1.405211\n",
       "27            neighbourhood_cleansed_Reuilly  -1.389456   1.389456\n",
       "22              neighbourhood_cleansed_Opéra   1.242522   1.242522\n",
       "3                                       beds   1.242108   1.242108\n",
       "59             host_response_rate_cat_medium  -1.192626   1.192626\n",
       "21       neighbourhood_cleansed_Observatoire  -1.068623   1.068623\n",
       "65         host_response_time_within an hour  -0.986413   0.986413\n",
       "58                host_response_rate_cat_low  -0.977317   0.977317\n",
       "29          neighbourhood_cleansed_Vaugirard   0.938976   0.938976\n",
       "50   property_type_Entire serviced apartment   0.928793   0.928793\n",
       "10                                host_count   0.882980   0.882980\n",
       "61               host_response_rate_cat_100%  -0.849273   0.849273\n",
       "64     host_response_time_within a few hours  -0.815994   0.815994\n",
       "26         neighbourhood_cleansed_Popincourt  -0.790500   0.790500\n",
       "11                  review_scores_rating_cat   0.640036   0.640036\n",
       "60               host_response_rate_cat_high  -0.620454   0.620454\n",
       "55          property_type_Room in aparthotel   0.548159   0.548159\n",
       "57                  property_type_Tiny house  -0.543494   0.543494\n",
       "47                property_type_Entire house   0.407051   0.407051\n",
       "15           neighbourhood_cleansed_Entrepôt  -0.375083   0.375083\n",
       "43              property_type_Entire cottage   0.289952   0.289952\n",
       "38            property_type_Entire apartment  -0.269290   0.269290\n",
       "49                property_type_Entire place  -0.266756   0.266756\n",
       "8                                  days_host  -0.261727   0.261727\n",
       "44          property_type_Entire guest suite  -0.255527   0.255527\n",
       "54                      property_type_Island   0.253184   0.253184\n",
       "40             property_type_Entire bungalow  -0.248896   0.248896\n",
       "62     host_response_time_a few days or more  -0.237903   0.237903\n",
       "33                    property_type_Campsite  -0.226067   0.226067\n",
       "6                           instant_bookable   0.195198   0.195198\n",
       "52                property_type_Entire villa   0.185181   0.185181\n",
       "34             property_type_Casa particular  -0.171086   0.171086\n",
       "53                   property_type_Houseboat  -0.170113   0.170113\n",
       "31                        property_type_Boat   0.142865   0.142865\n",
       "51            property_type_Entire townhouse   0.140400   0.140400\n",
       "56      property_type_Room in boutique hotel   0.136691   0.136691"
      ]
     },
     "execution_count": 20,
     "metadata": {},
     "output_type": "execute_result"
    }
   ],
   "source": [
    "def coef_weights(coefficients, X_price_test_scaler):\n",
    "    '''\n",
    "    INPUT:\n",
    "    coefficients - the coefficients of the Lasso model \n",
    "    X_train - the training data, so the column names can be used\n",
    "    OUTPUT:\n",
    "    coefs_df - a dataframe holding the coefficient, estimate, and abs(estimate)\n",
    "    \n",
    "    Provides a dataframe that can be used to understand the most influential coefficients\n",
    "    in a linear model by providing the coefficient estimates along with the name of the \n",
    "    variable attached to the coefficient.\n",
    "    '''\n",
    "    coefs_df = pd.DataFrame()\n",
    "    coefs_df['est_int'] = X_price_test.columns\n",
    "    coefs_df['coefs'] = elasticnet_reg_TEST.coef_\n",
    "    coefs_df['abs_coefs'] = np.abs(elasticnet_reg_TEST.coef_)\n",
    "    coefs_df = coefs_df.sort_values('abs_coefs', ascending=False)\n",
    "    return coefs_df\n",
    "\n",
    "#Use the function\n",
    "coef_df = coef_weights(elasticnet_reg_TEST.coef_, X_price_test_scaler)\n",
    "\n",
    "#A quick look at the top results\n",
    "coef_df.head(55)"
   ]
  },
  {
   "cell_type": "markdown",
   "metadata": {},
   "source": [
    "#### The Elastic Net Model:\n",
    "\n",
    "- Produced the best r-squared score of 0.41936 and RMSE of 30.00158 using an alpha of 0.01 and l1_ratio of 0.69.\n",
    "- Returned correlation coefficients that very closely matches the Lasso Model with only insignificant differences."
   ]
  },
  {
   "cell_type": "markdown",
   "metadata": {},
   "source": [
    "***\n",
    "## Linear Model - Price\n",
    "Trying out linear regression to see how our previous results with lasso and elastic net compare."
   ]
  },
  {
   "cell_type": "markdown",
   "metadata": {},
   "source": [
    "### Create a New ml_prep Function for the Linear Regression\n",
    "In order to get the best results with the linear regression, features that our work to this point have determined have little to no importance to the price will be dropped. These features are:\n",
    "- 'property_type'\n",
    "- 'days_reviews'\n",
    "- 'instant_bookable'\n",
    "- 'number_of_reviews'\n",
    "- 'days_host'\n",
    "- 'host_count'"
   ]
  },
  {
   "cell_type": "code",
   "execution_count": 21,
   "metadata": {},
   "outputs": [],
   "source": [
    "def ml_prep2(listings):    \n",
    "    # Create dummy columns for all categorical variable columns and drop the original columns\n",
    "    cat_vars = ['neighbourhood_cleansed','host_response_rate_cat', 'host_response_time']\n",
    "    for var in cat_vars:\n",
    "        listings = pd.concat([listings.drop(var, axis=1), pd.get_dummies(listings[var], prefix=var, prefix_sep='_', drop_first=True)], axis=1)\n",
    "    \n",
    "    # Create X_price\n",
    "    X_price = listings.copy()\n",
    "    \n",
    "    # Drop the price column + columns with no correlation to the price column\n",
    "    col_drop = ['price', 'id', 'host_id', 'property_type', 'days_reviews', 'instant_bookable', \\\n",
    "                'number_of_reviews', 'days_host', 'host_count']\n",
    "    X_price.drop(col_drop, axis=1, inplace=True)\n",
    "    \n",
    "    # Create y_price using the price column\n",
    "    y_price = listings['price']\n",
    "    \n",
    "    # Create X_review\n",
    "    X_review = listings.copy()\n",
    "    \n",
    "    # Drop the review_scores_rating_cat column + columns with no correlation to the review_scores_rating_cat column\n",
    "    col_drop = ['review_scores_rating_cat', 'id', 'host_id']\n",
    "    X_review.drop(col_drop, axis=1, inplace=True)\n",
    "    \n",
    "    # Create y_review using the review_scores_rating_cat column\n",
    "    y_review = listings['review_scores_rating_cat']\n",
    "\n",
    "    return X_price, y_price, X_review, y_review"
   ]
  },
  {
   "cell_type": "markdown",
   "metadata": {},
   "source": [
    "#### Create new X_price, y_price, X_review, y_review for Use in the Linear Model"
   ]
  },
  {
   "cell_type": "code",
   "execution_count": 22,
   "metadata": {},
   "outputs": [],
   "source": [
    "X_price, y_price, X_review, y_review = ml_prep2(listings)"
   ]
  },
  {
   "cell_type": "code",
   "execution_count": 23,
   "metadata": {
    "scrolled": true
   },
   "outputs": [
    {
     "data": {
      "text/plain": [
       "(44001, 34)"
      ]
     },
     "execution_count": 23,
     "metadata": {},
     "output_type": "execute_result"
    }
   ],
   "source": [
    "X_price.shape"
   ]
  },
  {
   "cell_type": "markdown",
   "metadata": {},
   "source": [
    "#### Split the dataset into training and test sets"
   ]
  },
  {
   "cell_type": "code",
   "execution_count": 24,
   "metadata": {},
   "outputs": [],
   "source": [
    "X_price_train, X_price_test, y_price_train, y_price_test = train_test_split(X_price, y_price, test_size=.3, random_state=42)"
   ]
  },
  {
   "cell_type": "markdown",
   "metadata": {},
   "source": [
    "### Load  train_test_split  /  r2_score  /  mean_squared_error"
   ]
  },
  {
   "cell_type": "code",
   "execution_count": 25,
   "metadata": {},
   "outputs": [],
   "source": [
    "from sklearn.model_selection import train_test_split\n",
    "from sklearn.metrics import r2_score, mean_squared_error     # From regressions in Intro to ML"
   ]
  },
  {
   "cell_type": "markdown",
   "metadata": {},
   "source": [
    "### Load Cross Validate / Create display_scores Function"
   ]
  },
  {
   "cell_type": "code",
   "execution_count": 26,
   "metadata": {},
   "outputs": [],
   "source": [
    "from sklearn.model_selection import cross_validate\n",
    "\n",
    "def display_scores(scores):\n",
    "    print(\"Scores:\", scores)\n",
    "    print(\"Mean:\", scores.mean())\n",
    "    print(\"Standard deviation:\", scores.std())"
   ]
  },
  {
   "cell_type": "markdown",
   "metadata": {},
   "source": [
    "### Instantiate the Linear Model"
   ]
  },
  {
   "cell_type": "code",
   "execution_count": 27,
   "metadata": {},
   "outputs": [
    {
     "data": {
      "text/plain": [
       "'The r-squared score for the model using only quantitative variables was 0.40258344871421625 on 13201 values.'"
      ]
     },
     "execution_count": 27,
     "metadata": {},
     "output_type": "execute_result"
    }
   ],
   "source": [
    "from sklearn.linear_model import LinearRegression\n",
    "\n",
    "# Instantiate the linear regression model\n",
    "lm_model = LinearRegression(normalize=True)\n",
    "\n",
    "# Fit the model to the training data\n",
    "lm_model.fit(X_price_train, y_price_train)\n",
    "        \n",
    "# Predict and score the model\n",
    "y_price_test_preds = lm_model.predict(X_price_test)\n",
    "\"The r-squared score for the model using only quantitative variables was {} on {} values.\".format(r2_score(\n",
    "    y_price_test, y_price_test_preds), len(y_price_test))"
   ]
  },
  {
   "cell_type": "markdown",
   "metadata": {},
   "source": [
    "#### Linear Model RMSE"
   ]
  },
  {
   "cell_type": "code",
   "execution_count": 28,
   "metadata": {},
   "outputs": [
    {
     "data": {
      "text/plain": [
       "29.8685426765004"
      ]
     },
     "execution_count": 28,
     "metadata": {},
     "output_type": "execute_result"
    }
   ],
   "source": [
    "rmse_pred = lm_model.predict(X_price_train)\n",
    "lin_mse = mean_squared_error(y_price_train, rmse_pred)\n",
    "lin_rmse = np.sqrt(lin_mse)\n",
    "lin_rmse"
   ]
  },
  {
   "cell_type": "markdown",
   "metadata": {},
   "source": [
    "#### Score the Linear Model Using Cross Validate"
   ]
  },
  {
   "cell_type": "code",
   "execution_count": 29,
   "metadata": {
    "scrolled": true
   },
   "outputs": [],
   "source": [
    "lin_scores = cross_validate(lm_model, X_price_train, y_price_train,\n",
    "                                scoring=('r2', 'neg_mean_squared_error'), cv=10)"
   ]
  },
  {
   "cell_type": "code",
   "execution_count": 30,
   "metadata": {},
   "outputs": [
    {
     "name": "stdout",
     "output_type": "stream",
     "text": [
      "Scores: [29.37213493 29.75217613 30.1933508  29.63985441 30.47795962 30.53734415\n",
      " 29.68438613 30.47662928 29.48628978 29.45438681]\n",
      "Mean: 29.90745120360709\n",
      "Standard deviation: 0.44075293053013387\n"
     ]
    }
   ],
   "source": [
    "# View the RMSE of the Linear Model Cross Validate scores\n",
    "lin_rmse_scores = np.sqrt(-lin_scores['test_neg_mean_squared_error'])\n",
    "display_scores(lin_rmse_scores)"
   ]
  },
  {
   "cell_type": "code",
   "execution_count": 31,
   "metadata": {
    "scrolled": false
   },
   "outputs": [
    {
     "name": "stdout",
     "output_type": "stream",
     "text": [
      "Scores: [0.40117082 0.43876968 0.40138088 0.41217861 0.42735095 0.39956242\n",
      " 0.42527238 0.41564505 0.41716825 0.42103014]\n",
      "Mean: 0.415952918646861\n",
      "Standard deviation: 0.012159237546447094\n"
     ]
    }
   ],
   "source": [
    "# View the r-squared of the Lasso Cross Validate scores\n",
    "display_scores(lin_scores['test_r2'])"
   ]
  },
  {
   "cell_type": "markdown",
   "metadata": {},
   "source": [
    "#### The Linear Model:\n",
    "\n",
    "- Produced the a mean r-squared score of 0.416 and RMSE of 29.90 which is close to the Lasso and Elastic Net Models."
   ]
  },
  {
   "cell_type": "markdown",
   "metadata": {},
   "source": [
    "***\n",
    "## Random Forest - Price\n",
    "### Instantiate the Random Forest model"
   ]
  },
  {
   "cell_type": "code",
   "execution_count": 32,
   "metadata": {
    "scrolled": true
   },
   "outputs": [
    {
     "data": {
      "text/plain": [
       "RandomForestRegressor(bootstrap=True, ccp_alpha=0.0, criterion='mse',\n",
       "                      max_depth=None, max_features='auto', max_leaf_nodes=None,\n",
       "                      max_samples=None, min_impurity_decrease=0.0,\n",
       "                      min_impurity_split=None, min_samples_leaf=1,\n",
       "                      min_samples_split=2, min_weight_fraction_leaf=0.0,\n",
       "                      n_estimators=100, n_jobs=None, oob_score=False,\n",
       "                      random_state=42, verbose=0, warm_start=False)"
      ]
     },
     "execution_count": 32,
     "metadata": {},
     "output_type": "execute_result"
    }
   ],
   "source": [
    "from sklearn.ensemble import RandomForestRegressor\n",
    "\n",
    "# Instantiate the Forest Model\n",
    "forest_reg = RandomForestRegressor(n_estimators=100, random_state=42)\n",
    "\n",
    "# Fit the Forest Model to the training data\n",
    "forest_reg.fit(X_price_train, y_price_train)"
   ]
  },
  {
   "cell_type": "markdown",
   "metadata": {},
   "source": [
    "### Random Forest RMSE"
   ]
  },
  {
   "cell_type": "code",
   "execution_count": 33,
   "metadata": {},
   "outputs": [
    {
     "data": {
      "text/plain": [
       "13.671679452392413"
      ]
     },
     "execution_count": 33,
     "metadata": {},
     "output_type": "execute_result"
    }
   ],
   "source": [
    "forest_pred = forest_reg.predict(X_price_train)\n",
    "forest_mse = mean_squared_error(y_price_train, forest_pred)\n",
    "forest_rmse = np.sqrt(forest_mse)\n",
    "forest_rmse"
   ]
  },
  {
   "cell_type": "markdown",
   "metadata": {},
   "source": [
    "#### Score the Elastic Net Model Using Cross Validate"
   ]
  },
  {
   "cell_type": "code",
   "execution_count": 34,
   "metadata": {},
   "outputs": [],
   "source": [
    "forest_scores = cross_validate(forest_reg, X_price_train, y_price_train,\n",
    "                                scoring=('r2', 'neg_mean_squared_error'), cv=10)"
   ]
  },
  {
   "cell_type": "code",
   "execution_count": 35,
   "metadata": {},
   "outputs": [
    {
     "name": "stdout",
     "output_type": "stream",
     "text": [
      "Scores: [31.17530693 31.48123664 31.06955092 31.03607102 31.91461702 31.21366642\n",
      " 31.16154403 31.43478193 31.00336591 30.35018787]\n",
      "Mean: 31.184032869128725\n",
      "Standard deviation: 0.3807039902577649\n"
     ]
    }
   ],
   "source": [
    "# View the RMSE of the Elastic Net Cross Validate scores\n",
    "forest_rmse_scores = np.sqrt(-forest_scores['test_neg_mean_squared_error'])\n",
    "display_scores(forest_rmse_scores)"
   ]
  },
  {
   "cell_type": "code",
   "execution_count": 36,
   "metadata": {
    "scrolled": false
   },
   "outputs": [
    {
     "name": "stdout",
     "output_type": "stream",
     "text": [
      "Scores: [0.32538902 0.3716419  0.36613334 0.35549435 0.37209196 0.37267166\n",
      " 0.36664987 0.37832448 0.35565178 0.38527801]\n",
      "Mean: 0.36493263810280724\n",
      "Standard deviation: 0.01578841869263888\n"
     ]
    }
   ],
   "source": [
    "# View the r-squared of the Lasso Cross Validate scores\n",
    "display_scores(forest_scores['test_r2'])"
   ]
  },
  {
   "cell_type": "markdown",
   "metadata": {},
   "source": [
    "#### Grid Search - Forest Model"
   ]
  },
  {
   "cell_type": "code",
   "execution_count": 37,
   "metadata": {},
   "outputs": [
    {
     "data": {
      "text/plain": [
       "\"The best cross-validated r-squared score is 0.37104164494926 on config {'max_features': 8, 'n_estimators': 30}.\""
      ]
     },
     "execution_count": 37,
     "metadata": {},
     "output_type": "execute_result"
    }
   ],
   "source": [
    "from sklearn.model_selection import GridSearchCV\n",
    "\n",
    "# Instantiate the Forest Model\n",
    "forest_reg = RandomForestRegressor(random_state=42)\n",
    "\n",
    "# Define grid search\n",
    "grid_param = [{'n_estimators': [3, 10, 30], 'max_features': [2, 4, 6, 8]}, \\\n",
    "              {'bootstrap': [False], 'n_estimators': [3, 10], 'max_features': [2, 3, 4]},]\n",
    "\n",
    "# train across 5 folds, that's a total of (12+6)*5=90 rounds of training \n",
    "forest_gs = GridSearchCV(forest_reg, grid_param, cv=5, scoring=('r2', 'neg_mean_squared_error'), refit='r2', return_train_score=True)\n",
    "\n",
    "# Perform grid search\n",
    "forest_gs_results = forest_gs.fit(X_price_train, y_price_train)\n",
    "\n",
    "'The best cross-validated r-squared score is {} on config {}.'.format(forest_gs_results.best_score_, forest_gs_results.best_params_)"
   ]
  },
  {
   "cell_type": "code",
   "execution_count": 38,
   "metadata": {
    "scrolled": true
   },
   "outputs": [
    {
     "data": {
      "text/plain": [
       "RandomForestRegressor(bootstrap=True, ccp_alpha=0.0, criterion='mse',\n",
       "                      max_depth=None, max_features=8, max_leaf_nodes=None,\n",
       "                      max_samples=None, min_impurity_decrease=0.0,\n",
       "                      min_impurity_split=None, min_samples_leaf=1,\n",
       "                      min_samples_split=2, min_weight_fraction_leaf=0.0,\n",
       "                      n_estimators=30, n_jobs=None, oob_score=False,\n",
       "                      random_state=42, verbose=0, warm_start=False)"
      ]
     },
     "execution_count": 38,
     "metadata": {},
     "output_type": "execute_result"
    }
   ],
   "source": [
    "forest_gs.best_estimator_"
   ]
  },
  {
   "cell_type": "markdown",
   "metadata": {},
   "source": [
    "The Random Forest Model does not perform better than the Lasso Model. Keeping Lasso model results and moving on to create models based on the review_scores_rating_cat column."
   ]
  },
  {
   "cell_type": "markdown",
   "metadata": {},
   "source": [
    "***\n",
    "<a name=\"evaluation\"></a>\n",
    "## Evaluation\n",
    "The Lasso Model was the best at predicting the Price in the [Modeling](#modeling) section above producing the best scores of all models that were tried. The Lasso model for predicting price achieved the best scores using alpha=0.06. The Lasso model for predicting review score ratings achieved the best scores using alpha=0. This will now be tested using the Test datasets to ensure they perform as expected on unseen data. \n",
    "\n",
    "[Back to Top](#top)"
   ]
  },
  {
   "cell_type": "markdown",
   "metadata": {},
   "source": [
    "<a name=\"eval_price\"></a>\n",
    "\n",
    "### Use the Lasso Model with alpha=0.06 to Predict the PRICE Using Test Data\n",
    "\n",
    "[Back to Top](#top)"
   ]
  },
  {
   "cell_type": "code",
   "execution_count": 39,
   "metadata": {},
   "outputs": [
    {
     "data": {
      "text/plain": [
       "29.910152154996368"
      ]
     },
     "execution_count": 39,
     "metadata": {},
     "output_type": "execute_result"
    }
   ],
   "source": [
    "from sklearn.linear_model import Lasso\n",
    "from sklearn.preprocessing import StandardScaler\n",
    "\n",
    "# Standardize features in Test Data with StandardScaler\n",
    "scaler = StandardScaler()\n",
    "X_price_train_scaler = scaler.fit_transform(X_price_train)\n",
    "X_price_test_scaler = scaler.fit_transform(X_price_test)\n",
    "\n",
    "# Instantiate the Lasso Model\n",
    "lasso_reg_TEST = Lasso(alpha=0.06)     # alpha 0.06 identified in grid search\n",
    "\n",
    "# Fit the Lasso Model to the training data\n",
    "lasso_reg_TEST.fit(X_price_train_scaler, y_price_train)\n",
    "\n",
    "# Lasso model prediction - TEST DATA\n",
    "lasso_pred_TEST = lasso_reg_TEST.predict(X_price_test_scaler)\n",
    "lasso_mse_TEST = mean_squared_error(y_price_test, lasso_pred_TEST)\n",
    "lasso_rmse_TEST = np.sqrt(lasso_mse_TEST)\n",
    "lasso_rmse_TEST"
   ]
  },
  {
   "cell_type": "markdown",
   "metadata": {},
   "source": [
    "#### Find the R-Squared Score for the Test Data Using the Lasso Model with alpha=0.06"
   ]
  },
  {
   "cell_type": "code",
   "execution_count": 40,
   "metadata": {
    "scrolled": true
   },
   "outputs": [
    {
     "data": {
      "text/plain": [
       "'The r-squared score for the Lasso Model on the Test Data was 0.402060099336517 on 13201 values.'"
      ]
     },
     "execution_count": 40,
     "metadata": {},
     "output_type": "execute_result"
    }
   ],
   "source": [
    "'The r-squared score for the Lasso Model on the Test Data was {} on {} values.'.format(r2_score(\n",
    "    y_price_test, lasso_pred_TEST), len(y_price_test))"
   ]
  },
  {
   "cell_type": "markdown",
   "metadata": {},
   "source": [
    "#### Further Exploration of the Coefficients of the Lasso Model - PRICE"
   ]
  },
  {
   "cell_type": "code",
   "execution_count": 41,
   "metadata": {
    "scrolled": false
   },
   "outputs": [
    {
     "data": {
      "text/html": [
       "<div>\n",
       "<style scoped>\n",
       "    .dataframe tbody tr th:only-of-type {\n",
       "        vertical-align: middle;\n",
       "    }\n",
       "\n",
       "    .dataframe tbody tr th {\n",
       "        vertical-align: top;\n",
       "    }\n",
       "\n",
       "    .dataframe thead th {\n",
       "        text-align: right;\n",
       "    }\n",
       "</style>\n",
       "<table border=\"1\" class=\"dataframe\">\n",
       "  <thead>\n",
       "    <tr style=\"text-align: right;\">\n",
       "      <th></th>\n",
       "      <th>est_int</th>\n",
       "      <th>coefs</th>\n",
       "      <th>abs_coefs</th>\n",
       "    </tr>\n",
       "  </thead>\n",
       "  <tbody>\n",
       "    <tr>\n",
       "      <th>2</th>\n",
       "      <td>bedrooms</td>\n",
       "      <td>13.550533</td>\n",
       "      <td>13.550533</td>\n",
       "    </tr>\n",
       "    <tr>\n",
       "      <th>1</th>\n",
       "      <td>accommodates</td>\n",
       "      <td>8.978102</td>\n",
       "      <td>8.978102</td>\n",
       "    </tr>\n",
       "    <tr>\n",
       "      <th>4</th>\n",
       "      <td>availability_365</td>\n",
       "      <td>7.019201</td>\n",
       "      <td>7.019201</td>\n",
       "    </tr>\n",
       "    <tr>\n",
       "      <th>12</th>\n",
       "      <td>neighbourhood_cleansed_Hôtel-de-Ville</td>\n",
       "      <td>3.755685</td>\n",
       "      <td>3.755685</td>\n",
       "    </tr>\n",
       "    <tr>\n",
       "      <th>0</th>\n",
       "      <td>host_is_superhost</td>\n",
       "      <td>3.494208</td>\n",
       "      <td>3.494208</td>\n",
       "    </tr>\n",
       "    <tr>\n",
       "      <th>15</th>\n",
       "      <td>neighbourhood_cleansed_Ménilmontant</td>\n",
       "      <td>-3.439045</td>\n",
       "      <td>3.439045</td>\n",
       "    </tr>\n",
       "    <tr>\n",
       "      <th>23</th>\n",
       "      <td>neighbourhood_cleansed_Temple</td>\n",
       "      <td>3.310546</td>\n",
       "      <td>3.310546</td>\n",
       "    </tr>\n",
       "    <tr>\n",
       "      <th>8</th>\n",
       "      <td>neighbourhood_cleansed_Buttes-Chaumont</td>\n",
       "      <td>-3.287960</td>\n",
       "      <td>3.287960</td>\n",
       "    </tr>\n",
       "    <tr>\n",
       "      <th>14</th>\n",
       "      <td>neighbourhood_cleansed_Luxembourg</td>\n",
       "      <td>3.016581</td>\n",
       "      <td>3.016581</td>\n",
       "    </tr>\n",
       "    <tr>\n",
       "      <th>13</th>\n",
       "      <td>neighbourhood_cleansed_Louvre</td>\n",
       "      <td>2.696781</td>\n",
       "      <td>2.696781</td>\n",
       "    </tr>\n",
       "    <tr>\n",
       "      <th>18</th>\n",
       "      <td>neighbourhood_cleansed_Palais-Bourbon</td>\n",
       "      <td>2.615287</td>\n",
       "      <td>2.615287</td>\n",
       "    </tr>\n",
       "    <tr>\n",
       "      <th>25</th>\n",
       "      <td>neighbourhood_cleansed_Élysée</td>\n",
       "      <td>2.431694</td>\n",
       "      <td>2.431694</td>\n",
       "    </tr>\n",
       "    <tr>\n",
       "      <th>9</th>\n",
       "      <td>neighbourhood_cleansed_Buttes-Montmartre</td>\n",
       "      <td>-2.355987</td>\n",
       "      <td>2.355987</td>\n",
       "    </tr>\n",
       "    <tr>\n",
       "      <th>5</th>\n",
       "      <td>reviews_per_month</td>\n",
       "      <td>-2.263022</td>\n",
       "      <td>2.263022</td>\n",
       "    </tr>\n",
       "    <tr>\n",
       "      <th>7</th>\n",
       "      <td>neighbourhood_cleansed_Bourse</td>\n",
       "      <td>2.212613</td>\n",
       "      <td>2.212613</td>\n",
       "    </tr>\n",
       "    <tr>\n",
       "      <th>20</th>\n",
       "      <td>neighbourhood_cleansed_Passy</td>\n",
       "      <td>2.115766</td>\n",
       "      <td>2.115766</td>\n",
       "    </tr>\n",
       "    <tr>\n",
       "      <th>19</th>\n",
       "      <td>neighbourhood_cleansed_Panthéon</td>\n",
       "      <td>1.716137</td>\n",
       "      <td>1.716137</td>\n",
       "    </tr>\n",
       "    <tr>\n",
       "      <th>22</th>\n",
       "      <td>neighbourhood_cleansed_Reuilly</td>\n",
       "      <td>-1.350054</td>\n",
       "      <td>1.350054</td>\n",
       "    </tr>\n",
       "    <tr>\n",
       "      <th>11</th>\n",
       "      <td>neighbourhood_cleansed_Gobelins</td>\n",
       "      <td>-1.309547</td>\n",
       "      <td>1.309547</td>\n",
       "    </tr>\n",
       "    <tr>\n",
       "      <th>17</th>\n",
       "      <td>neighbourhood_cleansed_Opéra</td>\n",
       "      <td>1.238979</td>\n",
       "      <td>1.238979</td>\n",
       "    </tr>\n",
       "    <tr>\n",
       "      <th>3</th>\n",
       "      <td>beds</td>\n",
       "      <td>1.234182</td>\n",
       "      <td>1.234182</td>\n",
       "    </tr>\n",
       "    <tr>\n",
       "      <th>27</th>\n",
       "      <td>host_response_rate_cat_medium</td>\n",
       "      <td>-1.174487</td>\n",
       "      <td>1.174487</td>\n",
       "    </tr>\n",
       "    <tr>\n",
       "      <th>33</th>\n",
       "      <td>host_response_time_within an hour</td>\n",
       "      <td>-1.136507</td>\n",
       "      <td>1.136507</td>\n",
       "    </tr>\n",
       "    <tr>\n",
       "      <th>26</th>\n",
       "      <td>host_response_rate_cat_low</td>\n",
       "      <td>-1.018282</td>\n",
       "      <td>1.018282</td>\n",
       "    </tr>\n",
       "    <tr>\n",
       "      <th>16</th>\n",
       "      <td>neighbourhood_cleansed_Observatoire</td>\n",
       "      <td>-1.014141</td>\n",
       "      <td>1.014141</td>\n",
       "    </tr>\n",
       "    <tr>\n",
       "      <th>24</th>\n",
       "      <td>neighbourhood_cleansed_Vaugirard</td>\n",
       "      <td>0.927359</td>\n",
       "      <td>0.927359</td>\n",
       "    </tr>\n",
       "    <tr>\n",
       "      <th>32</th>\n",
       "      <td>host_response_time_within a few hours</td>\n",
       "      <td>-0.807219</td>\n",
       "      <td>0.807219</td>\n",
       "    </tr>\n",
       "    <tr>\n",
       "      <th>29</th>\n",
       "      <td>host_response_rate_cat_100%</td>\n",
       "      <td>-0.751441</td>\n",
       "      <td>0.751441</td>\n",
       "    </tr>\n",
       "    <tr>\n",
       "      <th>21</th>\n",
       "      <td>neighbourhood_cleansed_Popincourt</td>\n",
       "      <td>-0.646657</td>\n",
       "      <td>0.646657</td>\n",
       "    </tr>\n",
       "    <tr>\n",
       "      <th>28</th>\n",
       "      <td>host_response_rate_cat_high</td>\n",
       "      <td>-0.500364</td>\n",
       "      <td>0.500364</td>\n",
       "    </tr>\n",
       "    <tr>\n",
       "      <th>6</th>\n",
       "      <td>review_scores_rating_cat</td>\n",
       "      <td>0.477269</td>\n",
       "      <td>0.477269</td>\n",
       "    </tr>\n",
       "    <tr>\n",
       "      <th>10</th>\n",
       "      <td>neighbourhood_cleansed_Entrepôt</td>\n",
       "      <td>-0.278904</td>\n",
       "      <td>0.278904</td>\n",
       "    </tr>\n",
       "    <tr>\n",
       "      <th>30</th>\n",
       "      <td>host_response_time_a few days or more</td>\n",
       "      <td>-0.118859</td>\n",
       "      <td>0.118859</td>\n",
       "    </tr>\n",
       "    <tr>\n",
       "      <th>31</th>\n",
       "      <td>host_response_time_within a day</td>\n",
       "      <td>-0.000000</td>\n",
       "      <td>0.000000</td>\n",
       "    </tr>\n",
       "  </tbody>\n",
       "</table>\n",
       "</div>"
      ],
      "text/plain": [
       "                                     est_int      coefs  abs_coefs\n",
       "2                                   bedrooms  13.550533  13.550533\n",
       "1                               accommodates   8.978102   8.978102\n",
       "4                           availability_365   7.019201   7.019201\n",
       "12     neighbourhood_cleansed_Hôtel-de-Ville   3.755685   3.755685\n",
       "0                          host_is_superhost   3.494208   3.494208\n",
       "15       neighbourhood_cleansed_Ménilmontant  -3.439045   3.439045\n",
       "23             neighbourhood_cleansed_Temple   3.310546   3.310546\n",
       "8     neighbourhood_cleansed_Buttes-Chaumont  -3.287960   3.287960\n",
       "14         neighbourhood_cleansed_Luxembourg   3.016581   3.016581\n",
       "13             neighbourhood_cleansed_Louvre   2.696781   2.696781\n",
       "18     neighbourhood_cleansed_Palais-Bourbon   2.615287   2.615287\n",
       "25             neighbourhood_cleansed_Élysée   2.431694   2.431694\n",
       "9   neighbourhood_cleansed_Buttes-Montmartre  -2.355987   2.355987\n",
       "5                          reviews_per_month  -2.263022   2.263022\n",
       "7              neighbourhood_cleansed_Bourse   2.212613   2.212613\n",
       "20              neighbourhood_cleansed_Passy   2.115766   2.115766\n",
       "19           neighbourhood_cleansed_Panthéon   1.716137   1.716137\n",
       "22            neighbourhood_cleansed_Reuilly  -1.350054   1.350054\n",
       "11           neighbourhood_cleansed_Gobelins  -1.309547   1.309547\n",
       "17              neighbourhood_cleansed_Opéra   1.238979   1.238979\n",
       "3                                       beds   1.234182   1.234182\n",
       "27             host_response_rate_cat_medium  -1.174487   1.174487\n",
       "33         host_response_time_within an hour  -1.136507   1.136507\n",
       "26                host_response_rate_cat_low  -1.018282   1.018282\n",
       "16       neighbourhood_cleansed_Observatoire  -1.014141   1.014141\n",
       "24          neighbourhood_cleansed_Vaugirard   0.927359   0.927359\n",
       "32     host_response_time_within a few hours  -0.807219   0.807219\n",
       "29               host_response_rate_cat_100%  -0.751441   0.751441\n",
       "21         neighbourhood_cleansed_Popincourt  -0.646657   0.646657\n",
       "28               host_response_rate_cat_high  -0.500364   0.500364\n",
       "6                   review_scores_rating_cat   0.477269   0.477269\n",
       "10           neighbourhood_cleansed_Entrepôt  -0.278904   0.278904\n",
       "30     host_response_time_a few days or more  -0.118859   0.118859\n",
       "31           host_response_time_within a day  -0.000000   0.000000"
      ]
     },
     "execution_count": 41,
     "metadata": {},
     "output_type": "execute_result"
    }
   ],
   "source": [
    "def coef_weights(coefficients, X_price_test_scaler):\n",
    "    '''\n",
    "    INPUT:\n",
    "    coefficients - the coefficients of the Lasso model \n",
    "    X_train - the training data, so the column names can be used\n",
    "    OUTPUT:\n",
    "    coefs_df - a dataframe holding the coefficient, estimate, and abs(estimate)\n",
    "    \n",
    "    Provides a dataframe that can be used to understand the most influential coefficients\n",
    "    in a linear model by providing the coefficient estimates along with the name of the \n",
    "    variable attached to the coefficient.\n",
    "    '''\n",
    "    coefs_df = pd.DataFrame()\n",
    "    coefs_df['est_int'] = X_price_test.columns\n",
    "    coefs_df['coefs'] = lasso_reg_TEST.coef_\n",
    "    coefs_df['abs_coefs'] = np.abs(lasso_reg_TEST.coef_)\n",
    "    coefs_df = coefs_df.sort_values('abs_coefs', ascending=False)\n",
    "    return coefs_df\n",
    "\n",
    "#Use the function\n",
    "coef_df = coef_weights(lasso_reg_TEST.coef_, X_price_test_scaler)\n",
    "\n",
    "#A quick look at the top results\n",
    "coef_df.head(55)"
   ]
  },
  {
   "cell_type": "markdown",
   "metadata": {},
   "source": [
    "#### The Lasso Model:\n",
    "\n",
    "- Produced the best r-squared score of 0.41937 and RMSE of 29.91 euro using an alpha of 0.06.\n",
    "- Gave the lowest correlation coefficient to the **property_type** variables.\n",
    "    - This makes sense given that over 90% of the properties are apartments.\n",
    "- Gave a high correlation coefficient to **host_is_superhost** column in relation to the price column.\n",
    "- Gave a low correlation coefficient to **days_reviews** and **instant_bookable** columns in relation to the price column.\n",
    "- The columns with the highest correlation coefficient to the price column are **bedrooms** and **accommodates**.\n",
    "    - This is an obvious correlation that did not need machine learning to figure out (the larger the size the higher the price).\n",
    "- Interestingly, **availability_365** had a high correlation coefficient to price meaning the higher the availabilityis for the next 365 days, the higher the price. This suggests that the higher priced listings are booked less frequently.\n",
    "- The neighborhood with the highest positive correlation coefficient was **Hôtel-de-Ville**.\n",
    "- The neighborhood with the highest negative correlation coefficient was **Ménilmontant**."
   ]
  },
  {
   "cell_type": "markdown",
   "metadata": {},
   "source": [
    "<a name=\"eval_reviews\"></a>\n",
    "\n",
    "### Use the Lasso Model with alpha=0 to Predict the REVIEW SCORE RATING Using Test Data\n",
    "\n",
    "[Back to Top](#top)"
   ]
  },
  {
   "cell_type": "code",
   "execution_count": 42,
   "metadata": {},
   "outputs": [
    {
     "name": "stderr",
     "output_type": "stream",
     "text": [
      "C:\\Users\\Leone\\anaconda3\\lib\\site-packages\\ipykernel_launcher.py:13: UserWarning: With alpha=0, this algorithm does not converge well. You are advised to use the LinearRegression estimator\n",
      "  del sys.path[0]\n",
      "C:\\Users\\Leone\\anaconda3\\lib\\site-packages\\sklearn\\linear_model\\_coordinate_descent.py:476: UserWarning: Coordinate descent with no regularization may lead to unexpected results and is discouraged.\n",
      "  positive)\n",
      "C:\\Users\\Leone\\anaconda3\\lib\\site-packages\\sklearn\\linear_model\\_coordinate_descent.py:476: ConvergenceWarning: Objective did not converge. You might want to increase the number of iterations. Duality gap: 16999.247575153106, tolerance: 4.091305425324616\n",
      "  positive)\n"
     ]
    },
    {
     "data": {
      "text/plain": [
       "1.0536136311037876"
      ]
     },
     "execution_count": 42,
     "metadata": {},
     "output_type": "execute_result"
    }
   ],
   "source": [
    "from sklearn.linear_model import Lasso\n",
    "from sklearn.preprocessing import StandardScaler\n",
    "\n",
    "# Standardize features in Test and Train Data with StandardScaler\n",
    "scaler = StandardScaler()\n",
    "X_review_train_scaler = scaler.fit_transform(X_review_train)\n",
    "X_review_test_scaler = scaler.fit_transform(X_review_test)\n",
    "\n",
    "# Instantiate the Lasso Model\n",
    "lasso_reg_TEST_R = Lasso(alpha=0)     # alpha 0 identified in grid search\n",
    "\n",
    "# Fit the Lasso Model to the training data\n",
    "lasso_reg_TEST_R.fit(X_review_train_scaler, y_review_train)\n",
    "\n",
    "# Lasso model prediction - TEST DATA\n",
    "lasso_pred_TEST_R = lasso_reg_TEST_R.predict(X_review_test_scaler)\n",
    "lasso_mse_TEST_R = mean_squared_error(y_review_test, lasso_pred_TEST_R)\n",
    "lasso_rmse_TEST_R = np.sqrt(lasso_mse_TEST_R)\n",
    "lasso_rmse_TEST_R"
   ]
  },
  {
   "cell_type": "markdown",
   "metadata": {},
   "source": [
    "#### Find the R-Squared Score for the Test Data Using the Lasso Model with alpha=0"
   ]
  },
  {
   "cell_type": "code",
   "execution_count": 43,
   "metadata": {
    "scrolled": true
   },
   "outputs": [
    {
     "data": {
      "text/plain": [
       "'The r-squared score for the Lasso Model on the Test Data was 0.16045806422613107 on 13201 values.'"
      ]
     },
     "execution_count": 43,
     "metadata": {},
     "output_type": "execute_result"
    }
   ],
   "source": [
    "'The r-squared score for the Lasso Model on the Test Data was {} on {} values.'.format(r2_score(\n",
    "    y_review_test, lasso_pred_TEST_R), len(y_review_test))"
   ]
  },
  {
   "cell_type": "markdown",
   "metadata": {},
   "source": [
    "#### Further Exploration of the Coefficients of the Lasso Model - REVIEW SCORE RATINGS"
   ]
  },
  {
   "cell_type": "code",
   "execution_count": 44,
   "metadata": {
    "scrolled": true
   },
   "outputs": [
    {
     "data": {
      "text/html": [
       "<div>\n",
       "<style scoped>\n",
       "    .dataframe tbody tr th:only-of-type {\n",
       "        vertical-align: middle;\n",
       "    }\n",
       "\n",
       "    .dataframe tbody tr th {\n",
       "        vertical-align: top;\n",
       "    }\n",
       "\n",
       "    .dataframe thead th {\n",
       "        text-align: right;\n",
       "    }\n",
       "</style>\n",
       "<table border=\"1\" class=\"dataframe\">\n",
       "  <thead>\n",
       "    <tr style=\"text-align: right;\">\n",
       "      <th></th>\n",
       "      <th>est_int</th>\n",
       "      <th>coefs</th>\n",
       "      <th>abs_coefs</th>\n",
       "    </tr>\n",
       "  </thead>\n",
       "  <tbody>\n",
       "    <tr>\n",
       "      <th>8</th>\n",
       "      <td>reviews_per_month</td>\n",
       "      <td>0.411124</td>\n",
       "      <td>0.411124</td>\n",
       "    </tr>\n",
       "    <tr>\n",
       "      <th>6</th>\n",
       "      <td>number_of_reviews</td>\n",
       "      <td>-0.312453</td>\n",
       "      <td>0.312453</td>\n",
       "    </tr>\n",
       "    <tr>\n",
       "      <th>10</th>\n",
       "      <td>days_reviews</td>\n",
       "      <td>0.270461</td>\n",
       "      <td>0.270461</td>\n",
       "    </tr>\n",
       "    <tr>\n",
       "      <th>5</th>\n",
       "      <td>availability_365</td>\n",
       "      <td>-0.257908</td>\n",
       "      <td>0.257908</td>\n",
       "    </tr>\n",
       "    <tr>\n",
       "      <th>60</th>\n",
       "      <td>host_response_rate_cat_high</td>\n",
       "      <td>-0.133078</td>\n",
       "      <td>0.133078</td>\n",
       "    </tr>\n",
       "    <tr>\n",
       "      <th>9</th>\n",
       "      <td>days_host</td>\n",
       "      <td>0.087480</td>\n",
       "      <td>0.087480</td>\n",
       "    </tr>\n",
       "    <tr>\n",
       "      <th>61</th>\n",
       "      <td>host_response_rate_cat_100%</td>\n",
       "      <td>-0.075343</td>\n",
       "      <td>0.075343</td>\n",
       "    </tr>\n",
       "    <tr>\n",
       "      <th>7</th>\n",
       "      <td>instant_bookable</td>\n",
       "      <td>-0.067698</td>\n",
       "      <td>0.067698</td>\n",
       "    </tr>\n",
       "    <tr>\n",
       "      <th>42</th>\n",
       "      <td>property_type_Entire condominium</td>\n",
       "      <td>-0.053841</td>\n",
       "      <td>0.053841</td>\n",
       "    </tr>\n",
       "    <tr>\n",
       "      <th>38</th>\n",
       "      <td>property_type_Entire apartment</td>\n",
       "      <td>-0.051676</td>\n",
       "      <td>0.051676</td>\n",
       "    </tr>\n",
       "    <tr>\n",
       "      <th>59</th>\n",
       "      <td>host_response_rate_cat_medium</td>\n",
       "      <td>-0.048627</td>\n",
       "      <td>0.048627</td>\n",
       "    </tr>\n",
       "    <tr>\n",
       "      <th>58</th>\n",
       "      <td>host_response_rate_cat_low</td>\n",
       "      <td>-0.040975</td>\n",
       "      <td>0.040975</td>\n",
       "    </tr>\n",
       "    <tr>\n",
       "      <th>64</th>\n",
       "      <td>host_response_time_within a few hours</td>\n",
       "      <td>-0.029948</td>\n",
       "      <td>0.029948</td>\n",
       "    </tr>\n",
       "    <tr>\n",
       "      <th>62</th>\n",
       "      <td>host_response_time_a few days or more</td>\n",
       "      <td>-0.028810</td>\n",
       "      <td>0.028810</td>\n",
       "    </tr>\n",
       "    <tr>\n",
       "      <th>4</th>\n",
       "      <td>price</td>\n",
       "      <td>0.028231</td>\n",
       "      <td>0.028231</td>\n",
       "    </tr>\n",
       "    <tr>\n",
       "      <th>47</th>\n",
       "      <td>property_type_Entire house</td>\n",
       "      <td>-0.027106</td>\n",
       "      <td>0.027106</td>\n",
       "    </tr>\n",
       "    <tr>\n",
       "      <th>48</th>\n",
       "      <td>property_type_Entire loft</td>\n",
       "      <td>-0.026304</td>\n",
       "      <td>0.026304</td>\n",
       "    </tr>\n",
       "    <tr>\n",
       "      <th>0</th>\n",
       "      <td>host_is_superhost</td>\n",
       "      <td>0.022314</td>\n",
       "      <td>0.022314</td>\n",
       "    </tr>\n",
       "    <tr>\n",
       "      <th>26</th>\n",
       "      <td>neighbourhood_cleansed_Popincourt</td>\n",
       "      <td>0.022173</td>\n",
       "      <td>0.022173</td>\n",
       "    </tr>\n",
       "    <tr>\n",
       "      <th>63</th>\n",
       "      <td>host_response_time_within a day</td>\n",
       "      <td>-0.021607</td>\n",
       "      <td>0.021607</td>\n",
       "    </tr>\n",
       "    <tr>\n",
       "      <th>25</th>\n",
       "      <td>neighbourhood_cleansed_Passy</td>\n",
       "      <td>-0.020959</td>\n",
       "      <td>0.020959</td>\n",
       "    </tr>\n",
       "    <tr>\n",
       "      <th>11</th>\n",
       "      <td>host_count</td>\n",
       "      <td>-0.020952</td>\n",
       "      <td>0.020952</td>\n",
       "    </tr>\n",
       "    <tr>\n",
       "      <th>43</th>\n",
       "      <td>property_type_Entire cottage</td>\n",
       "      <td>-0.017427</td>\n",
       "      <td>0.017427</td>\n",
       "    </tr>\n",
       "    <tr>\n",
       "      <th>37</th>\n",
       "      <td>property_type_Earth house</td>\n",
       "      <td>-0.017331</td>\n",
       "      <td>0.017331</td>\n",
       "    </tr>\n",
       "    <tr>\n",
       "      <th>34</th>\n",
       "      <td>property_type_Casa particular</td>\n",
       "      <td>-0.015023</td>\n",
       "      <td>0.015023</td>\n",
       "    </tr>\n",
       "    <tr>\n",
       "      <th>30</th>\n",
       "      <td>neighbourhood_cleansed_Élysée</td>\n",
       "      <td>-0.014913</td>\n",
       "      <td>0.014913</td>\n",
       "    </tr>\n",
       "    <tr>\n",
       "      <th>19</th>\n",
       "      <td>neighbourhood_cleansed_Luxembourg</td>\n",
       "      <td>-0.014621</td>\n",
       "      <td>0.014621</td>\n",
       "    </tr>\n",
       "    <tr>\n",
       "      <th>14</th>\n",
       "      <td>neighbourhood_cleansed_Buttes-Montmartre</td>\n",
       "      <td>0.013230</td>\n",
       "      <td>0.013230</td>\n",
       "    </tr>\n",
       "    <tr>\n",
       "      <th>40</th>\n",
       "      <td>property_type_Entire bungalow</td>\n",
       "      <td>-0.012749</td>\n",
       "      <td>0.012749</td>\n",
       "    </tr>\n",
       "    <tr>\n",
       "      <th>18</th>\n",
       "      <td>neighbourhood_cleansed_Louvre</td>\n",
       "      <td>-0.012675</td>\n",
       "      <td>0.012675</td>\n",
       "    </tr>\n",
       "    <tr>\n",
       "      <th>65</th>\n",
       "      <td>host_response_time_within an hour</td>\n",
       "      <td>0.012594</td>\n",
       "      <td>0.012594</td>\n",
       "    </tr>\n",
       "    <tr>\n",
       "      <th>29</th>\n",
       "      <td>neighbourhood_cleansed_Vaugirard</td>\n",
       "      <td>0.011803</td>\n",
       "      <td>0.011803</td>\n",
       "    </tr>\n",
       "    <tr>\n",
       "      <th>20</th>\n",
       "      <td>neighbourhood_cleansed_Ménilmontant</td>\n",
       "      <td>0.011617</td>\n",
       "      <td>0.011617</td>\n",
       "    </tr>\n",
       "    <tr>\n",
       "      <th>3</th>\n",
       "      <td>beds</td>\n",
       "      <td>-0.011506</td>\n",
       "      <td>0.011506</td>\n",
       "    </tr>\n",
       "    <tr>\n",
       "      <th>22</th>\n",
       "      <td>neighbourhood_cleansed_Opéra</td>\n",
       "      <td>0.010810</td>\n",
       "      <td>0.010810</td>\n",
       "    </tr>\n",
       "    <tr>\n",
       "      <th>36</th>\n",
       "      <td>property_type_Dome house</td>\n",
       "      <td>-0.010204</td>\n",
       "      <td>0.010204</td>\n",
       "    </tr>\n",
       "    <tr>\n",
       "      <th>12</th>\n",
       "      <td>neighbourhood_cleansed_Bourse</td>\n",
       "      <td>-0.009808</td>\n",
       "      <td>0.009808</td>\n",
       "    </tr>\n",
       "    <tr>\n",
       "      <th>21</th>\n",
       "      <td>neighbourhood_cleansed_Observatoire</td>\n",
       "      <td>0.009568</td>\n",
       "      <td>0.009568</td>\n",
       "    </tr>\n",
       "    <tr>\n",
       "      <th>57</th>\n",
       "      <td>property_type_Tiny house</td>\n",
       "      <td>-0.009433</td>\n",
       "      <td>0.009433</td>\n",
       "    </tr>\n",
       "    <tr>\n",
       "      <th>13</th>\n",
       "      <td>neighbourhood_cleansed_Buttes-Chaumont</td>\n",
       "      <td>0.008447</td>\n",
       "      <td>0.008447</td>\n",
       "    </tr>\n",
       "    <tr>\n",
       "      <th>15</th>\n",
       "      <td>neighbourhood_cleansed_Entrepôt</td>\n",
       "      <td>0.008203</td>\n",
       "      <td>0.008203</td>\n",
       "    </tr>\n",
       "    <tr>\n",
       "      <th>1</th>\n",
       "      <td>accommodates</td>\n",
       "      <td>0.007925</td>\n",
       "      <td>0.007925</td>\n",
       "    </tr>\n",
       "    <tr>\n",
       "      <th>51</th>\n",
       "      <td>property_type_Entire townhouse</td>\n",
       "      <td>-0.007741</td>\n",
       "      <td>0.007741</td>\n",
       "    </tr>\n",
       "    <tr>\n",
       "      <th>24</th>\n",
       "      <td>neighbourhood_cleansed_Panthéon</td>\n",
       "      <td>0.007552</td>\n",
       "      <td>0.007552</td>\n",
       "    </tr>\n",
       "    <tr>\n",
       "      <th>56</th>\n",
       "      <td>property_type_Room in boutique hotel</td>\n",
       "      <td>0.006880</td>\n",
       "      <td>0.006880</td>\n",
       "    </tr>\n",
       "    <tr>\n",
       "      <th>16</th>\n",
       "      <td>neighbourhood_cleansed_Gobelins</td>\n",
       "      <td>0.006716</td>\n",
       "      <td>0.006716</td>\n",
       "    </tr>\n",
       "    <tr>\n",
       "      <th>27</th>\n",
       "      <td>neighbourhood_cleansed_Reuilly</td>\n",
       "      <td>0.006049</td>\n",
       "      <td>0.006049</td>\n",
       "    </tr>\n",
       "    <tr>\n",
       "      <th>50</th>\n",
       "      <td>property_type_Entire serviced apartment</td>\n",
       "      <td>-0.005256</td>\n",
       "      <td>0.005256</td>\n",
       "    </tr>\n",
       "    <tr>\n",
       "      <th>28</th>\n",
       "      <td>neighbourhood_cleansed_Temple</td>\n",
       "      <td>0.004458</td>\n",
       "      <td>0.004458</td>\n",
       "    </tr>\n",
       "    <tr>\n",
       "      <th>44</th>\n",
       "      <td>property_type_Entire guest suite</td>\n",
       "      <td>-0.004342</td>\n",
       "      <td>0.004342</td>\n",
       "    </tr>\n",
       "    <tr>\n",
       "      <th>52</th>\n",
       "      <td>property_type_Entire villa</td>\n",
       "      <td>0.004013</td>\n",
       "      <td>0.004013</td>\n",
       "    </tr>\n",
       "    <tr>\n",
       "      <th>23</th>\n",
       "      <td>neighbourhood_cleansed_Palais-Bourbon</td>\n",
       "      <td>-0.003988</td>\n",
       "      <td>0.003988</td>\n",
       "    </tr>\n",
       "    <tr>\n",
       "      <th>46</th>\n",
       "      <td>property_type_Entire home/apt</td>\n",
       "      <td>0.003098</td>\n",
       "      <td>0.003098</td>\n",
       "    </tr>\n",
       "    <tr>\n",
       "      <th>2</th>\n",
       "      <td>bedrooms</td>\n",
       "      <td>0.002616</td>\n",
       "      <td>0.002616</td>\n",
       "    </tr>\n",
       "    <tr>\n",
       "      <th>33</th>\n",
       "      <td>property_type_Campsite</td>\n",
       "      <td>-0.002466</td>\n",
       "      <td>0.002466</td>\n",
       "    </tr>\n",
       "  </tbody>\n",
       "</table>\n",
       "</div>"
      ],
      "text/plain": [
       "                                     est_int     coefs  abs_coefs\n",
       "8                          reviews_per_month  0.411124   0.411124\n",
       "6                          number_of_reviews -0.312453   0.312453\n",
       "10                              days_reviews  0.270461   0.270461\n",
       "5                           availability_365 -0.257908   0.257908\n",
       "60               host_response_rate_cat_high -0.133078   0.133078\n",
       "9                                  days_host  0.087480   0.087480\n",
       "61               host_response_rate_cat_100% -0.075343   0.075343\n",
       "7                           instant_bookable -0.067698   0.067698\n",
       "42          property_type_Entire condominium -0.053841   0.053841\n",
       "38            property_type_Entire apartment -0.051676   0.051676\n",
       "59             host_response_rate_cat_medium -0.048627   0.048627\n",
       "58                host_response_rate_cat_low -0.040975   0.040975\n",
       "64     host_response_time_within a few hours -0.029948   0.029948\n",
       "62     host_response_time_a few days or more -0.028810   0.028810\n",
       "4                                      price  0.028231   0.028231\n",
       "47                property_type_Entire house -0.027106   0.027106\n",
       "48                 property_type_Entire loft -0.026304   0.026304\n",
       "0                          host_is_superhost  0.022314   0.022314\n",
       "26         neighbourhood_cleansed_Popincourt  0.022173   0.022173\n",
       "63           host_response_time_within a day -0.021607   0.021607\n",
       "25              neighbourhood_cleansed_Passy -0.020959   0.020959\n",
       "11                                host_count -0.020952   0.020952\n",
       "43              property_type_Entire cottage -0.017427   0.017427\n",
       "37                 property_type_Earth house -0.017331   0.017331\n",
       "34             property_type_Casa particular -0.015023   0.015023\n",
       "30             neighbourhood_cleansed_Élysée -0.014913   0.014913\n",
       "19         neighbourhood_cleansed_Luxembourg -0.014621   0.014621\n",
       "14  neighbourhood_cleansed_Buttes-Montmartre  0.013230   0.013230\n",
       "40             property_type_Entire bungalow -0.012749   0.012749\n",
       "18             neighbourhood_cleansed_Louvre -0.012675   0.012675\n",
       "65         host_response_time_within an hour  0.012594   0.012594\n",
       "29          neighbourhood_cleansed_Vaugirard  0.011803   0.011803\n",
       "20       neighbourhood_cleansed_Ménilmontant  0.011617   0.011617\n",
       "3                                       beds -0.011506   0.011506\n",
       "22              neighbourhood_cleansed_Opéra  0.010810   0.010810\n",
       "36                  property_type_Dome house -0.010204   0.010204\n",
       "12             neighbourhood_cleansed_Bourse -0.009808   0.009808\n",
       "21       neighbourhood_cleansed_Observatoire  0.009568   0.009568\n",
       "57                  property_type_Tiny house -0.009433   0.009433\n",
       "13    neighbourhood_cleansed_Buttes-Chaumont  0.008447   0.008447\n",
       "15           neighbourhood_cleansed_Entrepôt  0.008203   0.008203\n",
       "1                               accommodates  0.007925   0.007925\n",
       "51            property_type_Entire townhouse -0.007741   0.007741\n",
       "24           neighbourhood_cleansed_Panthéon  0.007552   0.007552\n",
       "56      property_type_Room in boutique hotel  0.006880   0.006880\n",
       "16           neighbourhood_cleansed_Gobelins  0.006716   0.006716\n",
       "27            neighbourhood_cleansed_Reuilly  0.006049   0.006049\n",
       "50   property_type_Entire serviced apartment -0.005256   0.005256\n",
       "28             neighbourhood_cleansed_Temple  0.004458   0.004458\n",
       "44          property_type_Entire guest suite -0.004342   0.004342\n",
       "52                property_type_Entire villa  0.004013   0.004013\n",
       "23     neighbourhood_cleansed_Palais-Bourbon -0.003988   0.003988\n",
       "46             property_type_Entire home/apt  0.003098   0.003098\n",
       "2                                   bedrooms  0.002616   0.002616\n",
       "33                    property_type_Campsite -0.002466   0.002466"
      ]
     },
     "execution_count": 44,
     "metadata": {},
     "output_type": "execute_result"
    }
   ],
   "source": [
    "def coef_weights_R(coefficients, X_review_test_scaler):\n",
    "    '''\n",
    "    INPUT:\n",
    "    coefficients - the coefficients of the Lasso model \n",
    "    X_train - the training data, so the column names can be used\n",
    "    OUTPUT:\n",
    "    coefs_df - a dataframe holding the coefficient, estimate, and abs(estimate)\n",
    "    \n",
    "    Provides a dataframe that can be used to understand the most influential coefficients\n",
    "    in a linear model by providing the coefficient estimates along with the name of the \n",
    "    variable attached to the coefficient.\n",
    "    '''\n",
    "    coefs_df_R = pd.DataFrame()\n",
    "    coefs_df_R['est_int'] = X_review_test.columns\n",
    "    coefs_df_R['coefs'] = lasso_reg_TEST_R.coef_\n",
    "    coefs_df_R['abs_coefs'] = np.abs(lasso_reg_TEST_R.coef_)\n",
    "    coefs_df_R = coefs_df_R.sort_values('abs_coefs', ascending=False)\n",
    "    return coefs_df_R\n",
    "\n",
    "#Use the function\n",
    "coef_df_R = coef_weights_R(lasso_reg_TEST_R.coef_, X_review_test_scaler)\n",
    "\n",
    "#A quick look at the top results\n",
    "coef_df_R.head(55)"
   ]
  },
  {
   "cell_type": "markdown",
   "metadata": {},
   "source": [
    "#### The Lasso Model for Review Score Rating:\n",
    "\n",
    "- Produced the best r-squared score of 0.1605 and RMSE of 1.05 (on a rating scale of just 1-5) using an alpha of 0.\n",
    "    - These are very low scores meaning this model is not reliable. It will not be used.\n",
    "- Gave mostly insignificant results.\n",
    "    - Highest positive correlation coefficient to the **reviews_per_month** variable.\n",
    "    - Highest negative correlation coefficient to the **number_of_reviews** variable.\n",
    "    - Interestingly, the model found negative correlations with the **number_of_reviews**, **availability_365**, **host_response_rate_cat**, **instant_bookable**, and most of the **neighbourhood_cleansed** columns."
   ]
  },
  {
   "cell_type": "markdown",
   "metadata": {},
   "source": [
    "***\n",
    "<a name=\"deployment\"></a>\n",
    "## Deployment\n",
    "\n",
    "Results of this data science project's business questions are below. Please see the corresponding blog post on Medium and the Tableau dashboard for further analysis.\n",
    "\n",
    "[Back to Top](#top)"
   ]
  },
  {
   "cell_type": "markdown",
   "metadata": {},
   "source": [
    "### Business Questions"
   ]
  },
  {
   "cell_type": "markdown",
   "metadata": {},
   "source": [
    "1. **Can we create a model that accurately predicts the price or review score based on features in this dataset?**\n",
    "    - We created a model that predicts the Price decently using lasso regression.\n",
    "        - On our Test dataset, the Lasso Model for Price was able to accurately predict the price **40%** of the time which is not great but is still fairly decent considering the nature of Airbnb listings.\n",
    "        - The Lasso Model had an **RMSE of 29 euro** on our Test dataset using alpha=0.06.\n",
    "    - No model was found to reliably predict the review score ratings.\n",
    "        - The Lasso Model for Reviews was only able to predict the review score rating **16%** of the time on our Test dataset and scores an **RMSE of 1.05** (on a rating scale of just 1-5) using alpha=0.\n",
    "    - With more feature engineering, model selection, and hyperparameter tuning it is entirely possible to improve upon the scores of our Lasso Models for Price and Reviews.\n",
    "    - Evaluating each listings distance to major attractions and Metro stations in Paris would be another way to boost prediction scores."
   ]
  },
  {
   "cell_type": "markdown",
   "metadata": {},
   "source": [
    "2. **Which listing features have the strongest correlations to 'price'?**\n",
    "    - We found the answer to this question in the Data Understanding and in the Modeling sections above.\n",
    "    - The Pandas corr() function was used to compute correlation of the quantitative variables in the listings dataframe to Price and found these to be the top correlations:\n",
    "        - **bedrooms** with a correlation of **0.501716**\n",
    "        - **accommodates** with a correlation of **0.483256**\n",
    "        - **beds** with a correlation of **0.427846**\n",
    "        - **availability_365** with a correlation of **0.230452**\n",
    "    - Additionally, the Price Lasso Model evaluated all features and found the top correlations to Price to be:\n",
    "        - **bedrooms**\twith a correlation coefficient of **13.550533**\n",
    "        - **accommodates**\twith a correlation coefficient of **8.978102**\n",
    "        - **availability_365**\twith a correlation coefficient of **7.019201**\n",
    "        - **neighbourhood_cleansed_Hôtel-de-Ville**\twith a correlation coefficient of **3.755685**     - TOP NEIGHBORHOOD\n",
    "        - **neighbourhood_cleansed_Ménilmontant**\twith a correlation coefficient of **-3.439045**     - WORST NEIGHBORHOOD\n",
    "        - **host_is_superhost**\twith a correlation coefficient of **3.494208**"
   ]
  },
  {
   "cell_type": "markdown",
   "metadata": {},
   "source": [
    "3. **Which listing variables have the strongest correlations to 'review_scores_rating'?**\n",
    "    - The answer to this question was also found in the Data Understanding and Modeling sections above.\n",
    "    - The Pandas corr() function was used to compute correlation of the quantitative variables in the listings dataframe to Review Score Ratings and found these to be the best correlations:\n",
    "        - **reviews_per_month** with a correlation of **0.739930**\n",
    "        - **days_reviews** with a correlation of **0.626292**\n",
    "    - Additionally, the Reviews Lasso Model evaluated all features and found the top 5 correlations to Review Scores Rating to be:\n",
    "        - **reviews_per_month**\twith a correlation coefficient of **0.411124** \n",
    "        - **number_of_reviews**\twith a correlation coefficient of **-0.312453** - NEGATIVE CORRELATION\n",
    "        - **days_reviews**\twith a correlation coefficient of **0.270461**\n",
    "        - **availability_365**\twith a correlation coefficient of **-0.257908** - NEGATIVE CORRELATION\n",
    "        - **host_response_rate_cat_high**\twith a correlation coefficient of **-0.133078** - NEGATIVE CORRELATION"
   ]
  },
  {
   "cell_type": "markdown",
   "metadata": {},
   "source": [
    "4. **Which Paris neighborhoods have the highest average listing price?**\n",
    "    - The top 5 Neighborhoods by average listing price are:\n",
    "        - **Hôtel-de-Ville**  -  109.09 euro\n",
    "        - **Louvre**  -  107.11 euro\n",
    "        - **Élysée**  -  105.87 euro\n",
    "        - **Luxembourg**  -  104.50 euro\n",
    "        - **Temple**  -  103.63 euro\n",
    "    - The bottom 5 Neighborhoods by average listing price are:\n",
    "        - **Reuilly**  -  80.82 euro\n",
    "        - **Gobelins**  -  80.07 euro\n",
    "        - **Buttes-Montmartre**  -  78.36 euro\n",
    "        - **Buttes-Chaumont**  -  74.64 euro\n",
    "        - **Ménilmontant**  -  72.34 euro"
   ]
  },
  {
   "cell_type": "code",
   "execution_count": 45,
   "metadata": {},
   "outputs": [
    {
     "data": {
      "text/plain": [
       "neighbourhood_cleansed\n",
       "Hôtel-de-Ville         109.09\n",
       "Louvre                 107.11\n",
       "Élysée                 105.87\n",
       "Luxembourg             104.50\n",
       "Temple                 103.63\n",
       "Bourse                 101.14\n",
       "Palais-Bourbon         100.73\n",
       "Passy                   97.31\n",
       "Panthéon                97.13\n",
       "Opéra                   92.66\n",
       "Vaugirard               90.15\n",
       "Entrepôt                87.25\n",
       "Batignolles-Monceau     85.71\n",
       "Popincourt              83.25\n",
       "Observatoire            82.82\n",
       "Reuilly                 80.82\n",
       "Gobelins                80.07\n",
       "Buttes-Montmartre       78.36\n",
       "Buttes-Chaumont         74.64\n",
       "Ménilmontant            72.34\n",
       "Name: price, dtype: float64"
      ]
     },
     "execution_count": 45,
     "metadata": {},
     "output_type": "execute_result"
    }
   ],
   "source": [
    "price_hood = listings.groupby('neighbourhood_cleansed')['price'].mean().round(2).sort_values(ascending=False)\n",
    "price_hood"
   ]
  },
  {
   "cell_type": "code",
   "execution_count": 47,
   "metadata": {},
   "outputs": [
    {
     "data": {
      "image/png": "[encoded data removed]",
      "text/plain": [
       "<Figure size 720x576 with 1 Axes>"
      ]
     },
     "metadata": {
      "needs_background": "light"
     },
     "output_type": "display_data"
    }
   ],
   "source": [
    "ax = price_hood.plot(kind='barh', figsize=(10, 8), zorder=2, width=0.85)\n",
    "\n",
    "# Despine\n",
    "ax.spines['right'].set_visible(False)\n",
    "ax.spines['top'].set_visible(False)\n",
    "ax.spines['left'].set_visible(False)\n",
    "ax.spines['bottom'].set_visible(False)\n",
    "\n",
    "# Switch off ticks\n",
    "ax.tick_params(axis=\"both\", which=\"both\", bottom=\"off\", top=\"off\", labelbottom=\"on\", left=\"off\", right=\"off\", labelleft=\"on\")\n",
    "\n",
    "# Draw vertical axis lines\n",
    "vals = ax.get_xticks()\n",
    "for tick in vals:\n",
    "    ax.axvline(x=tick, linestyle='dashed', alpha=0.4, color='#eeeeee', zorder=1)\n",
    "\n",
    "# Set y-axis label\n",
    "ax.set_ylabel('')\n",
    "    \n",
    "# Set x-axis label\n",
    "ax.set_xlabel('Price', size=12)\n",
    "\n",
    "# Set title\n",
    "ax.set_title('Average Price of Airbnb \"Entire Place\" Listings - 02/14/21', size=14)\n",
    "\n",
    "# Sort in decending order\n",
    "ax.invert_yaxis()\n",
    "\n",
    "plt.savefig('Price_Hood', bbox_inches='tight');"
   ]
  },
  {
   "cell_type": "markdown",
   "metadata": {},
   "source": [
    "5. **Which Paris neighborhoods have the most/least amount of listings?** Do the neighborhoods with fewer listings have higher average listing prices?\n",
    "    - The top 5 Neighborhoods by number of listings are:\n",
    "        - **Buttes-Montmartre**  -  5244 listings\n",
    "        - **Popincourt**  -  4628 listings\n",
    "        - **Entrepôt**  -  3279 listings\n",
    "        - **Vaugirard**  -  3249 listings\n",
    "        - **Batignolles-Monceau**  -  2882 listings\n",
    "    - The 5 Neighborhoods with the fewest listings are:\n",
    "        - **Hôtel-de-Ville**  -  1398 listings\n",
    "        - **Luxembourg**  -  1141 listings\n",
    "        - **Palais-Bourbon**  -  1097 listings\n",
    "        - **Élysée**  -  929 listings\n",
    "        - **Louvre**  -  870 listings\n",
    "    - Comparing the counts of listings per neighborhood with the average prices per neighborhood we can see that:\n",
    "        - 4 of the neighborhoods with fewer listings rank in the top 5 in terms of highest average listing price.\n",
    "            - **Hôtel-de-Ville**  -  109.09 euro\n",
    "            - **Louvre**  -  107.11 euro\n",
    "            - **Élysée**  -  105.87 euro\n",
    "            - **Luxembourg**  -  104.50 euro\n",
    "        - Conversely, 1 neighborhood (**Buttes-Montmartre**  -  78.36 euro) is in the top 5 in terns of number of listings is in the bottom 5 in terms of average listing price."
   ]
  },
  {
   "cell_type": "code",
   "execution_count": 48,
   "metadata": {},
   "outputs": [
    {
     "data": {
      "text/plain": [
       "Buttes-Montmartre      5244\n",
       "Popincourt             4628\n",
       "Entrepôt               3279\n",
       "Vaugirard              3249\n",
       "Batignolles-Monceau    2882\n",
       "Ménilmontant           2639\n",
       "Buttes-Chaumont        2542\n",
       "Temple                 2161\n",
       "Opéra                  1985\n",
       "Passy                  1946\n",
       "Reuilly                1861\n",
       "Observatoire           1674\n",
       "Bourse                 1531\n",
       "Gobelins               1485\n",
       "Panthéon               1460\n",
       "Hôtel-de-Ville         1398\n",
       "Luxembourg             1141\n",
       "Palais-Bourbon         1097\n",
       "Élysée                  929\n",
       "Louvre                  870\n",
       "Name: neighbourhood_cleansed, dtype: int64"
      ]
     },
     "execution_count": 48,
     "metadata": {},
     "output_type": "execute_result"
    }
   ],
   "source": [
    "list_counts = listings['neighbourhood_cleansed'].value_counts()\n",
    "list_counts"
   ]
  },
  {
   "cell_type": "code",
   "execution_count": 49,
   "metadata": {},
   "outputs": [
    {
     "data": {
      "image/png": "[encoded data removed]",
      "text/plain": [
       "<Figure size 720x576 with 1 Axes>"
      ]
     },
     "metadata": {
      "needs_background": "light"
     },
     "output_type": "display_data"
    }
   ],
   "source": [
    "ax = list_counts.plot(kind='barh', figsize=(10, 8), zorder=2, width=0.85)\n",
    "\n",
    "# Despine\n",
    "ax.spines['right'].set_visible(False)\n",
    "ax.spines['top'].set_visible(False)\n",
    "ax.spines['left'].set_visible(False)\n",
    "ax.spines['bottom'].set_visible(False)\n",
    "\n",
    "# Switch off ticks\n",
    "ax.tick_params(axis=\"both\", which=\"both\", bottom=\"off\", top=\"off\", labelbottom=\"on\", left=\"off\", right=\"off\", labelleft=\"on\")\n",
    "\n",
    "# Draw vertical axis lines\n",
    "vals = ax.get_xticks()\n",
    "for tick in vals:\n",
    "    ax.axvline(x=tick, linestyle='dashed', alpha=0.4, color='#eeeeee', zorder=1)\n",
    "\n",
    "# Set x-axis label\n",
    "ax.set_xlabel('Listing Counts', size=12)\n",
    "\n",
    "# Set title\n",
    "ax.set_title('Count of Airbnb \"Entire Place\" Listings - 02/14/21', size=14)\n",
    "\n",
    "# Sort in decending order\n",
    "ax.invert_yaxis()\n",
    "\n",
    "plt.savefig('List_Count', bbox_inches='tight');"
   ]
  },
  {
   "cell_type": "markdown",
   "metadata": {},
   "source": [
    "6. **Are there times of the year that listing prices increase or decrease?**\n",
    "    - This answer was found in the Data Understanding section when we explored the Calendar dataset.\n",
    "        - Hosts seem to lower the price on unbooked listings a month or two out from the current date.\n",
    "        - The average price is higher the further out that you go in terms of days.\n",
    "        - There is a peak in December for the very busy holiday season in Paris.\n",
    "        - There is another peak in June as the summer tourist season ramps up going into July for Bastille day."
   ]
  },
  {
   "cell_type": "markdown",
   "metadata": {},
   "source": [
    "#### Prepare the Calendar data for visualization"
   ]
  },
  {
   "cell_type": "code",
   "execution_count": 51,
   "metadata": {},
   "outputs": [],
   "source": [
    "# Initial load of calendar.csv file to explore the data\n",
    "calendar = pd.read_csv('./calendar.csv')\n",
    "\n",
    "# Converting date column to datetime\n",
    "calendar['date'] = pd.to_datetime(calendar['date'], yearfirst=True)\n",
    "\n",
    "# Remove $ and ',' from the price column\n",
    "price = ['price']\n",
    "# Clean up the $ and .00\n",
    "for col in price:\n",
    "    calendar.loc[:, col] = calendar[col].str.strip('$').str.replace(',', '').apply(float)\n",
    "\n",
    "calendar_final = calendar[['listing_id', 'date', 'price']]\n",
    "\n",
    "# Filter calendar_final for just the listings being reviewed in the listings dataframe\n",
    "listings_ids = listings['id']\n",
    "calendar_final = calendar_final[calendar_final.listing_id.isin(listings_ids)]\n",
    "\n",
    "# Filter by date range so that the visualization uses only days that have the full range of data\n",
    "calendar_final = calendar_final[(calendar_final['date'] > '2021-02-13') & (calendar_final['date'] < '2022-02-12')]"
   ]
  },
  {
   "cell_type": "markdown",
   "metadata": {},
   "source": [
    "#### Visualize the Average Price Over the Next Year"
   ]
  },
  {
   "cell_type": "code",
   "execution_count": 52,
   "metadata": {},
   "outputs": [
    {
     "data": {
      "image/png": "[encoded data removed]",
      "text/plain": [
       "<Figure size 1080x792 with 1 Axes>"
      ]
     },
     "metadata": {
      "needs_background": "light"
     },
     "output_type": "display_data"
    }
   ],
   "source": [
    "fig, ax = plt.subplots(figsize=(15, 11))\n",
    "price_by_date = calendar_final.groupby(['date'])['price'].mean()\n",
    "\n",
    "plt.subplot(211)\n",
    "\n",
    "# Resample time series to weekly for easier visualization\n",
    "price_by_date.resample('W').mean().plot()\n",
    "\n",
    "plt.xlabel('Date')\n",
    "plt.ylabel('Price')\n",
    "plt.title('AVG Nightly Price:  February 13, 2021 - February 13, 2022')\n",
    "\n",
    "plt.savefig('AVG_List_Price', bbox_inches='tight');"
   ]
  },
  {
   "cell_type": "markdown",
   "metadata": {},
   "source": [
    "<a name=\"export\"></a>\n",
    "## Export Data for Tableau\n",
    "The Tableau visualization can be found [here](https://public.tableau.com/views/ParisAirbnbAnalysis/Eiffel?:language=en&:display_count=y&publish=yes&:origin=viz_share_link).\n",
    "\n",
    "[Back to Top](#top)"
   ]
  },
  {
   "cell_type": "code",
   "execution_count": 53,
   "metadata": {},
   "outputs": [],
   "source": [
    "# Saving the listings dataframe to an Excel file for further expooration in Tableau\n",
    "listings.to_excel('listings.xlsx')"
   ]
  },
  {
   "cell_type": "code",
   "execution_count": 54,
   "metadata": {},
   "outputs": [],
   "source": [
    "# Saving the calendar_final dataframe to an Excel file for further expooration in Tableau\n",
    "calendar_final.to_csv('calendar-export.csv')"
   ]
  }
 ],
 "metadata": {
  "kernelspec": {
   "display_name": "Python 3",
   "language": "python",
   "name": "python3"
  },
  "language_info": {
   "codemirror_mode": {
    "name": "ipython",
    "version": 3
   },
   "file_extension": ".py",
   "mimetype": "text/x-python",
   "name": "python",
   "nbconvert_exporter": "python",
   "pygments_lexer": "ipython3",
   "version": "3.7.6"
  }
 },
 "nbformat": 4,
 "nbformat_minor": 2
}
